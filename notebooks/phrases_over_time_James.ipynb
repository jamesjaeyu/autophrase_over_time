{
 "cells": [
  {
   "cell_type": "markdown",
   "id": "fc3d48ab",
   "metadata": {},
   "source": [
    "# Using phrasal segmentation results to analyze phrases over time"
   ]
  },
  {
   "cell_type": "code",
   "execution_count": 12,
   "id": "b692e19a",
   "metadata": {},
   "outputs": [],
   "source": [
    "import pandas as pd\n",
    "import re\n",
    "from glob import glob\n",
    "import numpy as np\n",
    "import json\n",
    "import altair as alt"
   ]
  },
  {
   "cell_type": "markdown",
   "id": "a712b924",
   "metadata": {},
   "source": [
    "## Initial loading + processing of dataframes and dictionaries"
   ]
  },
  {
   "cell_type": "code",
   "execution_count": 3,
   "id": "426a2ac7",
   "metadata": {},
   "outputs": [
    {
     "data": {
      "text/html": [
       "<div>\n",
       "<style scoped>\n",
       "    .dataframe tbody tr th:only-of-type {\n",
       "        vertical-align: middle;\n",
       "    }\n",
       "\n",
       "    .dataframe tbody tr th {\n",
       "        vertical-align: top;\n",
       "    }\n",
       "\n",
       "    .dataframe thead th {\n",
       "        text-align: right;\n",
       "    }\n",
       "</style>\n",
       "<table border=\"1\" class=\"dataframe\">\n",
       "  <thead>\n",
       "    <tr style=\"text-align: right;\">\n",
       "      <th></th>\n",
       "      <th>Phrase Quality</th>\n",
       "      <th>Phrase</th>\n",
       "      <th>Year</th>\n",
       "      <th>Num Words</th>\n",
       "    </tr>\n",
       "  </thead>\n",
       "  <tbody>\n",
       "    <tr>\n",
       "      <th>0</th>\n",
       "      <td>0.9915</td>\n",
       "      <td>operations research</td>\n",
       "      <td>1950-1959</td>\n",
       "      <td>2</td>\n",
       "    </tr>\n",
       "    <tr>\n",
       "      <th>1</th>\n",
       "      <td>0.6505</td>\n",
       "      <td>operations research society of america</td>\n",
       "      <td>1950-1959</td>\n",
       "      <td>5</td>\n",
       "    </tr>\n",
       "    <tr>\n",
       "      <th>2</th>\n",
       "      <td>0.5735</td>\n",
       "      <td>high speed</td>\n",
       "      <td>1950-1959</td>\n",
       "      <td>2</td>\n",
       "    </tr>\n",
       "    <tr>\n",
       "      <th>3</th>\n",
       "      <td>0.5255</td>\n",
       "      <td>operations research society</td>\n",
       "      <td>1950-1959</td>\n",
       "      <td>3</td>\n",
       "    </tr>\n",
       "    <tr>\n",
       "      <th>4</th>\n",
       "      <td>0.9810</td>\n",
       "      <td>tunnel diode</td>\n",
       "      <td>1960-1964</td>\n",
       "      <td>2</td>\n",
       "    </tr>\n",
       "  </tbody>\n",
       "</table>\n",
       "</div>"
      ],
      "text/plain": [
       "   Phrase Quality                                  Phrase       Year  \\\n",
       "0          0.9915                     operations research  1950-1959   \n",
       "1          0.6505  operations research society of america  1950-1959   \n",
       "2          0.5735                              high speed  1950-1959   \n",
       "3          0.5255             operations research society  1950-1959   \n",
       "4          0.9810                            tunnel diode  1960-1964   \n",
       "\n",
       "   Num Words  \n",
       "0          2  \n",
       "1          5  \n",
       "2          2  \n",
       "3          3  \n",
       "4          2  "
      ]
     },
     "execution_count": 3,
     "metadata": {},
     "output_type": "execute_result"
    }
   ],
   "source": [
    "# AutoPhrase results dataframe\n",
    "fp_phrases = '../results/dblp-v10-grouped/phrases.csv'\n",
    "phrases = pd.read_csv(fp_phrases, index_col=0)\n",
    "phrases.head()"
   ]
  },
  {
   "cell_type": "code",
   "execution_count": 4,
   "id": "474e991b",
   "metadata": {},
   "outputs": [
    {
     "data": {
      "text/plain": [
       "array(['1950-1959', '1960-1964', '1965-1969', '1970-1974', '1975-1979',\n",
       "       '1980-1984', '1985-1989', '1990-1994', '1995-1999', '2000-2004',\n",
       "       '2005-2009', '2010-2014', '2015-2017'], dtype=object)"
      ]
     },
     "execution_count": 4,
     "metadata": {},
     "output_type": "execute_result"
    }
   ],
   "source": [
    "phrases['Year'].unique()"
   ]
  },
  {
   "cell_type": "code",
   "execution_count": 5,
   "id": "1b4abefa",
   "metadata": {},
   "outputs": [
    {
     "data": {
      "text/html": [
       "<div>\n",
       "<style scoped>\n",
       "    .dataframe tbody tr th:only-of-type {\n",
       "        vertical-align: middle;\n",
       "    }\n",
       "\n",
       "    .dataframe tbody tr th {\n",
       "        vertical-align: top;\n",
       "    }\n",
       "\n",
       "    .dataframe thead th {\n",
       "        text-align: right;\n",
       "    }\n",
       "</style>\n",
       "<table border=\"1\" class=\"dataframe\">\n",
       "  <thead>\n",
       "    <tr style=\"text-align: right;\">\n",
       "      <th></th>\n",
       "      <th>Phrases</th>\n",
       "      <th>Year</th>\n",
       "      <th>Num Phrases</th>\n",
       "    </tr>\n",
       "  </thead>\n",
       "  <tbody>\n",
       "    <tr>\n",
       "      <th>0</th>\n",
       "      <td>paper,wheatstone,bridge,tangent,triangle,trian...</td>\n",
       "      <td>1950-1959</td>\n",
       "      <td>14</td>\n",
       "    </tr>\n",
       "    <tr>\n",
       "      <th>1</th>\n",
       "      <td>numerical integration,differential equations,o...</td>\n",
       "      <td>1950-1959</td>\n",
       "      <td>6</td>\n",
       "    </tr>\n",
       "    <tr>\n",
       "      <th>2</th>\n",
       "      <td>fur</td>\n",
       "      <td>1950-1959</td>\n",
       "      <td>1</td>\n",
       "    </tr>\n",
       "    <tr>\n",
       "      <th>3</th>\n",
       "      <td>computing,computing,amplifier,high,amplifiers,...</td>\n",
       "      <td>1950-1959</td>\n",
       "      <td>8</td>\n",
       "    </tr>\n",
       "    <tr>\n",
       "      <th>4</th>\n",
       "      <td>operations research,journal,operations researc...</td>\n",
       "      <td>1950-1959</td>\n",
       "      <td>5</td>\n",
       "    </tr>\n",
       "  </tbody>\n",
       "</table>\n",
       "</div>"
      ],
      "text/plain": [
       "                                             Phrases       Year Num Phrases\n",
       "0  paper,wheatstone,bridge,tangent,triangle,trian...  1950-1959          14\n",
       "1  numerical integration,differential equations,o...  1950-1959           6\n",
       "2                                                fur  1950-1959           1\n",
       "3  computing,computing,amplifier,high,amplifiers,...  1950-1959           8\n",
       "4  operations research,journal,operations researc...  1950-1959           5"
      ]
     },
     "execution_count": 5,
     "metadata": {},
     "output_type": "execute_result"
    }
   ],
   "source": [
    "# Processed phrasal segmentation results dataframe\n",
    "infolder = '../results/dblp-v10-grouped'\n",
    "subfolders = glob(infolder + '/*.csv')\n",
    "subfolders = list(filter(lambda x: 'segmented' in x, subfolders))\n",
    "seg = pd.DataFrame(columns=['Phrases', 'Year', 'Num Phrases'])\n",
    "for fp in subfolders:\n",
    "    df = pd.read_csv(fp, index_col=0)\n",
    "    df = df.dropna()\n",
    "    df['Num Phrases'] = df.apply(lambda x: len(x['Phrases'].split(',')), axis=1)\n",
    "    #df = df.drop('Phrases', axis=1)\n",
    "    seg = seg.append(df, ignore_index=True)\n",
    "seg = seg.dropna()\n",
    "seg.head()"
   ]
  },
  {
   "cell_type": "code",
   "execution_count": 6,
   "id": "a6cfc70c",
   "metadata": {},
   "outputs": [],
   "source": [
    "# Creates dictionary for counts of phrases for each year range\n",
    "counts = {}\n",
    "for yr in seg['Year'].unique():\n",
    "    counts[yr] = {}\n",
    "    \n",
    "def add_counts(x):\n",
    "    phrases = x['Phrases'].split(',')\n",
    "    year = x['Year']\n",
    "    for phrase in phrases:\n",
    "        if phrase not in counts[year]:\n",
    "            counts[year][phrase] = 0\n",
    "        counts[year][phrase] += 1\n",
    "\n",
    "_ = seg.apply(add_counts, axis=1)\n",
    "\n",
    "# Sorts the counts in descending order\n",
    "for key, val in counts.items():\n",
    "    counts[key] = dict(sorted(val.items(), key=lambda item: item[1], reverse=True))"
   ]
  },
  {
   "cell_type": "code",
   "execution_count": 7,
   "id": "a724bce1",
   "metadata": {},
   "outputs": [],
   "source": [
    "# Only contains the multi-word phrases and counts\n",
    "multi_counts = {}\n",
    "for year_range, phrase_counts in counts.items():\n",
    "    multi_counts[year_range] = {key: val for key, val in phrase_counts.items() if len(key.split()) > 1}"
   ]
  },
  {
   "cell_type": "code",
   "execution_count": 49,
   "id": "f909c3d9",
   "metadata": {},
   "outputs": [],
   "source": [
    "# Creates counts dictionary but with percent as values, rather than raw frequency\n",
    "counts_per = {}\n",
    "for year_range, phrase_counts in counts.items():\n",
    "    total_count_yr = sum(phrase_counts.values())\n",
    "    prop_counts = {}\n",
    "    for key, val in phrase_counts.items():\n",
    "        prop_counts[key] = (val / total_count_yr)\n",
    "    counts_per[year_range] = prop_counts"
   ]
  },
  {
   "cell_type": "markdown",
   "id": "12abcbb8",
   "metadata": {},
   "source": [
    "## Start of phrases over time EDA + figures"
   ]
  },
  {
   "cell_type": "code",
   "execution_count": 9,
   "id": "e3fafa58",
   "metadata": {},
   "outputs": [],
   "source": [
    "# TODO:\n",
    "# Ridgeline plot where y-axis is a Phrase, x-axis is the Year Range, height showing the frequency or percentage of each phrase"
   ]
  },
  {
   "cell_type": "code",
   "execution_count": 61,
   "id": "65a19ac2",
   "metadata": {},
   "outputs": [],
   "source": [
    "# Add more phrases to list by looking at the dictionaries\n",
    "interesting_phrases = ['cloud computing', 'machine learning', 'neural network', 'data mining', 'social networks',\n",
    "                      'image processing', 'computer vision', 'user experience', 'genetic algorithms', 'computer science',\n",
    "                      'virtual reality']"
   ]
  },
  {
   "cell_type": "code",
   "execution_count": 62,
   "id": "c6ea1cf9",
   "metadata": {},
   "outputs": [],
   "source": [
    "# Looking at count (raw frequency) of each phrase across year ranges\n",
    "data = pd.DataFrame(columns=['Year Range', 'Count', 'Phrase'])\n",
    "phrases_to_graph = ['machine learning', 'computer vision', 'neural network']\n",
    "\n",
    "for phrase in phrases_to_graph:\n",
    "    for key, val in counts.items():\n",
    "        count = val.get(phrase)\n",
    "        data.loc[len(data)] = [key, count, phrase]"
   ]
  },
  {
   "cell_type": "code",
   "execution_count": 63,
   "id": "0414b49c",
   "metadata": {},
   "outputs": [
    {
     "data": {
      "text/html": [
       "\n",
       "<div id=\"altair-viz-9ea371926dc44febbdf6860077f490a7\"></div>\n",
       "<script type=\"text/javascript\">\n",
       "  var VEGA_DEBUG = (typeof VEGA_DEBUG == \"undefined\") ? {} : VEGA_DEBUG;\n",
       "  (function(spec, embedOpt){\n",
       "    let outputDiv = document.currentScript.previousElementSibling;\n",
       "    if (outputDiv.id !== \"altair-viz-9ea371926dc44febbdf6860077f490a7\") {\n",
       "      outputDiv = document.getElementById(\"altair-viz-9ea371926dc44febbdf6860077f490a7\");\n",
       "    }\n",
       "    const paths = {\n",
       "      \"vega\": \"https://cdn.jsdelivr.net/npm//vega@5?noext\",\n",
       "      \"vega-lib\": \"https://cdn.jsdelivr.net/npm//vega-lib?noext\",\n",
       "      \"vega-lite\": \"https://cdn.jsdelivr.net/npm//vega-lite@4.17.0?noext\",\n",
       "      \"vega-embed\": \"https://cdn.jsdelivr.net/npm//vega-embed@6?noext\",\n",
       "    };\n",
       "\n",
       "    function maybeLoadScript(lib, version) {\n",
       "      var key = `${lib.replace(\"-\", \"\")}_version`;\n",
       "      return (VEGA_DEBUG[key] == version) ?\n",
       "        Promise.resolve(paths[lib]) :\n",
       "        new Promise(function(resolve, reject) {\n",
       "          var s = document.createElement('script');\n",
       "          document.getElementsByTagName(\"head\")[0].appendChild(s);\n",
       "          s.async = true;\n",
       "          s.onload = () => {\n",
       "            VEGA_DEBUG[key] = version;\n",
       "            return resolve(paths[lib]);\n",
       "          };\n",
       "          s.onerror = () => reject(`Error loading script: ${paths[lib]}`);\n",
       "          s.src = paths[lib];\n",
       "        });\n",
       "    }\n",
       "\n",
       "    function showError(err) {\n",
       "      outputDiv.innerHTML = `<div class=\"error\" style=\"color:red;\">${err}</div>`;\n",
       "      throw err;\n",
       "    }\n",
       "\n",
       "    function displayChart(vegaEmbed) {\n",
       "      vegaEmbed(outputDiv, spec, embedOpt)\n",
       "        .catch(err => showError(`Javascript Error: ${err.message}<br>This usually means there's a typo in your chart specification. See the javascript console for the full traceback.`));\n",
       "    }\n",
       "\n",
       "    if(typeof define === \"function\" && define.amd) {\n",
       "      requirejs.config({paths});\n",
       "      require([\"vega-embed\"], displayChart, err => showError(`Error loading script: ${err.message}`));\n",
       "    } else {\n",
       "      maybeLoadScript(\"vega\", \"5\")\n",
       "        .then(() => maybeLoadScript(\"vega-lite\", \"4.17.0\"))\n",
       "        .then(() => maybeLoadScript(\"vega-embed\", \"6\"))\n",
       "        .catch(showError)\n",
       "        .then(() => displayChart(vegaEmbed));\n",
       "    }\n",
       "  })({\"config\": {\"view\": {\"continuousWidth\": 400, \"continuousHeight\": 300}}, \"data\": {\"name\": \"data-bc2821e305a38fde017f89801d06e25f\"}, \"mark\": \"line\", \"encoding\": {\"color\": {\"field\": \"Phrase\", \"type\": \"nominal\"}, \"x\": {\"field\": \"Year Range\", \"type\": \"nominal\"}, \"y\": {\"field\": \"Count\", \"type\": \"quantitative\"}}, \"$schema\": \"https://vega.github.io/schema/vega-lite/v4.17.0.json\", \"datasets\": {\"data-bc2821e305a38fde017f89801d06e25f\": [{\"Year Range\": \"1950-1959\", \"Count\": 2, \"Phrase\": \"machine learning\"}, {\"Year Range\": \"1960-1964\", \"Count\": null, \"Phrase\": \"machine learning\"}, {\"Year Range\": \"1965-1969\", \"Count\": 3, \"Phrase\": \"machine learning\"}, {\"Year Range\": \"1970-1974\", \"Count\": 2, \"Phrase\": \"machine learning\"}, {\"Year Range\": \"1975-1979\", \"Count\": 2, \"Phrase\": \"machine learning\"}, {\"Year Range\": \"1980-1984\", \"Count\": 16, \"Phrase\": \"machine learning\"}, {\"Year Range\": \"1985-1989\", \"Count\": 134, \"Phrase\": \"machine learning\"}, {\"Year Range\": \"1990-1994\", \"Count\": 437, \"Phrase\": \"machine learning\"}, {\"Year Range\": \"1995-1999\", \"Count\": 952, \"Phrase\": \"machine learning\"}, {\"Year Range\": \"2000-2004\", \"Count\": 2450, \"Phrase\": \"machine learning\"}, {\"Year Range\": \"2005-2009\", \"Count\": 7054, \"Phrase\": \"machine learning\"}, {\"Year Range\": \"2010-2014\", \"Count\": 14046, \"Phrase\": \"machine learning\"}, {\"Year Range\": \"2015-2017\", \"Count\": 11254, \"Phrase\": \"machine learning\"}, {\"Year Range\": \"1950-1959\", \"Count\": null, \"Phrase\": \"computer vision\"}, {\"Year Range\": \"1960-1964\", \"Count\": null, \"Phrase\": \"computer vision\"}, {\"Year Range\": \"1965-1969\", \"Count\": null, \"Phrase\": \"computer vision\"}, {\"Year Range\": \"1970-1974\", \"Count\": null, \"Phrase\": \"computer vision\"}, {\"Year Range\": \"1975-1979\", \"Count\": null, \"Phrase\": \"computer vision\"}, {\"Year Range\": \"1980-1984\", \"Count\": 42, \"Phrase\": \"computer vision\"}, {\"Year Range\": \"1985-1989\", \"Count\": 186, \"Phrase\": \"computer vision\"}, {\"Year Range\": \"1990-1994\", \"Count\": 430, \"Phrase\": \"computer vision\"}, {\"Year Range\": \"1995-1999\", \"Count\": 962, \"Phrase\": \"computer vision\"}, {\"Year Range\": \"2000-2004\", \"Count\": 1673, \"Phrase\": \"computer vision\"}, {\"Year Range\": \"2005-2009\", \"Count\": 3543, \"Phrase\": \"computer vision\"}, {\"Year Range\": \"2010-2014\", \"Count\": 6259, \"Phrase\": \"computer vision\"}, {\"Year Range\": \"2015-2017\", \"Count\": 4522, \"Phrase\": \"computer vision\"}, {\"Year Range\": \"1950-1959\", \"Count\": null, \"Phrase\": \"neural network\"}, {\"Year Range\": \"1960-1964\", \"Count\": 1, \"Phrase\": \"neural network\"}, {\"Year Range\": \"1965-1969\", \"Count\": 2, \"Phrase\": \"neural network\"}, {\"Year Range\": \"1970-1974\", \"Count\": 1, \"Phrase\": \"neural network\"}, {\"Year Range\": \"1975-1979\", \"Count\": 2, \"Phrase\": \"neural network\"}, {\"Year Range\": \"1980-1984\", \"Count\": 6, \"Phrase\": \"neural network\"}, {\"Year Range\": \"1985-1989\", \"Count\": 271, \"Phrase\": \"neural network\"}, {\"Year Range\": \"1990-1994\", \"Count\": 2504, \"Phrase\": \"neural network\"}, {\"Year Range\": \"1995-1999\", \"Count\": 4977, \"Phrase\": \"neural network\"}, {\"Year Range\": \"2000-2004\", \"Count\": 6001, \"Phrase\": \"neural network\"}, {\"Year Range\": \"2005-2009\", \"Count\": 12314, \"Phrase\": \"neural network\"}, {\"Year Range\": \"2010-2014\", \"Count\": 11381, \"Phrase\": \"neural network\"}, {\"Year Range\": \"2015-2017\", \"Count\": 6007, \"Phrase\": \"neural network\"}]}}, {\"mode\": \"vega-lite\"});\n",
       "</script>"
      ],
      "text/plain": [
       "alt.Chart(...)"
      ]
     },
     "execution_count": 63,
     "metadata": {},
     "output_type": "execute_result"
    }
   ],
   "source": [
    "# Issue with looking at raw frequency is that it will depend on how many papers are in each year range\n",
    "# There are more papers over time, so the frequency will naturally increase for almost all phrases\n",
    "alt.Chart(data).mark_line().encode(x='Year Range', y='Count', color='Phrase')"
   ]
  },
  {
   "cell_type": "code",
   "execution_count": 86,
   "id": "ff4de3b4",
   "metadata": {},
   "outputs": [],
   "source": [
    "# Looking at percentage of each phrase across year ranges\n",
    "phrases_to_graph = ['machine learning', 'computer vision', 'neural network']\n",
    "\n",
    "data = pd.DataFrame(columns=['Year Range', 'Percent', 'Phrase'])\n",
    "for phrase in phrases_to_graph:\n",
    "    for key, val in counts_per.items():\n",
    "        count = val.get(phrase)\n",
    "        data.loc[len(data)] = [key, count, phrase]\n",
    "data = data.fillna(0)"
   ]
  },
  {
   "cell_type": "code",
   "execution_count": 87,
   "id": "ad383a2a",
   "metadata": {},
   "outputs": [
    {
     "data": {
      "text/html": [
       "\n",
       "<div id=\"altair-viz-1c2a55482d604a679bdf41e872f14969\"></div>\n",
       "<script type=\"text/javascript\">\n",
       "  var VEGA_DEBUG = (typeof VEGA_DEBUG == \"undefined\") ? {} : VEGA_DEBUG;\n",
       "  (function(spec, embedOpt){\n",
       "    let outputDiv = document.currentScript.previousElementSibling;\n",
       "    if (outputDiv.id !== \"altair-viz-1c2a55482d604a679bdf41e872f14969\") {\n",
       "      outputDiv = document.getElementById(\"altair-viz-1c2a55482d604a679bdf41e872f14969\");\n",
       "    }\n",
       "    const paths = {\n",
       "      \"vega\": \"https://cdn.jsdelivr.net/npm//vega@5?noext\",\n",
       "      \"vega-lib\": \"https://cdn.jsdelivr.net/npm//vega-lib?noext\",\n",
       "      \"vega-lite\": \"https://cdn.jsdelivr.net/npm//vega-lite@4.17.0?noext\",\n",
       "      \"vega-embed\": \"https://cdn.jsdelivr.net/npm//vega-embed@6?noext\",\n",
       "    };\n",
       "\n",
       "    function maybeLoadScript(lib, version) {\n",
       "      var key = `${lib.replace(\"-\", \"\")}_version`;\n",
       "      return (VEGA_DEBUG[key] == version) ?\n",
       "        Promise.resolve(paths[lib]) :\n",
       "        new Promise(function(resolve, reject) {\n",
       "          var s = document.createElement('script');\n",
       "          document.getElementsByTagName(\"head\")[0].appendChild(s);\n",
       "          s.async = true;\n",
       "          s.onload = () => {\n",
       "            VEGA_DEBUG[key] = version;\n",
       "            return resolve(paths[lib]);\n",
       "          };\n",
       "          s.onerror = () => reject(`Error loading script: ${paths[lib]}`);\n",
       "          s.src = paths[lib];\n",
       "        });\n",
       "    }\n",
       "\n",
       "    function showError(err) {\n",
       "      outputDiv.innerHTML = `<div class=\"error\" style=\"color:red;\">${err}</div>`;\n",
       "      throw err;\n",
       "    }\n",
       "\n",
       "    function displayChart(vegaEmbed) {\n",
       "      vegaEmbed(outputDiv, spec, embedOpt)\n",
       "        .catch(err => showError(`Javascript Error: ${err.message}<br>This usually means there's a typo in your chart specification. See the javascript console for the full traceback.`));\n",
       "    }\n",
       "\n",
       "    if(typeof define === \"function\" && define.amd) {\n",
       "      requirejs.config({paths});\n",
       "      require([\"vega-embed\"], displayChart, err => showError(`Error loading script: ${err.message}`));\n",
       "    } else {\n",
       "      maybeLoadScript(\"vega\", \"5\")\n",
       "        .then(() => maybeLoadScript(\"vega-lite\", \"4.17.0\"))\n",
       "        .then(() => maybeLoadScript(\"vega-embed\", \"6\"))\n",
       "        .catch(showError)\n",
       "        .then(() => displayChart(vegaEmbed));\n",
       "    }\n",
       "  })({\"config\": {\"view\": {\"continuousWidth\": 400, \"continuousHeight\": 300}}, \"data\": {\"name\": \"data-287aacf61ea464ec4faf990199b70898\"}, \"mark\": \"line\", \"encoding\": {\"color\": {\"field\": \"Phrase\", \"type\": \"nominal\"}, \"x\": {\"field\": \"Year Range\", \"type\": \"nominal\"}, \"y\": {\"axis\": {\"format\": \"%\"}, \"field\": \"Percent\", \"type\": \"quantitative\"}}, \"$schema\": \"https://vega.github.io/schema/vega-lite/v4.17.0.json\", \"datasets\": {\"data-287aacf61ea464ec4faf990199b70898\": [{\"Year Range\": \"1950-1959\", \"Percent\": 0.00045310376076121433, \"Phrase\": \"machine learning\"}, {\"Year Range\": \"1960-1964\", \"Percent\": 0.0, \"Phrase\": \"machine learning\"}, {\"Year Range\": \"1965-1969\", \"Percent\": 9.716599190283401e-05, \"Phrase\": \"machine learning\"}, {\"Year Range\": \"1970-1974\", \"Percent\": 3.32883940014314e-05, \"Phrase\": \"machine learning\"}, {\"Year Range\": \"1975-1979\", \"Percent\": 1.8035728778710627e-05, \"Phrase\": \"machine learning\"}, {\"Year Range\": \"1980-1984\", \"Percent\": 7.678169524385387e-05, \"Phrase\": \"machine learning\"}, {\"Year Range\": \"1985-1989\", \"Percent\": 0.00028978862731019925, \"Phrase\": \"machine learning\"}, {\"Year Range\": \"1990-1994\", \"Percent\": 0.0003827276835604009, \"Phrase\": \"machine learning\"}, {\"Year Range\": \"1995-1999\", \"Percent\": 0.00034830483111971956, \"Phrase\": \"machine learning\"}, {\"Year Range\": \"2000-2004\", \"Percent\": 0.00037289648332741775, \"Phrase\": \"machine learning\"}, {\"Year Range\": \"2005-2009\", \"Percent\": 0.00035661237655253906, \"Phrase\": \"machine learning\"}, {\"Year Range\": \"2010-2014\", \"Percent\": 0.00042744397238418576, \"Phrase\": \"machine learning\"}, {\"Year Range\": \"2015-2017\", \"Percent\": 0.0008079565412137167, \"Phrase\": \"machine learning\"}, {\"Year Range\": \"1950-1959\", \"Percent\": 0.0, \"Phrase\": \"computer vision\"}, {\"Year Range\": \"1960-1964\", \"Percent\": 0.0, \"Phrase\": \"computer vision\"}, {\"Year Range\": \"1965-1969\", \"Percent\": 0.0, \"Phrase\": \"computer vision\"}, {\"Year Range\": \"1970-1974\", \"Percent\": 0.0, \"Phrase\": \"computer vision\"}, {\"Year Range\": \"1975-1979\", \"Percent\": 0.0, \"Phrase\": \"computer vision\"}, {\"Year Range\": \"1980-1984\", \"Percent\": 0.0002015519500151164, \"Phrase\": \"computer vision\"}, {\"Year Range\": \"1985-1989\", \"Percent\": 0.0004022439155201273, \"Phrase\": \"computer vision\"}, {\"Year Range\": \"1990-1994\", \"Percent\": 0.0003765970341669849, \"Phrase\": \"computer vision\"}, {\"Year Range\": \"1995-1999\", \"Percent\": 0.00035196349531215355, \"Phrase\": \"computer vision\"}, {\"Year Range\": \"2000-2004\", \"Percent\": 0.00025463502718643666, \"Phrase\": \"computer vision\"}, {\"Year Range\": \"2005-2009\", \"Percent\": 0.00017911506239376893, \"Phrase\": \"computer vision\"}, {\"Year Range\": \"2010-2014\", \"Percent\": 0.00019047215030276369, \"Phrase\": \"computer vision\"}, {\"Year Range\": \"2015-2017\", \"Percent\": 0.0003246471902762064, \"Phrase\": \"computer vision\"}, {\"Year Range\": \"1950-1959\", \"Percent\": 0.0, \"Phrase\": \"neural network\"}, {\"Year Range\": \"1960-1964\", \"Percent\": 9.219988936013277e-05, \"Phrase\": \"neural network\"}, {\"Year Range\": \"1965-1969\", \"Percent\": 6.477732793522267e-05, \"Phrase\": \"neural network\"}, {\"Year Range\": \"1970-1974\", \"Percent\": 1.66441970007157e-05, \"Phrase\": \"neural network\"}, {\"Year Range\": \"1975-1979\", \"Percent\": 1.8035728778710627e-05, \"Phrase\": \"neural network\"}, {\"Year Range\": \"1980-1984\", \"Percent\": 2.87931357164452e-05, \"Phrase\": \"neural network\"}, {\"Year Range\": \"1985-1989\", \"Percent\": 0.0005860650597094328, \"Phrase\": \"neural network\"}, {\"Year Range\": \"1990-1994\", \"Percent\": 0.0021930208687305354, \"Phrase\": \"neural network\"}, {\"Year Range\": \"1995-1999\", \"Percent\": 0.0018209171685744162, \"Phrase\": \"neural network\"}, {\"Year Range\": \"2000-2004\", \"Percent\": 0.0009133680801827892, \"Phrase\": \"neural network\"}, {\"Year Range\": \"2005-2009\", \"Percent\": 0.0006225297426804602, \"Phrase\": \"neural network\"}, {\"Year Range\": \"2010-2014\", \"Percent\": 0.00034634343227284766, \"Phrase\": \"neural network\"}, {\"Year Range\": \"2015-2017\", \"Percent\": 0.00043125954710065723, \"Phrase\": \"neural network\"}]}}, {\"mode\": \"vega-lite\"});\n",
       "</script>"
      ],
      "text/plain": [
       "alt.Chart(...)"
      ]
     },
     "execution_count": 87,
     "metadata": {},
     "output_type": "execute_result"
    }
   ],
   "source": [
    "alt.Chart(data).mark_line().encode(x='Year Range', y=alt.Y('Percent', axis=alt.Axis(format='%')), color='Phrase')"
   ]
  },
  {
   "cell_type": "code",
   "execution_count": 101,
   "id": "5e19ead7",
   "metadata": {},
   "outputs": [
    {
     "data": {
      "text/html": [
       "\n",
       "<div id=\"altair-viz-54c6b944bf9c4c83ad5ee3800f5fe80f\"></div>\n",
       "<script type=\"text/javascript\">\n",
       "  var VEGA_DEBUG = (typeof VEGA_DEBUG == \"undefined\") ? {} : VEGA_DEBUG;\n",
       "  (function(spec, embedOpt){\n",
       "    let outputDiv = document.currentScript.previousElementSibling;\n",
       "    if (outputDiv.id !== \"altair-viz-54c6b944bf9c4c83ad5ee3800f5fe80f\") {\n",
       "      outputDiv = document.getElementById(\"altair-viz-54c6b944bf9c4c83ad5ee3800f5fe80f\");\n",
       "    }\n",
       "    const paths = {\n",
       "      \"vega\": \"https://cdn.jsdelivr.net/npm//vega@5?noext\",\n",
       "      \"vega-lib\": \"https://cdn.jsdelivr.net/npm//vega-lib?noext\",\n",
       "      \"vega-lite\": \"https://cdn.jsdelivr.net/npm//vega-lite@4.17.0?noext\",\n",
       "      \"vega-embed\": \"https://cdn.jsdelivr.net/npm//vega-embed@6?noext\",\n",
       "    };\n",
       "\n",
       "    function maybeLoadScript(lib, version) {\n",
       "      var key = `${lib.replace(\"-\", \"\")}_version`;\n",
       "      return (VEGA_DEBUG[key] == version) ?\n",
       "        Promise.resolve(paths[lib]) :\n",
       "        new Promise(function(resolve, reject) {\n",
       "          var s = document.createElement('script');\n",
       "          document.getElementsByTagName(\"head\")[0].appendChild(s);\n",
       "          s.async = true;\n",
       "          s.onload = () => {\n",
       "            VEGA_DEBUG[key] = version;\n",
       "            return resolve(paths[lib]);\n",
       "          };\n",
       "          s.onerror = () => reject(`Error loading script: ${paths[lib]}`);\n",
       "          s.src = paths[lib];\n",
       "        });\n",
       "    }\n",
       "\n",
       "    function showError(err) {\n",
       "      outputDiv.innerHTML = `<div class=\"error\" style=\"color:red;\">${err}</div>`;\n",
       "      throw err;\n",
       "    }\n",
       "\n",
       "    function displayChart(vegaEmbed) {\n",
       "      vegaEmbed(outputDiv, spec, embedOpt)\n",
       "        .catch(err => showError(`Javascript Error: ${err.message}<br>This usually means there's a typo in your chart specification. See the javascript console for the full traceback.`));\n",
       "    }\n",
       "\n",
       "    if(typeof define === \"function\" && define.amd) {\n",
       "      requirejs.config({paths});\n",
       "      require([\"vega-embed\"], displayChart, err => showError(`Error loading script: ${err.message}`));\n",
       "    } else {\n",
       "      maybeLoadScript(\"vega\", \"5\")\n",
       "        .then(() => maybeLoadScript(\"vega-lite\", \"4.17.0\"))\n",
       "        .then(() => maybeLoadScript(\"vega-embed\", \"6\"))\n",
       "        .catch(showError)\n",
       "        .then(() => displayChart(vegaEmbed));\n",
       "    }\n",
       "  })({\"config\": {\"view\": {\"continuousWidth\": 400, \"continuousHeight\": 300}}, \"layer\": [{\"mark\": {\"type\": \"line\", \"interpolate\": \"basis\"}, \"encoding\": {\"color\": {\"field\": \"Phrase\", \"type\": \"nominal\"}, \"x\": {\"field\": \"Year Range\", \"type\": \"nominal\"}, \"y\": {\"axis\": {\"format\": \"%\"}, \"field\": \"Percent\", \"type\": \"quantitative\"}}}, {\"mark\": \"point\", \"encoding\": {\"opacity\": {\"value\": 0}, \"x\": {\"field\": \"Year Range\", \"type\": \"nominal\"}}, \"selection\": {\"selector023\": {\"type\": \"single\", \"nearest\": true, \"on\": \"mouseover\", \"fields\": [\"Year Range\"], \"empty\": \"none\"}}}, {\"mark\": \"point\", \"encoding\": {\"color\": {\"field\": \"Phrase\", \"type\": \"nominal\"}, \"opacity\": {\"condition\": {\"value\": 1, \"selection\": \"selector023\"}, \"value\": 0}, \"x\": {\"field\": \"Year Range\", \"type\": \"nominal\"}, \"y\": {\"axis\": {\"format\": \"%\"}, \"field\": \"Percent\", \"type\": \"quantitative\"}}}, {\"mark\": {\"type\": \"rule\", \"color\": \"gray\"}, \"encoding\": {\"x\": {\"field\": \"Year Range\", \"type\": \"nominal\"}}, \"transform\": [{\"filter\": {\"selection\": \"selector023\"}}]}, {\"mark\": {\"type\": \"text\", \"align\": \"left\", \"dx\": 5, \"dy\": -5}, \"encoding\": {\"color\": {\"field\": \"Phrase\", \"type\": \"nominal\"}, \"text\": {\"condition\": {\"field\": \"Percent\", \"type\": \"quantitative\", \"selection\": \"selector023\"}, \"value\": \" \"}, \"x\": {\"field\": \"Year Range\", \"type\": \"nominal\"}, \"y\": {\"axis\": {\"format\": \"%\"}, \"field\": \"Percent\", \"type\": \"quantitative\"}}}], \"data\": {\"name\": \"data-287aacf61ea464ec4faf990199b70898\"}, \"height\": 300, \"width\": 600, \"$schema\": \"https://vega.github.io/schema/vega-lite/v4.17.0.json\", \"datasets\": {\"data-287aacf61ea464ec4faf990199b70898\": [{\"Year Range\": \"1950-1959\", \"Percent\": 0.00045310376076121433, \"Phrase\": \"machine learning\"}, {\"Year Range\": \"1960-1964\", \"Percent\": 0.0, \"Phrase\": \"machine learning\"}, {\"Year Range\": \"1965-1969\", \"Percent\": 9.716599190283401e-05, \"Phrase\": \"machine learning\"}, {\"Year Range\": \"1970-1974\", \"Percent\": 3.32883940014314e-05, \"Phrase\": \"machine learning\"}, {\"Year Range\": \"1975-1979\", \"Percent\": 1.8035728778710627e-05, \"Phrase\": \"machine learning\"}, {\"Year Range\": \"1980-1984\", \"Percent\": 7.678169524385387e-05, \"Phrase\": \"machine learning\"}, {\"Year Range\": \"1985-1989\", \"Percent\": 0.00028978862731019925, \"Phrase\": \"machine learning\"}, {\"Year Range\": \"1990-1994\", \"Percent\": 0.0003827276835604009, \"Phrase\": \"machine learning\"}, {\"Year Range\": \"1995-1999\", \"Percent\": 0.00034830483111971956, \"Phrase\": \"machine learning\"}, {\"Year Range\": \"2000-2004\", \"Percent\": 0.00037289648332741775, \"Phrase\": \"machine learning\"}, {\"Year Range\": \"2005-2009\", \"Percent\": 0.00035661237655253906, \"Phrase\": \"machine learning\"}, {\"Year Range\": \"2010-2014\", \"Percent\": 0.00042744397238418576, \"Phrase\": \"machine learning\"}, {\"Year Range\": \"2015-2017\", \"Percent\": 0.0008079565412137167, \"Phrase\": \"machine learning\"}, {\"Year Range\": \"1950-1959\", \"Percent\": 0.0, \"Phrase\": \"computer vision\"}, {\"Year Range\": \"1960-1964\", \"Percent\": 0.0, \"Phrase\": \"computer vision\"}, {\"Year Range\": \"1965-1969\", \"Percent\": 0.0, \"Phrase\": \"computer vision\"}, {\"Year Range\": \"1970-1974\", \"Percent\": 0.0, \"Phrase\": \"computer vision\"}, {\"Year Range\": \"1975-1979\", \"Percent\": 0.0, \"Phrase\": \"computer vision\"}, {\"Year Range\": \"1980-1984\", \"Percent\": 0.0002015519500151164, \"Phrase\": \"computer vision\"}, {\"Year Range\": \"1985-1989\", \"Percent\": 0.0004022439155201273, \"Phrase\": \"computer vision\"}, {\"Year Range\": \"1990-1994\", \"Percent\": 0.0003765970341669849, \"Phrase\": \"computer vision\"}, {\"Year Range\": \"1995-1999\", \"Percent\": 0.00035196349531215355, \"Phrase\": \"computer vision\"}, {\"Year Range\": \"2000-2004\", \"Percent\": 0.00025463502718643666, \"Phrase\": \"computer vision\"}, {\"Year Range\": \"2005-2009\", \"Percent\": 0.00017911506239376893, \"Phrase\": \"computer vision\"}, {\"Year Range\": \"2010-2014\", \"Percent\": 0.00019047215030276369, \"Phrase\": \"computer vision\"}, {\"Year Range\": \"2015-2017\", \"Percent\": 0.0003246471902762064, \"Phrase\": \"computer vision\"}, {\"Year Range\": \"1950-1959\", \"Percent\": 0.0, \"Phrase\": \"neural network\"}, {\"Year Range\": \"1960-1964\", \"Percent\": 9.219988936013277e-05, \"Phrase\": \"neural network\"}, {\"Year Range\": \"1965-1969\", \"Percent\": 6.477732793522267e-05, \"Phrase\": \"neural network\"}, {\"Year Range\": \"1970-1974\", \"Percent\": 1.66441970007157e-05, \"Phrase\": \"neural network\"}, {\"Year Range\": \"1975-1979\", \"Percent\": 1.8035728778710627e-05, \"Phrase\": \"neural network\"}, {\"Year Range\": \"1980-1984\", \"Percent\": 2.87931357164452e-05, \"Phrase\": \"neural network\"}, {\"Year Range\": \"1985-1989\", \"Percent\": 0.0005860650597094328, \"Phrase\": \"neural network\"}, {\"Year Range\": \"1990-1994\", \"Percent\": 0.0021930208687305354, \"Phrase\": \"neural network\"}, {\"Year Range\": \"1995-1999\", \"Percent\": 0.0018209171685744162, \"Phrase\": \"neural network\"}, {\"Year Range\": \"2000-2004\", \"Percent\": 0.0009133680801827892, \"Phrase\": \"neural network\"}, {\"Year Range\": \"2005-2009\", \"Percent\": 0.0006225297426804602, \"Phrase\": \"neural network\"}, {\"Year Range\": \"2010-2014\", \"Percent\": 0.00034634343227284766, \"Phrase\": \"neural network\"}, {\"Year Range\": \"2015-2017\", \"Percent\": 0.00043125954710065723, \"Phrase\": \"neural network\"}]}}, {\"mode\": \"vega-lite\"});\n",
       "</script>"
      ],
      "text/plain": [
       "alt.LayerChart(...)"
      ]
     },
     "execution_count": 101,
     "metadata": {},
     "output_type": "execute_result"
    }
   ],
   "source": [
    "nearest = alt.selection(type='single', nearest=True, on='mouseover',\n",
    "                        fields=['Year Range'], empty='none')\n",
    "\n",
    "line = alt.Chart(data).mark_line(interpolate='basis').encode(\n",
    "    x='Year Range',\n",
    "    y=alt.Y('Percent', axis=alt.Axis(format='%')),\n",
    "    color='Phrase')\n",
    "\n",
    "selectors = alt.Chart(data).mark_point().encode(\n",
    "    x='Year Range',\n",
    "    opacity=alt.value(0)).add_selection(nearest)\n",
    "\n",
    "points = line.mark_point().encode(opacity=alt.condition(nearest, alt.value(1), alt.value(0)))\n",
    "    \n",
    "text = line.mark_text(align='left', dx=5, dy=-5).encode(\n",
    "    text=alt.condition(nearest, 'Percent', alt.value(' ')))\n",
    "    \n",
    "rules = alt.Chart(data).mark_rule(color='gray').encode(\n",
    "    x='Year Range').transform_filter(nearest)\n",
    "    \n",
    "alt.layer(line, selectors, points, rules, text).properties(width=600, height=300)"
   ]
  },
  {
   "cell_type": "code",
   "execution_count": 90,
   "id": "bc94f338",
   "metadata": {},
   "outputs": [
    {
     "data": {
      "text/html": [
       "\n",
       "<div id=\"altair-viz-1b7edf10cdfb48e0bc4203734e4a5deb\"></div>\n",
       "<script type=\"text/javascript\">\n",
       "  var VEGA_DEBUG = (typeof VEGA_DEBUG == \"undefined\") ? {} : VEGA_DEBUG;\n",
       "  (function(spec, embedOpt){\n",
       "    let outputDiv = document.currentScript.previousElementSibling;\n",
       "    if (outputDiv.id !== \"altair-viz-1b7edf10cdfb48e0bc4203734e4a5deb\") {\n",
       "      outputDiv = document.getElementById(\"altair-viz-1b7edf10cdfb48e0bc4203734e4a5deb\");\n",
       "    }\n",
       "    const paths = {\n",
       "      \"vega\": \"https://cdn.jsdelivr.net/npm//vega@5?noext\",\n",
       "      \"vega-lib\": \"https://cdn.jsdelivr.net/npm//vega-lib?noext\",\n",
       "      \"vega-lite\": \"https://cdn.jsdelivr.net/npm//vega-lite@4.17.0?noext\",\n",
       "      \"vega-embed\": \"https://cdn.jsdelivr.net/npm//vega-embed@6?noext\",\n",
       "    };\n",
       "\n",
       "    function maybeLoadScript(lib, version) {\n",
       "      var key = `${lib.replace(\"-\", \"\")}_version`;\n",
       "      return (VEGA_DEBUG[key] == version) ?\n",
       "        Promise.resolve(paths[lib]) :\n",
       "        new Promise(function(resolve, reject) {\n",
       "          var s = document.createElement('script');\n",
       "          document.getElementsByTagName(\"head\")[0].appendChild(s);\n",
       "          s.async = true;\n",
       "          s.onload = () => {\n",
       "            VEGA_DEBUG[key] = version;\n",
       "            return resolve(paths[lib]);\n",
       "          };\n",
       "          s.onerror = () => reject(`Error loading script: ${paths[lib]}`);\n",
       "          s.src = paths[lib];\n",
       "        });\n",
       "    }\n",
       "\n",
       "    function showError(err) {\n",
       "      outputDiv.innerHTML = `<div class=\"error\" style=\"color:red;\">${err}</div>`;\n",
       "      throw err;\n",
       "    }\n",
       "\n",
       "    function displayChart(vegaEmbed) {\n",
       "      vegaEmbed(outputDiv, spec, embedOpt)\n",
       "        .catch(err => showError(`Javascript Error: ${err.message}<br>This usually means there's a typo in your chart specification. See the javascript console for the full traceback.`));\n",
       "    }\n",
       "\n",
       "    if(typeof define === \"function\" && define.amd) {\n",
       "      requirejs.config({paths});\n",
       "      require([\"vega-embed\"], displayChart, err => showError(`Error loading script: ${err.message}`));\n",
       "    } else {\n",
       "      maybeLoadScript(\"vega\", \"5\")\n",
       "        .then(() => maybeLoadScript(\"vega-lite\", \"4.17.0\"))\n",
       "        .then(() => maybeLoadScript(\"vega-embed\", \"6\"))\n",
       "        .catch(showError)\n",
       "        .then(() => displayChart(vegaEmbed));\n",
       "    }\n",
       "  })({\"config\": {\"view\": {\"continuousWidth\": 400, \"continuousHeight\": 300}}, \"data\": {\"name\": \"data-287aacf61ea464ec4faf990199b70898\"}, \"mark\": {\"type\": \"area\", \"opacity\": 0.5}, \"encoding\": {\"color\": {\"field\": \"Phrase\", \"type\": \"nominal\"}, \"tooltip\": [{\"field\": \"Phrase\", \"type\": \"nominal\"}, {\"field\": \"Year Range\", \"type\": \"nominal\"}, {\"field\": \"Percent\", \"type\": \"quantitative\"}], \"x\": {\"field\": \"Year Range\", \"type\": \"nominal\"}, \"y\": {\"field\": \"Percent\", \"stack\": null, \"type\": \"quantitative\"}}, \"selection\": {\"selector013\": {\"type\": \"interval\", \"bind\": \"scales\", \"encodings\": [\"x\", \"y\"]}}, \"$schema\": \"https://vega.github.io/schema/vega-lite/v4.17.0.json\", \"datasets\": {\"data-287aacf61ea464ec4faf990199b70898\": [{\"Year Range\": \"1950-1959\", \"Percent\": 0.00045310376076121433, \"Phrase\": \"machine learning\"}, {\"Year Range\": \"1960-1964\", \"Percent\": 0.0, \"Phrase\": \"machine learning\"}, {\"Year Range\": \"1965-1969\", \"Percent\": 9.716599190283401e-05, \"Phrase\": \"machine learning\"}, {\"Year Range\": \"1970-1974\", \"Percent\": 3.32883940014314e-05, \"Phrase\": \"machine learning\"}, {\"Year Range\": \"1975-1979\", \"Percent\": 1.8035728778710627e-05, \"Phrase\": \"machine learning\"}, {\"Year Range\": \"1980-1984\", \"Percent\": 7.678169524385387e-05, \"Phrase\": \"machine learning\"}, {\"Year Range\": \"1985-1989\", \"Percent\": 0.00028978862731019925, \"Phrase\": \"machine learning\"}, {\"Year Range\": \"1990-1994\", \"Percent\": 0.0003827276835604009, \"Phrase\": \"machine learning\"}, {\"Year Range\": \"1995-1999\", \"Percent\": 0.00034830483111971956, \"Phrase\": \"machine learning\"}, {\"Year Range\": \"2000-2004\", \"Percent\": 0.00037289648332741775, \"Phrase\": \"machine learning\"}, {\"Year Range\": \"2005-2009\", \"Percent\": 0.00035661237655253906, \"Phrase\": \"machine learning\"}, {\"Year Range\": \"2010-2014\", \"Percent\": 0.00042744397238418576, \"Phrase\": \"machine learning\"}, {\"Year Range\": \"2015-2017\", \"Percent\": 0.0008079565412137167, \"Phrase\": \"machine learning\"}, {\"Year Range\": \"1950-1959\", \"Percent\": 0.0, \"Phrase\": \"computer vision\"}, {\"Year Range\": \"1960-1964\", \"Percent\": 0.0, \"Phrase\": \"computer vision\"}, {\"Year Range\": \"1965-1969\", \"Percent\": 0.0, \"Phrase\": \"computer vision\"}, {\"Year Range\": \"1970-1974\", \"Percent\": 0.0, \"Phrase\": \"computer vision\"}, {\"Year Range\": \"1975-1979\", \"Percent\": 0.0, \"Phrase\": \"computer vision\"}, {\"Year Range\": \"1980-1984\", \"Percent\": 0.0002015519500151164, \"Phrase\": \"computer vision\"}, {\"Year Range\": \"1985-1989\", \"Percent\": 0.0004022439155201273, \"Phrase\": \"computer vision\"}, {\"Year Range\": \"1990-1994\", \"Percent\": 0.0003765970341669849, \"Phrase\": \"computer vision\"}, {\"Year Range\": \"1995-1999\", \"Percent\": 0.00035196349531215355, \"Phrase\": \"computer vision\"}, {\"Year Range\": \"2000-2004\", \"Percent\": 0.00025463502718643666, \"Phrase\": \"computer vision\"}, {\"Year Range\": \"2005-2009\", \"Percent\": 0.00017911506239376893, \"Phrase\": \"computer vision\"}, {\"Year Range\": \"2010-2014\", \"Percent\": 0.00019047215030276369, \"Phrase\": \"computer vision\"}, {\"Year Range\": \"2015-2017\", \"Percent\": 0.0003246471902762064, \"Phrase\": \"computer vision\"}, {\"Year Range\": \"1950-1959\", \"Percent\": 0.0, \"Phrase\": \"neural network\"}, {\"Year Range\": \"1960-1964\", \"Percent\": 9.219988936013277e-05, \"Phrase\": \"neural network\"}, {\"Year Range\": \"1965-1969\", \"Percent\": 6.477732793522267e-05, \"Phrase\": \"neural network\"}, {\"Year Range\": \"1970-1974\", \"Percent\": 1.66441970007157e-05, \"Phrase\": \"neural network\"}, {\"Year Range\": \"1975-1979\", \"Percent\": 1.8035728778710627e-05, \"Phrase\": \"neural network\"}, {\"Year Range\": \"1980-1984\", \"Percent\": 2.87931357164452e-05, \"Phrase\": \"neural network\"}, {\"Year Range\": \"1985-1989\", \"Percent\": 0.0005860650597094328, \"Phrase\": \"neural network\"}, {\"Year Range\": \"1990-1994\", \"Percent\": 0.0021930208687305354, \"Phrase\": \"neural network\"}, {\"Year Range\": \"1995-1999\", \"Percent\": 0.0018209171685744162, \"Phrase\": \"neural network\"}, {\"Year Range\": \"2000-2004\", \"Percent\": 0.0009133680801827892, \"Phrase\": \"neural network\"}, {\"Year Range\": \"2005-2009\", \"Percent\": 0.0006225297426804602, \"Phrase\": \"neural network\"}, {\"Year Range\": \"2010-2014\", \"Percent\": 0.00034634343227284766, \"Phrase\": \"neural network\"}, {\"Year Range\": \"2015-2017\", \"Percent\": 0.00043125954710065723, \"Phrase\": \"neural network\"}]}}, {\"mode\": \"vega-lite\"});\n",
       "</script>"
      ],
      "text/plain": [
       "alt.Chart(...)"
      ]
     },
     "execution_count": 90,
     "metadata": {},
     "output_type": "execute_result"
    }
   ],
   "source": [
    "alt.Chart(data).mark_area(opacity=0.5).encode(x='Year Range', \n",
    "                                              y=alt.Y('Percent', stack=None), \n",
    "                                              color='Phrase',\n",
    "                                              tooltip=['Phrase', 'Year Range', 'Percent']).interactive()"
   ]
  },
  {
   "cell_type": "code",
   "execution_count": null,
   "id": "f4c209df",
   "metadata": {},
   "outputs": [],
   "source": []
  }
 ],
 "metadata": {
  "kernelspec": {
   "display_name": "Python 3 (ipykernel)",
   "language": "python",
   "name": "python3"
  },
  "language_info": {
   "codemirror_mode": {
    "name": "ipython",
    "version": 3
   },
   "file_extension": ".py",
   "mimetype": "text/x-python",
   "name": "python",
   "nbconvert_exporter": "python",
   "pygments_lexer": "ipython3",
   "version": "3.9.7"
  }
 },
 "nbformat": 4,
 "nbformat_minor": 5
}
