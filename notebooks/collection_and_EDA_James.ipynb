{
 "cells": [
  {
   "cell_type": "markdown",
   "id": "678b71e4",
   "metadata": {},
   "source": [
    "# Notebook for collection of data + EDA\n",
    "# James Yu"
   ]
  },
  {
   "cell_type": "code",
   "execution_count": 1,
   "id": "d0a4208f",
   "metadata": {},
   "outputs": [],
   "source": [
    "import pandas as pd\n",
    "from random import sample\n",
    "import sys\n",
    "import json"
   ]
  },
  {
   "cell_type": "code",
   "execution_count": 2,
   "id": "e2bc9524",
   "metadata": {},
   "outputs": [
    {
     "ename": "ParserError",
     "evalue": "Error tokenizing data. C error: Expected 3 fields in line 111, saw 6\n",
     "output_type": "error",
     "traceback": [
      "\u001b[1;31m---------------------------------------------------------------------------\u001b[0m",
      "\u001b[1;31mParserError\u001b[0m                               Traceback (most recent call last)",
      "\u001b[1;32m~\\AppData\\Local\\Temp/ipykernel_14864/712070945.py\u001b[0m in \u001b[0;36m<module>\u001b[1;34m\u001b[0m\n\u001b[1;32m----> 1\u001b[1;33m \u001b[0mpd\u001b[0m\u001b[1;33m.\u001b[0m\u001b[0mread_csv\u001b[0m\u001b[1;33m(\u001b[0m\u001b[1;34m'../data/dblp-v13/csv/2005.csv'\u001b[0m\u001b[1;33m,\u001b[0m \u001b[0mencoding\u001b[0m\u001b[1;33m=\u001b[0m\u001b[1;34m'unicode_escape'\u001b[0m\u001b[1;33m,\u001b[0m \u001b[0mlineterminator\u001b[0m\u001b[1;33m=\u001b[0m\u001b[1;34m'\\n'\u001b[0m\u001b[1;33m)\u001b[0m\u001b[1;33m\u001b[0m\u001b[1;33m\u001b[0m\u001b[0m\n\u001b[0m",
      "\u001b[1;32m~\\AppData\\Local\\Programs\\Python\\Python39\\lib\\site-packages\\pandas\\util\\_decorators.py\u001b[0m in \u001b[0;36mwrapper\u001b[1;34m(*args, **kwargs)\u001b[0m\n\u001b[0;32m    309\u001b[0m                     \u001b[0mstacklevel\u001b[0m\u001b[1;33m=\u001b[0m\u001b[0mstacklevel\u001b[0m\u001b[1;33m,\u001b[0m\u001b[1;33m\u001b[0m\u001b[1;33m\u001b[0m\u001b[0m\n\u001b[0;32m    310\u001b[0m                 )\n\u001b[1;32m--> 311\u001b[1;33m             \u001b[1;32mreturn\u001b[0m \u001b[0mfunc\u001b[0m\u001b[1;33m(\u001b[0m\u001b[1;33m*\u001b[0m\u001b[0margs\u001b[0m\u001b[1;33m,\u001b[0m \u001b[1;33m**\u001b[0m\u001b[0mkwargs\u001b[0m\u001b[1;33m)\u001b[0m\u001b[1;33m\u001b[0m\u001b[1;33m\u001b[0m\u001b[0m\n\u001b[0m\u001b[0;32m    312\u001b[0m \u001b[1;33m\u001b[0m\u001b[0m\n\u001b[0;32m    313\u001b[0m         \u001b[1;32mreturn\u001b[0m \u001b[0mwrapper\u001b[0m\u001b[1;33m\u001b[0m\u001b[1;33m\u001b[0m\u001b[0m\n",
      "\u001b[1;32m~\\AppData\\Local\\Programs\\Python\\Python39\\lib\\site-packages\\pandas\\io\\parsers\\readers.py\u001b[0m in \u001b[0;36mread_csv\u001b[1;34m(filepath_or_buffer, sep, delimiter, header, names, index_col, usecols, squeeze, prefix, mangle_dupe_cols, dtype, engine, converters, true_values, false_values, skipinitialspace, skiprows, skipfooter, nrows, na_values, keep_default_na, na_filter, verbose, skip_blank_lines, parse_dates, infer_datetime_format, keep_date_col, date_parser, dayfirst, cache_dates, iterator, chunksize, compression, thousands, decimal, lineterminator, quotechar, quoting, doublequote, escapechar, comment, encoding, encoding_errors, dialect, error_bad_lines, warn_bad_lines, on_bad_lines, delim_whitespace, low_memory, memory_map, float_precision, storage_options)\u001b[0m\n\u001b[0;32m    584\u001b[0m     \u001b[0mkwds\u001b[0m\u001b[1;33m.\u001b[0m\u001b[0mupdate\u001b[0m\u001b[1;33m(\u001b[0m\u001b[0mkwds_defaults\u001b[0m\u001b[1;33m)\u001b[0m\u001b[1;33m\u001b[0m\u001b[1;33m\u001b[0m\u001b[0m\n\u001b[0;32m    585\u001b[0m \u001b[1;33m\u001b[0m\u001b[0m\n\u001b[1;32m--> 586\u001b[1;33m     \u001b[1;32mreturn\u001b[0m \u001b[0m_read\u001b[0m\u001b[1;33m(\u001b[0m\u001b[0mfilepath_or_buffer\u001b[0m\u001b[1;33m,\u001b[0m \u001b[0mkwds\u001b[0m\u001b[1;33m)\u001b[0m\u001b[1;33m\u001b[0m\u001b[1;33m\u001b[0m\u001b[0m\n\u001b[0m\u001b[0;32m    587\u001b[0m \u001b[1;33m\u001b[0m\u001b[0m\n\u001b[0;32m    588\u001b[0m \u001b[1;33m\u001b[0m\u001b[0m\n",
      "\u001b[1;32m~\\AppData\\Local\\Programs\\Python\\Python39\\lib\\site-packages\\pandas\\io\\parsers\\readers.py\u001b[0m in \u001b[0;36m_read\u001b[1;34m(filepath_or_buffer, kwds)\u001b[0m\n\u001b[0;32m    486\u001b[0m \u001b[1;33m\u001b[0m\u001b[0m\n\u001b[0;32m    487\u001b[0m     \u001b[1;32mwith\u001b[0m \u001b[0mparser\u001b[0m\u001b[1;33m:\u001b[0m\u001b[1;33m\u001b[0m\u001b[1;33m\u001b[0m\u001b[0m\n\u001b[1;32m--> 488\u001b[1;33m         \u001b[1;32mreturn\u001b[0m \u001b[0mparser\u001b[0m\u001b[1;33m.\u001b[0m\u001b[0mread\u001b[0m\u001b[1;33m(\u001b[0m\u001b[0mnrows\u001b[0m\u001b[1;33m)\u001b[0m\u001b[1;33m\u001b[0m\u001b[1;33m\u001b[0m\u001b[0m\n\u001b[0m\u001b[0;32m    489\u001b[0m \u001b[1;33m\u001b[0m\u001b[0m\n\u001b[0;32m    490\u001b[0m \u001b[1;33m\u001b[0m\u001b[0m\n",
      "\u001b[1;32m~\\AppData\\Local\\Programs\\Python\\Python39\\lib\\site-packages\\pandas\\io\\parsers\\readers.py\u001b[0m in \u001b[0;36mread\u001b[1;34m(self, nrows)\u001b[0m\n\u001b[0;32m   1045\u001b[0m     \u001b[1;32mdef\u001b[0m \u001b[0mread\u001b[0m\u001b[1;33m(\u001b[0m\u001b[0mself\u001b[0m\u001b[1;33m,\u001b[0m \u001b[0mnrows\u001b[0m\u001b[1;33m=\u001b[0m\u001b[1;32mNone\u001b[0m\u001b[1;33m)\u001b[0m\u001b[1;33m:\u001b[0m\u001b[1;33m\u001b[0m\u001b[1;33m\u001b[0m\u001b[0m\n\u001b[0;32m   1046\u001b[0m         \u001b[0mnrows\u001b[0m \u001b[1;33m=\u001b[0m \u001b[0mvalidate_integer\u001b[0m\u001b[1;33m(\u001b[0m\u001b[1;34m\"nrows\"\u001b[0m\u001b[1;33m,\u001b[0m \u001b[0mnrows\u001b[0m\u001b[1;33m)\u001b[0m\u001b[1;33m\u001b[0m\u001b[1;33m\u001b[0m\u001b[0m\n\u001b[1;32m-> 1047\u001b[1;33m         \u001b[0mindex\u001b[0m\u001b[1;33m,\u001b[0m \u001b[0mcolumns\u001b[0m\u001b[1;33m,\u001b[0m \u001b[0mcol_dict\u001b[0m \u001b[1;33m=\u001b[0m \u001b[0mself\u001b[0m\u001b[1;33m.\u001b[0m\u001b[0m_engine\u001b[0m\u001b[1;33m.\u001b[0m\u001b[0mread\u001b[0m\u001b[1;33m(\u001b[0m\u001b[0mnrows\u001b[0m\u001b[1;33m)\u001b[0m\u001b[1;33m\u001b[0m\u001b[1;33m\u001b[0m\u001b[0m\n\u001b[0m\u001b[0;32m   1048\u001b[0m \u001b[1;33m\u001b[0m\u001b[0m\n\u001b[0;32m   1049\u001b[0m         \u001b[1;32mif\u001b[0m \u001b[0mindex\u001b[0m \u001b[1;32mis\u001b[0m \u001b[1;32mNone\u001b[0m\u001b[1;33m:\u001b[0m\u001b[1;33m\u001b[0m\u001b[1;33m\u001b[0m\u001b[0m\n",
      "\u001b[1;32m~\\AppData\\Local\\Programs\\Python\\Python39\\lib\\site-packages\\pandas\\io\\parsers\\c_parser_wrapper.py\u001b[0m in \u001b[0;36mread\u001b[1;34m(self, nrows)\u001b[0m\n\u001b[0;32m    221\u001b[0m         \u001b[1;32mtry\u001b[0m\u001b[1;33m:\u001b[0m\u001b[1;33m\u001b[0m\u001b[1;33m\u001b[0m\u001b[0m\n\u001b[0;32m    222\u001b[0m             \u001b[1;32mif\u001b[0m \u001b[0mself\u001b[0m\u001b[1;33m.\u001b[0m\u001b[0mlow_memory\u001b[0m\u001b[1;33m:\u001b[0m\u001b[1;33m\u001b[0m\u001b[1;33m\u001b[0m\u001b[0m\n\u001b[1;32m--> 223\u001b[1;33m                 \u001b[0mchunks\u001b[0m \u001b[1;33m=\u001b[0m \u001b[0mself\u001b[0m\u001b[1;33m.\u001b[0m\u001b[0m_reader\u001b[0m\u001b[1;33m.\u001b[0m\u001b[0mread_low_memory\u001b[0m\u001b[1;33m(\u001b[0m\u001b[0mnrows\u001b[0m\u001b[1;33m)\u001b[0m\u001b[1;33m\u001b[0m\u001b[1;33m\u001b[0m\u001b[0m\n\u001b[0m\u001b[0;32m    224\u001b[0m                 \u001b[1;31m# destructive to chunks\u001b[0m\u001b[1;33m\u001b[0m\u001b[1;33m\u001b[0m\u001b[0m\n\u001b[0;32m    225\u001b[0m                 \u001b[0mdata\u001b[0m \u001b[1;33m=\u001b[0m \u001b[0m_concatenate_chunks\u001b[0m\u001b[1;33m(\u001b[0m\u001b[0mchunks\u001b[0m\u001b[1;33m)\u001b[0m\u001b[1;33m\u001b[0m\u001b[1;33m\u001b[0m\u001b[0m\n",
      "\u001b[1;32m~\\AppData\\Local\\Programs\\Python\\Python39\\lib\\site-packages\\pandas\\_libs\\parsers.pyx\u001b[0m in \u001b[0;36mpandas._libs.parsers.TextReader.read_low_memory\u001b[1;34m()\u001b[0m\n",
      "\u001b[1;32m~\\AppData\\Local\\Programs\\Python\\Python39\\lib\\site-packages\\pandas\\_libs\\parsers.pyx\u001b[0m in \u001b[0;36mpandas._libs.parsers.TextReader._read_rows\u001b[1;34m()\u001b[0m\n",
      "\u001b[1;32m~\\AppData\\Local\\Programs\\Python\\Python39\\lib\\site-packages\\pandas\\_libs\\parsers.pyx\u001b[0m in \u001b[0;36mpandas._libs.parsers.TextReader._tokenize_rows\u001b[1;34m()\u001b[0m\n",
      "\u001b[1;32m~\\AppData\\Local\\Programs\\Python\\Python39\\lib\\site-packages\\pandas\\_libs\\parsers.pyx\u001b[0m in \u001b[0;36mpandas._libs.parsers.raise_parser_error\u001b[1;34m()\u001b[0m\n",
      "\u001b[1;31mParserError\u001b[0m: Error tokenizing data. C error: Expected 3 fields in line 111, saw 6\n"
     ]
    }
   ],
   "source": [
    "pd.read_csv('../data/dblp-v13/csv/2005.csv', encoding='unicode_escape', lineterminator='\\n')"
   ]
  },
  {
   "cell_type": "markdown",
   "id": "9b07d8ad",
   "metadata": {},
   "source": [
    "## Looking at arXiv dataset from Kaggle"
   ]
  },
  {
   "cell_type": "code",
   "execution_count": 23,
   "id": "e8fa7d59",
   "metadata": {},
   "outputs": [],
   "source": [
    "fp1 = '../data/arxivData.json'"
   ]
  },
  {
   "cell_type": "code",
   "execution_count": 41,
   "id": "285ee3dd",
   "metadata": {},
   "outputs": [],
   "source": [
    "# arXiv dataset from Kaggle https://www.kaggle.com/neelshah18/arxivdataset\n",
    "df1 = pd.read_json(fp1)\n",
    "#df1.head()"
   ]
  },
  {
   "cell_type": "code",
   "execution_count": 25,
   "id": "77dbf322",
   "metadata": {},
   "outputs": [],
   "source": [
    "#df1.value_counts('year')"
   ]
  },
  {
   "cell_type": "code",
   "execution_count": 26,
   "id": "4004037f",
   "metadata": {},
   "outputs": [],
   "source": [
    "#df1.value_counts('month')"
   ]
  },
  {
   "cell_type": "code",
   "execution_count": 27,
   "id": "e316eadf",
   "metadata": {},
   "outputs": [],
   "source": [
    "agg_titles_by_year = df1.groupby('year')['title'].apply(' '.join)\n",
    "#agg_titles_by_year.head()"
   ]
  },
  {
   "cell_type": "code",
   "execution_count": 28,
   "id": "c012371c",
   "metadata": {},
   "outputs": [],
   "source": [
    "agg_summ_by_year = df1.groupby('year')['summary'].apply(' '.join)\n",
    "#agg_summ_by_year.head()"
   ]
  },
  {
   "cell_type": "code",
   "execution_count": 29,
   "id": "be3ef6f3",
   "metadata": {},
   "outputs": [],
   "source": [
    "agg_all_by_year = df1.groupby('year')['title'].apply(' '.join) + ' ' + df1.groupby('year')['summary'].apply(' '.join)\n",
    "#agg_all_by_year.head()"
   ]
  },
  {
   "cell_type": "code",
   "execution_count": 30,
   "id": "63162ac8",
   "metadata": {},
   "outputs": [],
   "source": [
    "#agg_all_by_year[1993][:500]"
   ]
  },
  {
   "cell_type": "code",
   "execution_count": 31,
   "id": "dd270e46",
   "metadata": {},
   "outputs": [],
   "source": [
    "#agg_all_by_year[1993][:500].replace('\\n', ' ')"
   ]
  },
  {
   "cell_type": "code",
   "execution_count": null,
   "id": "01a6df76",
   "metadata": {},
   "outputs": [],
   "source": []
  },
  {
   "cell_type": "markdown",
   "id": "09c847e8",
   "metadata": {},
   "source": [
    "## Looking at DBLP v13 dataset"
   ]
  },
  {
   "cell_type": "code",
   "execution_count": 32,
   "id": "9fd84566",
   "metadata": {},
   "outputs": [],
   "source": [
    "fp2 = '../data/dblpv13.json'"
   ]
  },
  {
   "cell_type": "code",
   "execution_count": 33,
   "id": "d8fcd942",
   "metadata": {},
   "outputs": [],
   "source": [
    "# DBLP v13 dataset\n",
    "# file size is 16.1 GB\n",
    "# Can try to read in as smaller pieces, or write out the data into .txt files by year\n",
    "\n",
    "#df2 = pd.read_json(fp2)\n",
    "#df2.head()"
   ]
  },
  {
   "cell_type": "code",
   "execution_count": 34,
   "id": "c2b587d9",
   "metadata": {},
   "outputs": [],
   "source": [
    "def process_json(inpath):\n",
    "    \"\"\"\n",
    "    Process the inpath of DBLP v13 dataset\n",
    "    Outputs a list of dictionaries (each dictionary is a paper)\n",
    "\n",
    "    >>> process_json('../data/dblpv13.json')\n",
    "    \"\"\"\n",
    "    count = 0\n",
    "    data = []\n",
    "    first_line = True\n",
    "\n",
    "    with open(inpath) as f:\n",
    "        content = ''\n",
    "        # Keeps track of the start of processing a block (individual paper)\n",
    "        start_ind = False\n",
    "        for line in f:\n",
    "            # Indicates start of block\n",
    "            if line == '{ \\n':\n",
    "                start_ind = True\n",
    "            # Indicates end of block\n",
    "            if line == '},\\n':\n",
    "                # Doesn't process the first block (only contains info about structure)\n",
    "                if first_line:\n",
    "                    first_line = False\n",
    "                    content = ''\n",
    "                    continue\n",
    "                # Cleans up formatting of block\n",
    "                content += '}\\n'\n",
    "                content = content.replace(' :', ':').replace(',', ', ')\n",
    "                data.append(json.loads(content))\n",
    "                start_ind = False\n",
    "                content = ''\n",
    "\n",
    "            if start_ind:\n",
    "                # Cleans up line to prevent issues with json.loads()\n",
    "                line = line.strip()\n",
    "                if 'NumberInt' in line:\n",
    "                    line = line.replace('NumberInt(', '')\n",
    "                    line = line.strip()[:-2] + ','\n",
    "                if line[-3:] == ': ,':\n",
    "                    line = line.replace(': ,', ': null')\n",
    "                content += line\n",
    "\n",
    "            count += 1\n",
    "            if count > 200:\n",
    "                break\n",
    "    return data"
   ]
  },
  {
   "cell_type": "code",
   "execution_count": 35,
   "id": "aa2d91b8",
   "metadata": {},
   "outputs": [
    {
     "data": {
      "text/plain": [
       "[{'_id': '53e99784b7602d9701f3e133',\n",
       "  'title': 'The relationship between canopy parameters and spectrum of winter wheat under different irrigations in Hebei Province.',\n",
       "  'authors': [{'_id': '53f45728dabfaec09f209538', 'name': 'Peijuan Wang'},\n",
       "   {'_id': '5601754345cedb3395e59457', 'name': 'Jiahua Zhang'},\n",
       "   {'_id': '53f38438dabfae4b34a08928', 'name': 'Donghui Xie'},\n",
       "   {'_id': '5601754345cedb3395e5945a', 'name': 'Yanyan Xu'},\n",
       "   {'_id': '53f43d25dabfaeecd6995149', 'name': 'Yun Xu'}],\n",
       "  'venue': {'_id': '53a7297d20f7420be8bd4ae7',\n",
       "   'name_d': 'International Geoscience and Remote Sensing Symposium',\n",
       "   'type': 0,\n",
       "   'raw': 'IGARSS'},\n",
       "  'year': 2011,\n",
       "  'keywords': ['canopy parameters',\n",
       "   'canopy spectrum',\n",
       "   'different soil water content control',\n",
       "   'winter wheat',\n",
       "   'irrigation',\n",
       "   'hydrology',\n",
       "   'radiometry',\n",
       "   'moisture',\n",
       "   'indexes',\n",
       "   'vegetation',\n",
       "   'indexation',\n",
       "   'dry weight',\n",
       "   'soil moisture',\n",
       "   'water content',\n",
       "   'indexing terms',\n",
       "   'spectrum',\n",
       "   'natural disaster'],\n",
       "  'fos': ['Agronomy',\n",
       "   'Moisture',\n",
       "   'Hydrology',\n",
       "   'Environmental science',\n",
       "   'Dry weight',\n",
       "   'Water content',\n",
       "   'Stomatal conductance',\n",
       "   'Transpiration',\n",
       "   'Irrigation',\n",
       "   'Soil water',\n",
       "   'Canopy'],\n",
       "  'n_citation': 0,\n",
       "  'page_start': '1930',\n",
       "  'page_end': '1933',\n",
       "  'lang': 'en',\n",
       "  'volume': 'null',\n",
       "  'issue': 'null',\n",
       "  'issn': '',\n",
       "  'isbn': '',\n",
       "  'doi': '10.1109/IGARSS.2011.6049503',\n",
       "  'pdf': None,\n",
       "  'url': ['http://dx.doi.org/10.1109/IGARSS.2011.6049503'],\n",
       "  'abstract': 'Drought is the first place in all the natural disasters in the world. It is especially serious in North China Plain. In this paper,  different soil water content control levels at winter wheat growth stages are performed on Gucheng Ecological-Meteorological Integrated Observation Experiment Station of CAMS,  China. Some canopy parameters,  including growth conditions,  dry weight,  physiological parameters and hyperspectral reflectance,  are measured from erecting stage to milk stage for winter wheat in 2009. The relationship between canopy parameters and soil relative moisture,  canopy water content and water indices of winter wheat are established. The results show that some parameters,  such as SPAD and dry weight of leaves,  decrease with the increasing of soil relative moisture,  while other parameters,  including dry weight of caudexes,  above ground dry weight,  height,  photosynthesis rate,  intercellular CO 2 concentration,  stomatal conductance and transpiration rate,  increase corresponding to the soil relative moisture. Obvious linear relationship between stomatal conductance and transpiration rate is established with 45 samples,  which R2 reaches to 0.6152. Finally,  the fitting equations between canopy water content and water indices are regressed with b5,  b6 and b7 of MODIS bands. The equations are best with b7 and worst with b5. So the fitting equations with b7 can be used to inverse the canopy water content of winter wheat using MODIS or other remote sensing images with similar bands range to MODIS in Hebei Province. Â© 2011 IEEE.'},\n",
       " {'_id': '53e99784b7602d9701f3e151',\n",
       "  'title': 'A solution to the problem of touching and broken characters.',\n",
       "  'authors': [{'_id': '53f46797dabfaeb22f542630', 'name': 'Jairo Rocha'},\n",
       "   {'_id': '54328883dabfaeb4c6a8a699', 'name': 'Theo Pavlidis'}],\n",
       "  'venue': {'_id': '53a72a4920f7420be8bfa51b',\n",
       "   'name_d': 'International Conference on Document Analysis and Recognition',\n",
       "   'type': 0,\n",
       "   'raw': 'ICDAR-1'},\n",
       "  'year': 1993,\n",
       "  'keywords': ['handwriting recognition',\n",
       "   'prototypes',\n",
       "   'image segmentation',\n",
       "   'computer science',\n",
       "   'expert systems',\n",
       "   'knowledge base',\n",
       "   'pattern recognition',\n",
       "   'usability',\n",
       "   'optical character recognition',\n",
       "   'shape',\n",
       "   'feature extraction'],\n",
       "  'fos': ['Intelligent character recognition',\n",
       "   'Pattern recognition',\n",
       "   'Computer science',\n",
       "   'Feature (computer vision)',\n",
       "   'Document processing',\n",
       "   'Handwriting recognition',\n",
       "   'Optical character recognition',\n",
       "   'Feature extraction',\n",
       "   'Feature (machine learning)',\n",
       "   'Artificial intelligence',\n",
       "   'Intelligent word recognition'],\n",
       "  'n_citation': 17,\n",
       "  'page_start': '602',\n",
       "  'page_end': '605',\n",
       "  'lang': 'en',\n",
       "  'volume': '',\n",
       "  'issue': '',\n",
       "  'issn': '',\n",
       "  'isbn': '',\n",
       "  'doi': '10.1109/ICDAR.1993.395663',\n",
       "  'pdf': None,\n",
       "  'url': ['http://dx.doi.org/10.1109/ICDAR.1993.395663'],\n",
       "  'abstract': '',\n",
       "  'references': ['53e99cf5b7602d97025ace63',\n",
       "   '557e8a7a6fee0fe990caa63d',\n",
       "   '53e9a96cb7602d97032c459a',\n",
       "   '53e9b929b7602d9704515791',\n",
       "   '557e59ebf6678c77ea222447']}]"
      ]
     },
     "execution_count": 35,
     "metadata": {},
     "output_type": "execute_result"
    }
   ],
   "source": [
    "process_json(fp2)"
   ]
  },
  {
   "cell_type": "code",
   "execution_count": 48,
   "id": "f30f34b5",
   "metadata": {},
   "outputs": [
    {
     "data": {
      "text/plain": [
       "True"
      ]
     },
     "execution_count": 48,
     "metadata": {},
     "output_type": "execute_result"
    }
   ],
   "source": [
    "'\"venue\" :' in '\"venue\" : {'"
   ]
  },
  {
   "cell_type": "code",
   "execution_count": 46,
   "id": "cb7d0a15",
   "metadata": {},
   "outputs": [
    {
     "ename": "SyntaxError",
     "evalue": "EOL while scanning string literal (Temp/ipykernel_6496/2937401072.py, line 1)",
     "output_type": "error",
     "traceback": [
      "\u001b[1;36m  File \u001b[1;32m\"C:\\Users\\itsno\\AppData\\Local\\Temp/ipykernel_6496/2937401072.py\"\u001b[1;36m, line \u001b[1;32m1\u001b[0m\n\u001b[1;33m    json.loads('{\"_id\" : \"53e99785b7602d9701f429ff\",\"title\" : \"Editorial\",\"authors\" : [\u001b[0m\n\u001b[1;37m                                                                                       ^\u001b[0m\n\u001b[1;31mSyntaxError\u001b[0m\u001b[1;31m:\u001b[0m EOL while scanning string literal\n"
     ]
    }
   ],
   "source": [
    "json.loads('{\"_id\" : \"53e99785b7602d9701f429ff\",\"title\" : \"Editorial\",\n",
    "    \"venue\" : {\n",
    "    \"_id\" : \"539078ef20f770854f5a84a4\",\n",
    "    \"type\" : 1\n",
    "    \"raw\" : \"Mathematics and Computers in Simulation\",\n",
    "    \"raw_zh\" : \"\"\n",
    "    },\n",
    "    \"year\" : 1959,\n",
    "    \"keywords\" : [\n",
    "    \"design\",\n",
    "    \"garbage collection\",\n",
    "    \"general\",\n",
    "    \"optimization\",\n",
    "    \"object-oriented programming\",\n",
    "    \"reliability\",\n",
    "    \"theory\",\n",
    "    \"performance\"\n",
    "    ],\n",
    "    \"n_citation\" : 63,\n",
    "    \"page_start\" : \"222\",\n",
    "    \"page_end\" : \"223\",\n",
    "    \"lang\" : \"en\",\n",
    "    \"volume\" : \"1\",\n",
    "    \"issue\" : \"5\",\n",
    "    \"issn\" : \"Mathematics and Computers in Simulation\",\n",
    "    \"isbn\" : \"\",\n",
    "    \"doi\" : \"10.1016/S0378-4754(59)80012-4\",\n",
    "    \"pdf\" : null,\n",
    "    \"url\" : [\n",
    "    \"http://dx.doi.org/10.1016/S0378-4754(59)80012-4\",\n",
    "    \"http://dl.acm.org/citation.cfm?id=1742291.1742610&coll=DL&dl=GUIDE&CFID=522669176&CFTOKEN=26140772&preflayout=flat\",\n",
    "    \"http://dl.acm.org/citation.cfm?id=592201.592457&coll=DL&dl=GUIDE&CFID=686672237&CFTOKEN=54138035&preflayout=flat\",\n",
    "    \"http://dl.acm.org/citation.cfm?id=1742291.1742609&coll=DL&dl=GUIDE&CFID=522669176&CFTOKEN=26140772&preflayout=flat\",\n",
    "    \"http://dl.acm.org/citation.cfm?id=292469.293683&coll=DL&dl=GUIDE&CFID=686759800&CFTOKEN=68402008&preflayout=flat\",\n",
    "    \"http://dl.acm.org/citation.cfm?id=254180.257471&coll=DL&dl=GUIDE&CFID=686730833&CFTOKEN=41803007&preflayout=flat\",\n",
    "    \"http://dx.doi.org/10.1007/s12592-013-0150-6\",\n",
    "    \"http://link.springer.com/article/10.1007/s12592-013-0150-6\",\n",
    "    \"db/journals/compsec/compsec81.html#Spafford19\",\n",
    "    \"https://doi.org/10.1016/j.cose.2018.12.009\",\n",
    "    \"https://www.ncbi.nlm.nih.gov/pubmed/30730188\"\n",
    "    ],\n",
    "    \"abstract\" : \"\"}')"
   ]
  },
  {
   "cell_type": "code",
   "execution_count": null,
   "id": "3742fdd4",
   "metadata": {},
   "outputs": [],
   "source": []
  },
  {
   "cell_type": "code",
   "execution_count": null,
   "id": "46200352",
   "metadata": {},
   "outputs": [],
   "source": []
  },
  {
   "cell_type": "code",
   "execution_count": null,
   "id": "711baee1",
   "metadata": {},
   "outputs": [],
   "source": []
  },
  {
   "cell_type": "code",
   "execution_count": null,
   "id": "8db6a9de",
   "metadata": {},
   "outputs": [],
   "source": []
  },
  {
   "cell_type": "markdown",
   "id": "f8917788",
   "metadata": {},
   "source": [
    "# Looking at DBLP v10 dataset"
   ]
  },
  {
   "cell_type": "code",
   "execution_count": 37,
   "id": "378916c7",
   "metadata": {},
   "outputs": [
    {
     "data": {
      "text/plain": [
       "['../data/dblp-v10/dblp-ref-0.json',\n",
       " '../data/dblp-v10/dblp-ref-1.json',\n",
       " '../data/dblp-v10/dblp-ref-2.json',\n",
       " '../data/dblp-v10/dblp-ref-3.json']"
      ]
     },
     "execution_count": 37,
     "metadata": {},
     "output_type": "execute_result"
    }
   ],
   "source": [
    "fp3 = ['../data/dblp-v10/' + 'dblp-ref-' + str(x) + '.json' for x in range(4)]\n",
    "fp3"
   ]
  },
  {
   "cell_type": "code",
   "execution_count": 38,
   "id": "964add7b",
   "metadata": {},
   "outputs": [
    {
     "name": "stdout",
     "output_type": "stream",
     "text": [
      "{'abstract': 'The purpose of this study is to develop a learning tool for high school students studying the scientific aspects of information and communication net- works. More specifically, we focus on the basic principles of network proto- cols as the aim to develop our learning tool. Our tool gives students hands-on experience to help understand the basic principles of network protocols.', 'authors': ['Makoto Satoh', 'Ryo Muramatsu', 'Mizue Kayama', 'Kazunori Itoh', 'Masami Hashimoto', 'Makoto Otani', 'Michio Shimizu', 'Masahiko Sugimoto'], 'n_citation': 0, 'references': ['51c7e02e-f5ed-431a-8cf5-f761f266d4be', '69b625b9-ebc5-4b60-b385-8a07945f5de9'], 'title': 'Preliminary Design of a Network Protocol Learning Tool Based on the Comprehension of High School Students: Design by an Empirical Study Using a Simple Mind Map', 'venue': 'international conference on human-computer interaction', 'year': 2013, 'id': '00127ee2-cb05-48ce-bc49-9de556b93346'}\n"
     ]
    }
   ],
   "source": [
    "file = open(fp3[0])\n",
    "\n",
    "fp = '2015.txt'\n",
    "#open(fp, 'w').close()\n",
    "\n",
    "for l in file:\n",
    "    x = l\n",
    "    data = json.loads(l)\n",
    "    print(data)\n",
    "    # Only info we need: abstract, title, year\n",
    "    year = data['year']\n",
    "    outpath = str(year) + '.txt'\n",
    "    #outfile = open(outpath, 'a', encoding='utf-8')\n",
    "    break\n",
    "file.close()"
   ]
  },
  {
   "cell_type": "code",
   "execution_count": 39,
   "id": "15b7aa8f",
   "metadata": {},
   "outputs": [
    {
     "data": {
      "text/plain": [
       "'{\"abstract\": \"The purpose of this study is to develop a learning tool for high school students studying the scientific aspects of information and communication net- works. More specifically, we focus on the basic principles of network proto- cols as the aim to develop our learning tool. Our tool gives students hands-on experience to help understand the basic principles of network protocols.\", \"authors\": [\"Makoto Satoh\", \"Ryo Muramatsu\", \"Mizue Kayama\", \"Kazunori Itoh\", \"Masami Hashimoto\", \"Makoto Otani\", \"Michio Shimizu\", \"Masahiko Sugimoto\"], \"n_citation\": 0, \"references\": [\"51c7e02e-f5ed-431a-8cf5-f761f266d4be\", \"69b625b9-ebc5-4b60-b385-8a07945f5de9\"], \"title\": \"Preliminary Design of a Network Protocol Learning Tool Based on the Comprehension of High School Students: Design by an Empirical Study Using a Simple Mind Map\", \"venue\": \"international conference on human-computer interaction\", \"year\": 2013, \"id\": \"00127ee2-cb05-48ce-bc49-9de556b93346\"}\\n'"
      ]
     },
     "execution_count": 39,
     "metadata": {},
     "output_type": "execute_result"
    }
   ],
   "source": [
    "x"
   ]
  },
  {
   "cell_type": "code",
   "execution_count": 40,
   "id": "d8357758",
   "metadata": {},
   "outputs": [
    {
     "data": {
      "text/plain": [
       "{'abstract': 'The purpose of this study is to develop a learning tool for high school students studying the scientific aspects of information and communication net- works. More specifically, we focus on the basic principles of network proto- cols as the aim to develop our learning tool. Our tool gives students hands-on experience to help understand the basic principles of network protocols.',\n",
       " 'authors': ['Makoto Satoh',\n",
       "  'Ryo Muramatsu',\n",
       "  'Mizue Kayama',\n",
       "  'Kazunori Itoh',\n",
       "  'Masami Hashimoto',\n",
       "  'Makoto Otani',\n",
       "  'Michio Shimizu',\n",
       "  'Masahiko Sugimoto'],\n",
       " 'n_citation': 0,\n",
       " 'references': ['51c7e02e-f5ed-431a-8cf5-f761f266d4be',\n",
       "  '69b625b9-ebc5-4b60-b385-8a07945f5de9'],\n",
       " 'title': 'Preliminary Design of a Network Protocol Learning Tool Based on the Comprehension of High School Students: Design by an Empirical Study Using a Simple Mind Map',\n",
       " 'venue': 'international conference on human-computer interaction',\n",
       " 'year': 2013,\n",
       " 'id': '00127ee2-cb05-48ce-bc49-9de556b93346'}"
      ]
     },
     "execution_count": 40,
     "metadata": {},
     "output_type": "execute_result"
    }
   ],
   "source": [
    "data"
   ]
  },
  {
   "cell_type": "code",
   "execution_count": null,
   "id": "593b67ad",
   "metadata": {},
   "outputs": [],
   "source": []
  },
  {
   "cell_type": "code",
   "execution_count": null,
   "id": "be304cef",
   "metadata": {},
   "outputs": [],
   "source": []
  },
  {
   "cell_type": "code",
   "execution_count": null,
   "id": "51a06ff8",
   "metadata": {},
   "outputs": [],
   "source": []
  }
 ],
 "metadata": {
  "kernelspec": {
   "display_name": "Python 3 (ipykernel)",
   "language": "python",
   "name": "python3"
  },
  "language_info": {
   "codemirror_mode": {
    "name": "ipython",
    "version": 3
   },
   "file_extension": ".py",
   "mimetype": "text/x-python",
   "name": "python",
   "nbconvert_exporter": "python",
   "pygments_lexer": "ipython3",
   "version": "3.9.7"
  }
 },
 "nbformat": 4,
 "nbformat_minor": 5
}
