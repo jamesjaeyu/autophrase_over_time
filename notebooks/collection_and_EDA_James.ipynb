{
 "cells": [
  {
   "cell_type": "markdown",
   "id": "678b71e4",
   "metadata": {},
   "source": [
    "# Notebook for collection of data + EDA\n",
    "# James Yu"
   ]
  },
  {
   "cell_type": "code",
   "execution_count": 1,
   "id": "d0a4208f",
   "metadata": {},
   "outputs": [],
   "source": [
    "import pandas as pd\n",
    "from random import sample\n",
    "import sys\n",
    "import json"
   ]
  },
  {
   "cell_type": "markdown",
   "id": "9b07d8ad",
   "metadata": {},
   "source": [
    "## Looking at arXiv dataset from Kaggle"
   ]
  },
  {
   "cell_type": "code",
   "execution_count": 2,
   "id": "e8fa7d59",
   "metadata": {},
   "outputs": [],
   "source": [
    "fp1 = '../data/arxivData.json'"
   ]
  },
  {
   "cell_type": "code",
   "execution_count": 3,
   "id": "285ee3dd",
   "metadata": {},
   "outputs": [
    {
     "data": {
      "text/html": [
       "<div>\n",
       "<style scoped>\n",
       "    .dataframe tbody tr th:only-of-type {\n",
       "        vertical-align: middle;\n",
       "    }\n",
       "\n",
       "    .dataframe tbody tr th {\n",
       "        vertical-align: top;\n",
       "    }\n",
       "\n",
       "    .dataframe thead th {\n",
       "        text-align: right;\n",
       "    }\n",
       "</style>\n",
       "<table border=\"1\" class=\"dataframe\">\n",
       "  <thead>\n",
       "    <tr style=\"text-align: right;\">\n",
       "      <th></th>\n",
       "      <th>author</th>\n",
       "      <th>day</th>\n",
       "      <th>id</th>\n",
       "      <th>link</th>\n",
       "      <th>month</th>\n",
       "      <th>summary</th>\n",
       "      <th>tag</th>\n",
       "      <th>title</th>\n",
       "      <th>year</th>\n",
       "    </tr>\n",
       "  </thead>\n",
       "  <tbody>\n",
       "    <tr>\n",
       "      <th>0</th>\n",
       "      <td>[{'name': 'Ahmed Osman'}, {'name': 'Wojciech S...</td>\n",
       "      <td>1</td>\n",
       "      <td>1802.00209v1</td>\n",
       "      <td>[{'rel': 'alternate', 'href': 'http://arxiv.or...</td>\n",
       "      <td>2</td>\n",
       "      <td>We propose an architecture for VQA which utili...</td>\n",
       "      <td>[{'term': 'cs.AI', 'scheme': 'http://arxiv.org...</td>\n",
       "      <td>Dual Recurrent Attention Units for Visual Ques...</td>\n",
       "      <td>2018</td>\n",
       "    </tr>\n",
       "    <tr>\n",
       "      <th>1</th>\n",
       "      <td>[{'name': 'Ji Young Lee'}, {'name': 'Franck De...</td>\n",
       "      <td>12</td>\n",
       "      <td>1603.03827v1</td>\n",
       "      <td>[{'rel': 'alternate', 'href': 'http://arxiv.or...</td>\n",
       "      <td>3</td>\n",
       "      <td>Recent approaches based on artificial neural n...</td>\n",
       "      <td>[{'term': 'cs.CL', 'scheme': 'http://arxiv.org...</td>\n",
       "      <td>Sequential Short-Text Classification with Recu...</td>\n",
       "      <td>2016</td>\n",
       "    </tr>\n",
       "    <tr>\n",
       "      <th>2</th>\n",
       "      <td>[{'name': 'Iulian Vlad Serban'}, {'name': 'Tim...</td>\n",
       "      <td>2</td>\n",
       "      <td>1606.00776v2</td>\n",
       "      <td>[{'rel': 'alternate', 'href': 'http://arxiv.or...</td>\n",
       "      <td>6</td>\n",
       "      <td>We introduce the multiresolution recurrent neu...</td>\n",
       "      <td>[{'term': 'cs.CL', 'scheme': 'http://arxiv.org...</td>\n",
       "      <td>Multiresolution Recurrent Neural Networks: An ...</td>\n",
       "      <td>2016</td>\n",
       "    </tr>\n",
       "    <tr>\n",
       "      <th>3</th>\n",
       "      <td>[{'name': 'Sebastian Ruder'}, {'name': 'Joachi...</td>\n",
       "      <td>23</td>\n",
       "      <td>1705.08142v2</td>\n",
       "      <td>[{'rel': 'alternate', 'href': 'http://arxiv.or...</td>\n",
       "      <td>5</td>\n",
       "      <td>Multi-task learning is motivated by the observ...</td>\n",
       "      <td>[{'term': 'stat.ML', 'scheme': 'http://arxiv.o...</td>\n",
       "      <td>Learning what to share between loosely related...</td>\n",
       "      <td>2017</td>\n",
       "    </tr>\n",
       "    <tr>\n",
       "      <th>4</th>\n",
       "      <td>[{'name': 'Iulian V. Serban'}, {'name': 'Chinn...</td>\n",
       "      <td>7</td>\n",
       "      <td>1709.02349v2</td>\n",
       "      <td>[{'rel': 'alternate', 'href': 'http://arxiv.or...</td>\n",
       "      <td>9</td>\n",
       "      <td>We present MILABOT: a deep reinforcement learn...</td>\n",
       "      <td>[{'term': 'cs.CL', 'scheme': 'http://arxiv.org...</td>\n",
       "      <td>A Deep Reinforcement Learning Chatbot</td>\n",
       "      <td>2017</td>\n",
       "    </tr>\n",
       "  </tbody>\n",
       "</table>\n",
       "</div>"
      ],
      "text/plain": [
       "                                              author  day            id  \\\n",
       "0  [{'name': 'Ahmed Osman'}, {'name': 'Wojciech S...    1  1802.00209v1   \n",
       "1  [{'name': 'Ji Young Lee'}, {'name': 'Franck De...   12  1603.03827v1   \n",
       "2  [{'name': 'Iulian Vlad Serban'}, {'name': 'Tim...    2  1606.00776v2   \n",
       "3  [{'name': 'Sebastian Ruder'}, {'name': 'Joachi...   23  1705.08142v2   \n",
       "4  [{'name': 'Iulian V. Serban'}, {'name': 'Chinn...    7  1709.02349v2   \n",
       "\n",
       "                                                link  month  \\\n",
       "0  [{'rel': 'alternate', 'href': 'http://arxiv.or...      2   \n",
       "1  [{'rel': 'alternate', 'href': 'http://arxiv.or...      3   \n",
       "2  [{'rel': 'alternate', 'href': 'http://arxiv.or...      6   \n",
       "3  [{'rel': 'alternate', 'href': 'http://arxiv.or...      5   \n",
       "4  [{'rel': 'alternate', 'href': 'http://arxiv.or...      9   \n",
       "\n",
       "                                             summary  \\\n",
       "0  We propose an architecture for VQA which utili...   \n",
       "1  Recent approaches based on artificial neural n...   \n",
       "2  We introduce the multiresolution recurrent neu...   \n",
       "3  Multi-task learning is motivated by the observ...   \n",
       "4  We present MILABOT: a deep reinforcement learn...   \n",
       "\n",
       "                                                 tag  \\\n",
       "0  [{'term': 'cs.AI', 'scheme': 'http://arxiv.org...   \n",
       "1  [{'term': 'cs.CL', 'scheme': 'http://arxiv.org...   \n",
       "2  [{'term': 'cs.CL', 'scheme': 'http://arxiv.org...   \n",
       "3  [{'term': 'stat.ML', 'scheme': 'http://arxiv.o...   \n",
       "4  [{'term': 'cs.CL', 'scheme': 'http://arxiv.org...   \n",
       "\n",
       "                                               title  year  \n",
       "0  Dual Recurrent Attention Units for Visual Ques...  2018  \n",
       "1  Sequential Short-Text Classification with Recu...  2016  \n",
       "2  Multiresolution Recurrent Neural Networks: An ...  2016  \n",
       "3  Learning what to share between loosely related...  2017  \n",
       "4              A Deep Reinforcement Learning Chatbot  2017  "
      ]
     },
     "execution_count": 3,
     "metadata": {},
     "output_type": "execute_result"
    }
   ],
   "source": [
    "# arXiv dataset from Kaggle https://www.kaggle.com/neelshah18/arxivdataset\n",
    "df1 = pd.read_json(fp1)\n",
    "df1.head()"
   ]
  },
  {
   "cell_type": "code",
   "execution_count": 9,
   "id": "77dbf322",
   "metadata": {},
   "outputs": [
    {
     "data": {
      "text/plain": [
       "year\n",
       "2017    12017\n",
       "2016     6265\n",
       "2015     4467\n",
       "2018     3412\n",
       "2013     3318\n",
       "2014     3219\n",
       "2012     2555\n",
       "2011     1522\n",
       "2010      975\n",
       "2009      689\n",
       "2008      494\n",
       "2007      325\n",
       "2006      245\n",
       "2000      224\n",
       "2004      212\n",
       "2005      204\n",
       "2002      194\n",
       "2003      188\n",
       "2001      126\n",
       "1994      122\n",
       "1999       77\n",
       "1998       68\n",
       "1996       28\n",
       "1995       28\n",
       "1997       20\n",
       "1993        6\n",
       "dtype: int64"
      ]
     },
     "execution_count": 9,
     "metadata": {},
     "output_type": "execute_result"
    }
   ],
   "source": [
    "df1.value_counts('year')"
   ]
  },
  {
   "cell_type": "code",
   "execution_count": 10,
   "id": "4004037f",
   "metadata": {},
   "outputs": [
    {
     "data": {
      "text/plain": [
       "month\n",
       "3     4192\n",
       "11    4164\n",
       "6     3766\n",
       "2     3752\n",
       "12    3553\n",
       "9     3405\n",
       "10    3377\n",
       "1     3162\n",
       "7     3104\n",
       "5     2966\n",
       "4     2819\n",
       "8     2740\n",
       "dtype: int64"
      ]
     },
     "execution_count": 10,
     "metadata": {},
     "output_type": "execute_result"
    }
   ],
   "source": [
    "df1.value_counts('month')"
   ]
  },
  {
   "cell_type": "code",
   "execution_count": 29,
   "id": "e316eadf",
   "metadata": {},
   "outputs": [
    {
     "data": {
      "text/plain": [
       "year\n",
       "1993    Dynamic Backtracking A Market-Oriented Program...\n",
       "1994    Teleo-Reactive Programs for Agent Control Lear...\n",
       "1995    Solving Multiclass Learning Problems via Error...\n",
       "1996    The Design and Experimental Analysis of Algori...\n",
       "1997    Machine Learning of User Profiles: Representat...\n",
       "Name: title, dtype: object"
      ]
     },
     "execution_count": 29,
     "metadata": {},
     "output_type": "execute_result"
    }
   ],
   "source": [
    "agg_titles_by_year = df1.groupby('year')['title'].apply(' '.join)\n",
    "agg_titles_by_year.head()"
   ]
  },
  {
   "cell_type": "code",
   "execution_count": 28,
   "id": "c012371c",
   "metadata": {},
   "outputs": [
    {
     "data": {
      "text/plain": [
       "year\n",
       "1993    Because of their occasional need to return to ...\n",
       "1994    A formalism is presented for computing and org...\n",
       "1995    Multiclass learning problems involve finding a...\n",
       "1996    Many applications -- from planning and schedul...\n",
       "1997    As more information becomes available electron...\n",
       "Name: summary, dtype: object"
      ]
     },
     "execution_count": 28,
     "metadata": {},
     "output_type": "execute_result"
    }
   ],
   "source": [
    "agg_summ_by_year = df1.groupby('year')['summary'].apply(' '.join)\n",
    "agg_summ_by_year.head()"
   ]
  },
  {
   "cell_type": "code",
   "execution_count": 27,
   "id": "be3ef6f3",
   "metadata": {},
   "outputs": [
    {
     "data": {
      "text/plain": [
       "year\n",
       "1993    Dynamic Backtracking A Market-Oriented Program...\n",
       "1994    Teleo-Reactive Programs for Agent Control Lear...\n",
       "1995    Solving Multiclass Learning Problems via Error...\n",
       "1996    The Design and Experimental Analysis of Algori...\n",
       "1997    Machine Learning of User Profiles: Representat...\n",
       "dtype: object"
      ]
     },
     "execution_count": 27,
     "metadata": {},
     "output_type": "execute_result"
    }
   ],
   "source": [
    "agg_all_by_year = df1.groupby('year')['title'].apply(' '.join) + ' ' + df1.groupby('year')['summary'].apply(' '.join)\n",
    "agg_all_by_year.head()"
   ]
  },
  {
   "cell_type": "code",
   "execution_count": 37,
   "id": "63162ac8",
   "metadata": {},
   "outputs": [
    {
     "data": {
      "text/plain": [
       "'Dynamic Backtracking A Market-Oriented Programming Environment and its Application to\\n  Distributed Multicommodity Flow Problems An Empirical Analysis of Search in GSAT The Difficulties of Learning Logic Programs with Cut Software Agents: Completing Patterns and Constructing User Interfaces Decidable Reasoning in Terminological Knowledge Representation Systems Because of their occasional need to return to shallow points in a search\\ntree, existing backtracking methods can sometimes erase meaningf'"
      ]
     },
     "execution_count": 37,
     "metadata": {},
     "output_type": "execute_result"
    }
   ],
   "source": [
    "agg_all_by_year[1993][:500]"
   ]
  },
  {
   "cell_type": "code",
   "execution_count": 38,
   "id": "dd270e46",
   "metadata": {},
   "outputs": [
    {
     "data": {
      "text/plain": [
       "'Dynamic Backtracking A Market-Oriented Programming Environment and its Application to   Distributed Multicommodity Flow Problems An Empirical Analysis of Search in GSAT The Difficulties of Learning Logic Programs with Cut Software Agents: Completing Patterns and Constructing User Interfaces Decidable Reasoning in Terminological Knowledge Representation Systems Because of their occasional need to return to shallow points in a search tree, existing backtracking methods can sometimes erase meaningf'"
      ]
     },
     "execution_count": 38,
     "metadata": {},
     "output_type": "execute_result"
    }
   ],
   "source": [
    "agg_all_by_year[1993][:500].replace('\\n', ' ')"
   ]
  },
  {
   "cell_type": "code",
   "execution_count": null,
   "id": "01a6df76",
   "metadata": {},
   "outputs": [],
   "source": []
  },
  {
   "cell_type": "markdown",
   "id": "09c847e8",
   "metadata": {},
   "source": [
    "## Looking at DBLP dataset"
   ]
  },
  {
   "cell_type": "code",
   "execution_count": 4,
   "id": "9fd84566",
   "metadata": {},
   "outputs": [],
   "source": [
    "fp2 = '../data/dblpv13.json'"
   ]
  },
  {
   "cell_type": "code",
   "execution_count": 5,
   "id": "d8fcd942",
   "metadata": {},
   "outputs": [],
   "source": [
    "# DBLP v13 dataset\n",
    "# file size is 16.1 GB\n",
    "# Can try to read in as smaller pieces, or write out the data into .txt files by year\n",
    "\n",
    "#df2 = pd.read_json(fp2)\n",
    "#df2.head()"
   ]
  },
  {
   "cell_type": "code",
   "execution_count": null,
   "id": "4ac12b09",
   "metadata": {},
   "outputs": [],
   "source": []
  },
  {
   "cell_type": "code",
   "execution_count": 6,
   "id": "2f93aebc",
   "metadata": {},
   "outputs": [],
   "source": [
    "#json.load(open(fp2, \"r\"))"
   ]
  },
  {
   "cell_type": "code",
   "execution_count": null,
   "id": "39fe87d7",
   "metadata": {},
   "outputs": [],
   "source": []
  }
 ],
 "metadata": {
  "kernelspec": {
   "display_name": "Python 3 (ipykernel)",
   "language": "python",
   "name": "python3"
  },
  "language_info": {
   "codemirror_mode": {
    "name": "ipython",
    "version": 3
   },
   "file_extension": ".py",
   "mimetype": "text/x-python",
   "name": "python",
   "nbconvert_exporter": "python",
   "pygments_lexer": "ipython3",
   "version": "3.9.7"
  }
 },
 "nbformat": 4,
 "nbformat_minor": 5
}
