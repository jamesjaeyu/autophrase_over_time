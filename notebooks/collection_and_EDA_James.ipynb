{
 "cells": [
  {
   "cell_type": "markdown",
   "id": "678b71e4",
   "metadata": {},
   "source": [
    "# Notebook for collection of data + EDA\n",
    "# James Yu"
   ]
  },
  {
   "cell_type": "code",
   "execution_count": 37,
   "id": "d0a4208f",
   "metadata": {},
   "outputs": [],
   "source": [
    "import pandas as pd\n",
    "from random import sample\n",
    "import sys\n",
    "import json\n",
    "import time\n",
    "import altair as alt\n",
    "import matplotlib.pyplot as plt"
   ]
  },
  {
   "cell_type": "code",
   "execution_count": 38,
   "id": "e2bc9524",
   "metadata": {},
   "outputs": [],
   "source": [
    "#pd.read_csv('../data/dblp-v13/csv/2005.csv', encoding='unicode_escape', lineterminator='\\n')"
   ]
  },
  {
   "cell_type": "markdown",
   "id": "9b07d8ad",
   "metadata": {},
   "source": [
    "## Looking at arXiv dataset from Kaggle"
   ]
  },
  {
   "cell_type": "code",
   "execution_count": 39,
   "id": "285ee3dd",
   "metadata": {},
   "outputs": [],
   "source": [
    "# arXiv dataset from Kaggle https://www.kaggle.com/neelshah18/arxivdataset\n",
    "# fp1 = '../data/arxivData.json'\n",
    "# df1 = pd.read_json(fp1)\n",
    "# df1.value_counts('year')\n",
    "# df1.value_counts('month')\n",
    "# agg_titles_by_year = df1.groupby('year')['title'].apply(' '.join)\n",
    "# agg_sum_by_year = df1.groupby('year')['summary'].apply(' '.join)\n",
    "# agg_all_by_year = df1.groupby('year')['title'].apply(' '.join) + ' ' + df1.groupby('year')['summary'].apply(' '.join)"
   ]
  },
  {
   "cell_type": "markdown",
   "id": "09c847e8",
   "metadata": {},
   "source": [
    "## Looking at DBLP v13 dataset"
   ]
  },
  {
   "cell_type": "code",
   "execution_count": 40,
   "id": "9fd84566",
   "metadata": {},
   "outputs": [],
   "source": [
    "fp = '../data/dblpv13.json'"
   ]
  },
  {
   "cell_type": "code",
   "execution_count": 41,
   "id": "d8fcd942",
   "metadata": {},
   "outputs": [],
   "source": [
    "# DBLP v13 dataset\n",
    "# file size is 16.1 GB\n",
    "# Can try to read in as smaller pieces, or write out the data into .txt files by year\n",
    "#df2 = pd.read_json(fp2)\n",
    "#df2.head()\n",
    "invalid_tags = ['\"venue\" :', '\"_id\" :', '\"type\" :', '\"raw\" :', '\"raw_zh\" :',\n",
    "                '\"n_citation\" :', '\"page_start\" :', '\"page_end\" :',\n",
    "                '\"lang\" :', '\"volume\" :', '\"issue\" :', '\"issn\" :',\n",
    "                '\"isbn\" :', '\"doi\" :', '\"pdf\" :', '\"url\" :', '\"references\" :']"
   ]
  },
  {
   "cell_type": "code",
   "execution_count": 42,
   "id": "1c476dee",
   "metadata": {},
   "outputs": [],
   "source": [
    "# TODO: Create function that gathers value counts of papers by year\n",
    "# 1. Get # of papers by year\n",
    "# 2. Get # of papers by year for papers that have formatting issues\n",
    "# 3. Get most common keywords\n",
    "# 4. Get most common keywords by year\n",
    "\n",
    "# TODO: Create a more lightweight function that doesn't store all of the content\n",
    "#   (maybe just store info on length of title + abstract, year, number of keywords)"
   ]
  },
  {
   "cell_type": "code",
   "execution_count": 43,
   "id": "dbb6ab7f",
   "metadata": {},
   "outputs": [],
   "source": [
    "def print_stats(time, papers, issues, empty, year):\n",
    "    print(str(time) + ' seconds has elapsed since start of function')\n",
    "    print(str(papers) + ' papers processed')\n",
    "    print(str(issues) + ' number of papers with json formatting issues')\n",
    "    print(str(empty) + ' number of papers with empty abstracts')\n",
    "    print(str(year) + ' number of papers with invalid/irrelevant years < 1950, > 2022')"
   ]
  },
  {
   "cell_type": "code",
   "execution_count": 44,
   "id": "3742fdd4",
   "metadata": {},
   "outputs": [],
   "source": [
    "def test(inpath):\n",
    "    start = time.time()\n",
    "    first_line = True\n",
    "    tags = ['\"title\"', '\"year\"', '\"keywords\"', '\"abstract\"', '\"fos\"']\n",
    "    valid_tag = True\n",
    "    skip_paper = False\n",
    "    num_papers, num_issues, num_abs, num_year = 0, 0, 0, 0\n",
    "\n",
    "    content = '{'\n",
    "    # Keeps track of the start of processing a block (individual paper)\n",
    "    start_ind = False\n",
    "\n",
    "    # TODO: Keeps track of # of papers by year\n",
    "    counts = {}\n",
    "    # TODO: Keeps track of # of papers by year with formatting issues\n",
    "    issue_counts = {}\n",
    "\n",
    "    with open(inpath, 'r', encoding='utf-8') as f:\n",
    "        for line in f:\n",
    "            # Indicates start of block\n",
    "            if line == '{ \\n':\n",
    "                start_ind = True\n",
    "\n",
    "            # Indicates end of block\n",
    "            if line == '},\\n':\n",
    "                # Doesn't process the first paper (only contains info about structure)\n",
    "                if first_line:\n",
    "                    first_line = False\n",
    "                    content = '{'\n",
    "                    start_ind = False\n",
    "                    continue\n",
    "                # If there is an indicator to skip the paper\n",
    "                if skip_paper:\n",
    "                    content = '{'\n",
    "                    skip_paper = False\n",
    "                    start_ind = False\n",
    "                    continue\n",
    "\n",
    "                # Cleans up formatting of block\n",
    "                content += '}\\n'\n",
    "                content = content.replace(' :', ':').replace(',', ', ')\n",
    "                # Prevents issue with additional comma at end of dict\n",
    "                if content[-4:-2] == ', ':\n",
    "                    content = content[:-4] + '}\\n'\n",
    "                # Fix for issue with double beginning brackets\n",
    "                if content[:2] == '{{':\n",
    "                    content = content[1:]\n",
    "\n",
    "                num_papers += 1\n",
    "                try:\n",
    "                    formatted = json.loads(content)\n",
    "                    keywords = ' '.join([word.replace(' ', '_') for word in formatted['keywords']])\n",
    "                    title = formatted['title'].replace(',', '').replace('\\n', '').replace('\\\\', '')\n",
    "                    abstract = formatted['abstract'].replace(',', '').replace('\\n','').replace('\\\\', '')\n",
    "                    if len(abstract) == 0:\n",
    "                        num_abs += 1\n",
    "                        continue\n",
    "                    if formatted['year'] < 1950 or formatted['year'] > 2022:\n",
    "                        num_year += 1\n",
    "                        continue\n",
    "\n",
    "                    if formatted['year'] not in counts:\n",
    "                        counts[formatted['year']] = 0\n",
    "                    counts[formatted['year']] += 1\n",
    "\n",
    "                    # Writing out titles + abstracts to aggregated year .txt file\n",
    "                    fp1 = '../data/dblp-v13/content_' + str(formatted['year']) + '.txt'\n",
    "                    f1 = open(fp1, 'a')\n",
    "                    f1.write(title + ' ' + abstract + ' ')\n",
    "                    f1.close()\n",
    "                    # Writing out DBLP keywords to aggregated year .txt file\n",
    "                    fp2 = '../data/dblp-v13/keywords_' + str(formatted['year']) + '.txt'\n",
    "                    f2 = open(fp2, 'a')\n",
    "                    f2.write(keywords + ' ')\n",
    "                    f2.close()\n",
    "                except:\n",
    "                    num_issues += 1\n",
    "\n",
    "                    idx = content.find('\"year\":')\n",
    "                    year = content[idx+8:idx+12]\n",
    "                    try:\n",
    "                        year = int(year)\n",
    "                    except:\n",
    "                        year = 'invalid'\n",
    "                    if year not in issue_counts:\n",
    "                        issue_counts[year] = 0\n",
    "                    issue_counts[year] += 1\n",
    "\n",
    "                # For testing purposes - printing info + stopping early\n",
    "                # if num_papers == 100000:\n",
    "                #     end = time.time()\n",
    "                #     time_elapsed = end - start\n",
    "                #     print_stats(time_elapsed, num_papers, num_issues, num_abs, num_year)\n",
    "                #     return\n",
    "\n",
    "                # Reset parameters\n",
    "                start_ind = False\n",
    "                content = '{'\n",
    "\n",
    "            # Processes individual lines once we have found the start indicator\n",
    "            if start_ind:\n",
    "                line = line.strip()\n",
    "\n",
    "                # We only care about title, abstract, keywords, year, fos tags\n",
    "                if any([tag in line for tag in tags]):\n",
    "                    valid_tag = True\n",
    "                elif ' : ' in line:\n",
    "                    # Catches invalid tags\n",
    "                    valid_tag = False\n",
    "                elif '.fr' in line:\n",
    "                    # Had issues with french papers being included\n",
    "                    skip_paper = True\n",
    "\n",
    "                if not valid_tag:\n",
    "                    continue\n",
    "\n",
    "                if 'NumberInt' in line:\n",
    "                    line = line.replace('NumberInt(', '')\n",
    "                    line = line.strip()[:-2] + ','\n",
    "                if line[-3:] == ': ,':\n",
    "                    line = line.replace(': ,', ': null')\n",
    "                if line == '\"type\" : 1,':\n",
    "                    continue\n",
    "                content += line\n",
    "\n",
    "    end = time.time()\n",
    "    time_elapsed = end - start\n",
    "    #print_stats(time_elapsed, num_papers, num_issues, num_abs, num_year)\n",
    "    return counts, issue_counts"
   ]
  },
  {
   "cell_type": "code",
   "execution_count": 45,
   "id": "8dff497b",
   "metadata": {},
   "outputs": [],
   "source": [
    "out = ({2011: 146868,2009: 142125,2001: 49350,2000: 46187,1966: 553,2012: 156854,2002: 59902,2004: 82101,1986: 6080,2010: 142752,2006: 112287,2013: 160375,1961: 252,2003: 67039,2007: 116154,1995: 24356,2005: 95545,1983: 4132,1979: 2973,1996: 27216,1988: 9362,2015: 169413,1977: 2505,1990: 12605,1992: 16528,1975: 2393,1989: 10601,1997: 30217,2008: 126724,1985: 5284,2014: 170577,1998: 34664,1962: 329,1993: 19292,1968: 928,1999: 39722,1984: 4431,1974: 2414,1981: 3596,1972: 1571,1987: 6976,1980: 3203,1982: 3861,1950: 2,1963: 335,1958: 168,1957: 151,1969: 942,1952: 52,1964: 403,1960: 212,1971: 1238,1991: 14574,1994: 22733,2017: 110687,1970: 1017,1953: 46,1976: 2522,2016: 104869,1959: 244,1973: 1902,1978: 2779,1967: 690,2018: 143727,1955: 75,1965: 415,2019: 133736,1956: 133,1951: 35,1954: 79,2020: 110836,2021: 6205},{1993: 14033,2007: 38942,2009: 42113,2004: 29079,1980: 3103,1962: 612,2002: 21576,1957: 153,1917: 1,2012: 62923,2011: 58907,1983: 4708,2013: 73501,2006: 35653,1971: 1169,2000: 20306,2014: 71119,2003: 25892,1988: 8112,2008: 41112,1989: 9443,1961: 405,1997: 16890,1998: 18382,1999: 20206,2005: 33676,2001: 21900,1982: 4045,2010: 50340,1948: 32,1992: 12474,2015: 81428,1996: 15336,1986: 7243,1994: 14639,1990: 10614,1930: 5,1969: 761,2017: 201453,1995: 15057,1977: 2248,1975: 1656,1950: 29,1987: 7357,1981: 3433,1968: 837,1903: 5,1979: 2485,1984: 5488,1946: 29,1970: 790,1931: 8,1958: 209,1976: 1985,1945: 13,1942: 16,1991: 11508,1959: 356,1972: 1323,1966: 626,1926: 5,1935: 3,1985: 5641,1927: 4,1922: 8,1941: 13,1924: 5,1938: 15,1939: 22,1964: 399,'invalid': 508,1937: 16,1963: 443,1952: 55,1928: 5,1936: 16,1940: 17,1918: 3,1874: 1,1949: 47,1965: 519,1978: 2660,1967: 635,1898: 4,1953: 80,1944: 10,1947: 21,1974: 1525,1934: 3,1907: 3,1929: 3,1932: 13,1919: 4,1955: 103,2018: 217065,1951: 27,1956: 145,1973: 1486,1911: 4,1954: 111,1925: 4,1901: 2,1920: 3,2016: 172503,1905: 3,1912: 6,1916: 2,2019: 222526,1921: 1,1960: 260,1923: 3,1943: 14,1914: 5,2300: 10,1908: 2,1860: 1,2020: 227877,1881: 1,9737: 1,1878: 1,1913: 3,1933: 5,1891: 1,1909: 2,1894: 4,1876: 1,1892: 1,8509: 1,1852: 1,1885: 1,1850: 1,1900: 2,1902: 2,1904: 1,1831: 1,1910: 3,1843: 1,1815: 1,1824: 1,1849: 1,1800: 1,1906: 2,1855: 1,1872: 1,1896: 1,1887: 1,1899: 3,1915: 1,1895: 1,1877: 1,1883: 1,2021: 47168,2022: 1})"
   ]
  },
  {
   "cell_type": "code",
   "execution_count": 46,
   "id": "fee5542b",
   "metadata": {},
   "outputs": [
    {
     "data": {
      "text/html": [
       "<div>\n",
       "<style scoped>\n",
       "    .dataframe tbody tr th:only-of-type {\n",
       "        vertical-align: middle;\n",
       "    }\n",
       "\n",
       "    .dataframe tbody tr th {\n",
       "        vertical-align: top;\n",
       "    }\n",
       "\n",
       "    .dataframe thead th {\n",
       "        text-align: right;\n",
       "    }\n",
       "</style>\n",
       "<table border=\"1\" class=\"dataframe\">\n",
       "  <thead>\n",
       "    <tr style=\"text-align: right;\">\n",
       "      <th></th>\n",
       "      <th>Year</th>\n",
       "      <th>Count</th>\n",
       "    </tr>\n",
       "  </thead>\n",
       "  <tbody>\n",
       "    <tr>\n",
       "      <th>0</th>\n",
       "      <td>1950</td>\n",
       "      <td>2</td>\n",
       "    </tr>\n",
       "    <tr>\n",
       "      <th>1</th>\n",
       "      <td>1951</td>\n",
       "      <td>35</td>\n",
       "    </tr>\n",
       "    <tr>\n",
       "      <th>2</th>\n",
       "      <td>1952</td>\n",
       "      <td>52</td>\n",
       "    </tr>\n",
       "    <tr>\n",
       "      <th>3</th>\n",
       "      <td>1953</td>\n",
       "      <td>46</td>\n",
       "    </tr>\n",
       "    <tr>\n",
       "      <th>4</th>\n",
       "      <td>1954</td>\n",
       "      <td>79</td>\n",
       "    </tr>\n",
       "    <tr>\n",
       "      <th>...</th>\n",
       "      <td>...</td>\n",
       "      <td>...</td>\n",
       "    </tr>\n",
       "    <tr>\n",
       "      <th>67</th>\n",
       "      <td>2017</td>\n",
       "      <td>110687</td>\n",
       "    </tr>\n",
       "    <tr>\n",
       "      <th>68</th>\n",
       "      <td>2018</td>\n",
       "      <td>143727</td>\n",
       "    </tr>\n",
       "    <tr>\n",
       "      <th>69</th>\n",
       "      <td>2019</td>\n",
       "      <td>133736</td>\n",
       "    </tr>\n",
       "    <tr>\n",
       "      <th>70</th>\n",
       "      <td>2020</td>\n",
       "      <td>110836</td>\n",
       "    </tr>\n",
       "    <tr>\n",
       "      <th>71</th>\n",
       "      <td>2021</td>\n",
       "      <td>6205</td>\n",
       "    </tr>\n",
       "  </tbody>\n",
       "</table>\n",
       "<p>72 rows × 2 columns</p>\n",
       "</div>"
      ],
      "text/plain": [
       "    Year   Count\n",
       "0   1950       2\n",
       "1   1951      35\n",
       "2   1952      52\n",
       "3   1953      46\n",
       "4   1954      79\n",
       "..   ...     ...\n",
       "67  2017  110687\n",
       "68  2018  143727\n",
       "69  2019  133736\n",
       "70  2020  110836\n",
       "71  2021    6205\n",
       "\n",
       "[72 rows x 2 columns]"
      ]
     },
     "execution_count": 46,
     "metadata": {},
     "output_type": "execute_result"
    }
   ],
   "source": [
    "actual = pd.DataFrame(pd.Series(out[0]).astype(int)).reset_index().rename(columns={'index': 'Year', 0: 'Count'})\n",
    "actual.sort_values(by='Year', inplace=True, ignore_index=True)\n",
    "actual"
   ]
  },
  {
   "cell_type": "code",
   "execution_count": 47,
   "id": "4602f85d",
   "metadata": {},
   "outputs": [
    {
     "data": {
      "text/html": [
       "<div>\n",
       "<style scoped>\n",
       "    .dataframe tbody tr th:only-of-type {\n",
       "        vertical-align: middle;\n",
       "    }\n",
       "\n",
       "    .dataframe tbody tr th {\n",
       "        vertical-align: top;\n",
       "    }\n",
       "\n",
       "    .dataframe thead th {\n",
       "        text-align: right;\n",
       "    }\n",
       "</style>\n",
       "<table border=\"1\" class=\"dataframe\">\n",
       "  <thead>\n",
       "    <tr style=\"text-align: right;\">\n",
       "      <th></th>\n",
       "      <th>Year</th>\n",
       "      <th>Count</th>\n",
       "    </tr>\n",
       "  </thead>\n",
       "  <tbody>\n",
       "    <tr>\n",
       "      <th>0</th>\n",
       "      <td>0</td>\n",
       "      <td>508</td>\n",
       "    </tr>\n",
       "    <tr>\n",
       "      <th>1</th>\n",
       "      <td>1800</td>\n",
       "      <td>1</td>\n",
       "    </tr>\n",
       "    <tr>\n",
       "      <th>2</th>\n",
       "      <td>1815</td>\n",
       "      <td>1</td>\n",
       "    </tr>\n",
       "    <tr>\n",
       "      <th>3</th>\n",
       "      <td>1824</td>\n",
       "      <td>1</td>\n",
       "    </tr>\n",
       "    <tr>\n",
       "      <th>4</th>\n",
       "      <td>1831</td>\n",
       "      <td>1</td>\n",
       "    </tr>\n",
       "    <tr>\n",
       "      <th>...</th>\n",
       "      <td>...</td>\n",
       "      <td>...</td>\n",
       "    </tr>\n",
       "    <tr>\n",
       "      <th>148</th>\n",
       "      <td>2021</td>\n",
       "      <td>47168</td>\n",
       "    </tr>\n",
       "    <tr>\n",
       "      <th>149</th>\n",
       "      <td>2022</td>\n",
       "      <td>1</td>\n",
       "    </tr>\n",
       "    <tr>\n",
       "      <th>150</th>\n",
       "      <td>2300</td>\n",
       "      <td>10</td>\n",
       "    </tr>\n",
       "    <tr>\n",
       "      <th>151</th>\n",
       "      <td>8509</td>\n",
       "      <td>1</td>\n",
       "    </tr>\n",
       "    <tr>\n",
       "      <th>152</th>\n",
       "      <td>9737</td>\n",
       "      <td>1</td>\n",
       "    </tr>\n",
       "  </tbody>\n",
       "</table>\n",
       "<p>153 rows × 2 columns</p>\n",
       "</div>"
      ],
      "text/plain": [
       "     Year  Count\n",
       "0       0    508\n",
       "1    1800      1\n",
       "2    1815      1\n",
       "3    1824      1\n",
       "4    1831      1\n",
       "..    ...    ...\n",
       "148  2021  47168\n",
       "149  2022      1\n",
       "150  2300     10\n",
       "151  8509      1\n",
       "152  9737      1\n",
       "\n",
       "[153 rows x 2 columns]"
      ]
     },
     "execution_count": 47,
     "metadata": {},
     "output_type": "execute_result"
    }
   ],
   "source": [
    "errors = pd.DataFrame(pd.Series(out[1]).astype(int)).reset_index().rename(columns={'index': 'Year', 0: 'Count'})\n",
    "idx = 153\n",
    "for year in range(1950, 2022):\n",
    "    if year not in errors['Year'].values:\n",
    "        errors.loc[idx] = [year, 0]\n",
    "        idx += 1\n",
    "errors['Year'] = errors['Year'].replace({'invalid': 0})\n",
    "errors.sort_values(by='Year', inplace=True, ignore_index=True)\n",
    "errors"
   ]
  },
  {
   "cell_type": "code",
   "execution_count": 48,
   "id": "565834e7",
   "metadata": {},
   "outputs": [
    {
     "data": {
      "text/html": [
       "\n",
       "<div id=\"altair-viz-7af45e16477144849afb556ea8b77d89\"></div>\n",
       "<script type=\"text/javascript\">\n",
       "  var VEGA_DEBUG = (typeof VEGA_DEBUG == \"undefined\") ? {} : VEGA_DEBUG;\n",
       "  (function(spec, embedOpt){\n",
       "    let outputDiv = document.currentScript.previousElementSibling;\n",
       "    if (outputDiv.id !== \"altair-viz-7af45e16477144849afb556ea8b77d89\") {\n",
       "      outputDiv = document.getElementById(\"altair-viz-7af45e16477144849afb556ea8b77d89\");\n",
       "    }\n",
       "    const paths = {\n",
       "      \"vega\": \"https://cdn.jsdelivr.net/npm//vega@5?noext\",\n",
       "      \"vega-lib\": \"https://cdn.jsdelivr.net/npm//vega-lib?noext\",\n",
       "      \"vega-lite\": \"https://cdn.jsdelivr.net/npm//vega-lite@4.17.0?noext\",\n",
       "      \"vega-embed\": \"https://cdn.jsdelivr.net/npm//vega-embed@6?noext\",\n",
       "    };\n",
       "\n",
       "    function maybeLoadScript(lib, version) {\n",
       "      var key = `${lib.replace(\"-\", \"\")}_version`;\n",
       "      return (VEGA_DEBUG[key] == version) ?\n",
       "        Promise.resolve(paths[lib]) :\n",
       "        new Promise(function(resolve, reject) {\n",
       "          var s = document.createElement('script');\n",
       "          document.getElementsByTagName(\"head\")[0].appendChild(s);\n",
       "          s.async = true;\n",
       "          s.onload = () => {\n",
       "            VEGA_DEBUG[key] = version;\n",
       "            return resolve(paths[lib]);\n",
       "          };\n",
       "          s.onerror = () => reject(`Error loading script: ${paths[lib]}`);\n",
       "          s.src = paths[lib];\n",
       "        });\n",
       "    }\n",
       "\n",
       "    function showError(err) {\n",
       "      outputDiv.innerHTML = `<div class=\"error\" style=\"color:red;\">${err}</div>`;\n",
       "      throw err;\n",
       "    }\n",
       "\n",
       "    function displayChart(vegaEmbed) {\n",
       "      vegaEmbed(outputDiv, spec, embedOpt)\n",
       "        .catch(err => showError(`Javascript Error: ${err.message}<br>This usually means there's a typo in your chart specification. See the javascript console for the full traceback.`));\n",
       "    }\n",
       "\n",
       "    if(typeof define === \"function\" && define.amd) {\n",
       "      requirejs.config({paths});\n",
       "      require([\"vega-embed\"], displayChart, err => showError(`Error loading script: ${err.message}`));\n",
       "    } else {\n",
       "      maybeLoadScript(\"vega\", \"5\")\n",
       "        .then(() => maybeLoadScript(\"vega-lite\", \"4.17.0\"))\n",
       "        .then(() => maybeLoadScript(\"vega-embed\", \"6\"))\n",
       "        .catch(showError)\n",
       "        .then(() => displayChart(vegaEmbed));\n",
       "    }\n",
       "  })({\"config\": {\"view\": {\"continuousWidth\": 400, \"continuousHeight\": 300}}, \"data\": {\"name\": \"data-79751714ed27c28c7f181c4266fc32d3\"}, \"mark\": \"bar\", \"encoding\": {\"tooltip\": [{\"field\": \"Year\", \"type\": \"quantitative\"}, {\"field\": \"Count\", \"type\": \"quantitative\"}], \"x\": {\"field\": \"Year\", \"type\": \"quantitative\"}, \"y\": {\"field\": \"Count\", \"type\": \"quantitative\"}}, \"selection\": {\"selector004\": {\"type\": \"interval\", \"bind\": \"scales\", \"encodings\": [\"x\", \"y\"]}}, \"title\": \"# of papers per year\", \"$schema\": \"https://vega.github.io/schema/vega-lite/v4.17.0.json\", \"datasets\": {\"data-79751714ed27c28c7f181c4266fc32d3\": [{\"Year\": 1950, \"Count\": 2}, {\"Year\": 1951, \"Count\": 35}, {\"Year\": 1952, \"Count\": 52}, {\"Year\": 1953, \"Count\": 46}, {\"Year\": 1954, \"Count\": 79}, {\"Year\": 1955, \"Count\": 75}, {\"Year\": 1956, \"Count\": 133}, {\"Year\": 1957, \"Count\": 151}, {\"Year\": 1958, \"Count\": 168}, {\"Year\": 1959, \"Count\": 244}, {\"Year\": 1960, \"Count\": 212}, {\"Year\": 1961, \"Count\": 252}, {\"Year\": 1962, \"Count\": 329}, {\"Year\": 1963, \"Count\": 335}, {\"Year\": 1964, \"Count\": 403}, {\"Year\": 1965, \"Count\": 415}, {\"Year\": 1966, \"Count\": 553}, {\"Year\": 1967, \"Count\": 690}, {\"Year\": 1968, \"Count\": 928}, {\"Year\": 1969, \"Count\": 942}, {\"Year\": 1970, \"Count\": 1017}, {\"Year\": 1971, \"Count\": 1238}, {\"Year\": 1972, \"Count\": 1571}, {\"Year\": 1973, \"Count\": 1902}, {\"Year\": 1974, \"Count\": 2414}, {\"Year\": 1975, \"Count\": 2393}, {\"Year\": 1976, \"Count\": 2522}, {\"Year\": 1977, \"Count\": 2505}, {\"Year\": 1978, \"Count\": 2779}, {\"Year\": 1979, \"Count\": 2973}, {\"Year\": 1980, \"Count\": 3203}, {\"Year\": 1981, \"Count\": 3596}, {\"Year\": 1982, \"Count\": 3861}, {\"Year\": 1983, \"Count\": 4132}, {\"Year\": 1984, \"Count\": 4431}, {\"Year\": 1985, \"Count\": 5284}, {\"Year\": 1986, \"Count\": 6080}, {\"Year\": 1987, \"Count\": 6976}, {\"Year\": 1988, \"Count\": 9362}, {\"Year\": 1989, \"Count\": 10601}, {\"Year\": 1990, \"Count\": 12605}, {\"Year\": 1991, \"Count\": 14574}, {\"Year\": 1992, \"Count\": 16528}, {\"Year\": 1993, \"Count\": 19292}, {\"Year\": 1994, \"Count\": 22733}, {\"Year\": 1995, \"Count\": 24356}, {\"Year\": 1996, \"Count\": 27216}, {\"Year\": 1997, \"Count\": 30217}, {\"Year\": 1998, \"Count\": 34664}, {\"Year\": 1999, \"Count\": 39722}, {\"Year\": 2000, \"Count\": 46187}, {\"Year\": 2001, \"Count\": 49350}, {\"Year\": 2002, \"Count\": 59902}, {\"Year\": 2003, \"Count\": 67039}, {\"Year\": 2004, \"Count\": 82101}, {\"Year\": 2005, \"Count\": 95545}, {\"Year\": 2006, \"Count\": 112287}, {\"Year\": 2007, \"Count\": 116154}, {\"Year\": 2008, \"Count\": 126724}, {\"Year\": 2009, \"Count\": 142125}, {\"Year\": 2010, \"Count\": 142752}, {\"Year\": 2011, \"Count\": 146868}, {\"Year\": 2012, \"Count\": 156854}, {\"Year\": 2013, \"Count\": 160375}, {\"Year\": 2014, \"Count\": 170577}, {\"Year\": 2015, \"Count\": 169413}, {\"Year\": 2016, \"Count\": 104869}, {\"Year\": 2017, \"Count\": 110687}, {\"Year\": 2018, \"Count\": 143727}, {\"Year\": 2019, \"Count\": 133736}, {\"Year\": 2020, \"Count\": 110836}, {\"Year\": 2021, \"Count\": 6205}]}}, {\"mode\": \"vega-lite\"});\n",
       "</script>"
      ],
      "text/plain": [
       "alt.Chart(...)"
      ]
     },
     "execution_count": 48,
     "metadata": {},
     "output_type": "execute_result"
    }
   ],
   "source": [
    "alt.Chart(actual, title='# of papers per year').mark_bar().encode(x='Year', y='Count', tooltip=['Year', 'Count']).interactive()"
   ]
  },
  {
   "cell_type": "code",
   "execution_count": 49,
   "id": "58a5b0dc",
   "metadata": {
    "scrolled": true
   },
   "outputs": [
    {
     "data": {
      "text/html": [
       "\n",
       "<div id=\"altair-viz-e53c40e8dd224460bcf346692c523682\"></div>\n",
       "<script type=\"text/javascript\">\n",
       "  var VEGA_DEBUG = (typeof VEGA_DEBUG == \"undefined\") ? {} : VEGA_DEBUG;\n",
       "  (function(spec, embedOpt){\n",
       "    let outputDiv = document.currentScript.previousElementSibling;\n",
       "    if (outputDiv.id !== \"altair-viz-e53c40e8dd224460bcf346692c523682\") {\n",
       "      outputDiv = document.getElementById(\"altair-viz-e53c40e8dd224460bcf346692c523682\");\n",
       "    }\n",
       "    const paths = {\n",
       "      \"vega\": \"https://cdn.jsdelivr.net/npm//vega@5?noext\",\n",
       "      \"vega-lib\": \"https://cdn.jsdelivr.net/npm//vega-lib?noext\",\n",
       "      \"vega-lite\": \"https://cdn.jsdelivr.net/npm//vega-lite@4.17.0?noext\",\n",
       "      \"vega-embed\": \"https://cdn.jsdelivr.net/npm//vega-embed@6?noext\",\n",
       "    };\n",
       "\n",
       "    function maybeLoadScript(lib, version) {\n",
       "      var key = `${lib.replace(\"-\", \"\")}_version`;\n",
       "      return (VEGA_DEBUG[key] == version) ?\n",
       "        Promise.resolve(paths[lib]) :\n",
       "        new Promise(function(resolve, reject) {\n",
       "          var s = document.createElement('script');\n",
       "          document.getElementsByTagName(\"head\")[0].appendChild(s);\n",
       "          s.async = true;\n",
       "          s.onload = () => {\n",
       "            VEGA_DEBUG[key] = version;\n",
       "            return resolve(paths[lib]);\n",
       "          };\n",
       "          s.onerror = () => reject(`Error loading script: ${paths[lib]}`);\n",
       "          s.src = paths[lib];\n",
       "        });\n",
       "    }\n",
       "\n",
       "    function showError(err) {\n",
       "      outputDiv.innerHTML = `<div class=\"error\" style=\"color:red;\">${err}</div>`;\n",
       "      throw err;\n",
       "    }\n",
       "\n",
       "    function displayChart(vegaEmbed) {\n",
       "      vegaEmbed(outputDiv, spec, embedOpt)\n",
       "        .catch(err => showError(`Javascript Error: ${err.message}<br>This usually means there's a typo in your chart specification. See the javascript console for the full traceback.`));\n",
       "    }\n",
       "\n",
       "    if(typeof define === \"function\" && define.amd) {\n",
       "      requirejs.config({paths});\n",
       "      require([\"vega-embed\"], displayChart, err => showError(`Error loading script: ${err.message}`));\n",
       "    } else {\n",
       "      maybeLoadScript(\"vega\", \"5\")\n",
       "        .then(() => maybeLoadScript(\"vega-lite\", \"4.17.0\"))\n",
       "        .then(() => maybeLoadScript(\"vega-embed\", \"6\"))\n",
       "        .catch(showError)\n",
       "        .then(() => displayChart(vegaEmbed));\n",
       "    }\n",
       "  })({\"config\": {\"view\": {\"continuousWidth\": 400, \"continuousHeight\": 300}}, \"data\": {\"name\": \"data-cfc5bbc0c2df67d502dd5a2b7a2967cd\"}, \"mark\": \"bar\", \"encoding\": {\"tooltip\": [{\"field\": \"Year\", \"type\": \"quantitative\"}, {\"field\": \"Count\", \"type\": \"quantitative\"}], \"x\": {\"field\": \"Year\", \"type\": \"quantitative\"}, \"y\": {\"field\": \"Count\", \"type\": \"quantitative\"}}, \"selection\": {\"selector005\": {\"type\": \"interval\", \"bind\": \"scales\", \"encodings\": [\"x\", \"y\"]}}, \"title\": \"# of papers (with json errors) per year\", \"$schema\": \"https://vega.github.io/schema/vega-lite/v4.17.0.json\", \"datasets\": {\"data-cfc5bbc0c2df67d502dd5a2b7a2967cd\": [{\"Year\": 0, \"Count\": 508}, {\"Year\": 1800, \"Count\": 1}, {\"Year\": 1815, \"Count\": 1}, {\"Year\": 1824, \"Count\": 1}, {\"Year\": 1831, \"Count\": 1}, {\"Year\": 1843, \"Count\": 1}, {\"Year\": 1849, \"Count\": 1}, {\"Year\": 1850, \"Count\": 1}, {\"Year\": 1852, \"Count\": 1}, {\"Year\": 1855, \"Count\": 1}, {\"Year\": 1860, \"Count\": 1}, {\"Year\": 1872, \"Count\": 1}, {\"Year\": 1874, \"Count\": 1}, {\"Year\": 1876, \"Count\": 1}, {\"Year\": 1877, \"Count\": 1}, {\"Year\": 1878, \"Count\": 1}, {\"Year\": 1881, \"Count\": 1}, {\"Year\": 1883, \"Count\": 1}, {\"Year\": 1885, \"Count\": 1}, {\"Year\": 1887, \"Count\": 1}, {\"Year\": 1891, \"Count\": 1}, {\"Year\": 1892, \"Count\": 1}, {\"Year\": 1894, \"Count\": 4}, {\"Year\": 1895, \"Count\": 1}, {\"Year\": 1896, \"Count\": 1}, {\"Year\": 1898, \"Count\": 4}, {\"Year\": 1899, \"Count\": 3}, {\"Year\": 1900, \"Count\": 2}, {\"Year\": 1901, \"Count\": 2}, {\"Year\": 1902, \"Count\": 2}, {\"Year\": 1903, \"Count\": 5}, {\"Year\": 1904, \"Count\": 1}, {\"Year\": 1905, \"Count\": 3}, {\"Year\": 1906, \"Count\": 2}, {\"Year\": 1907, \"Count\": 3}, {\"Year\": 1908, \"Count\": 2}, {\"Year\": 1909, \"Count\": 2}, {\"Year\": 1910, \"Count\": 3}, {\"Year\": 1911, \"Count\": 4}, {\"Year\": 1912, \"Count\": 6}, {\"Year\": 1913, \"Count\": 3}, {\"Year\": 1914, \"Count\": 5}, {\"Year\": 1915, \"Count\": 1}, {\"Year\": 1916, \"Count\": 2}, {\"Year\": 1917, \"Count\": 1}, {\"Year\": 1918, \"Count\": 3}, {\"Year\": 1919, \"Count\": 4}, {\"Year\": 1920, \"Count\": 3}, {\"Year\": 1921, \"Count\": 1}, {\"Year\": 1922, \"Count\": 8}, {\"Year\": 1923, \"Count\": 3}, {\"Year\": 1924, \"Count\": 5}, {\"Year\": 1925, \"Count\": 4}, {\"Year\": 1926, \"Count\": 5}, {\"Year\": 1927, \"Count\": 4}, {\"Year\": 1928, \"Count\": 5}, {\"Year\": 1929, \"Count\": 3}, {\"Year\": 1930, \"Count\": 5}, {\"Year\": 1931, \"Count\": 8}, {\"Year\": 1932, \"Count\": 13}, {\"Year\": 1933, \"Count\": 5}, {\"Year\": 1934, \"Count\": 3}, {\"Year\": 1935, \"Count\": 3}, {\"Year\": 1936, \"Count\": 16}, {\"Year\": 1937, \"Count\": 16}, {\"Year\": 1938, \"Count\": 15}, {\"Year\": 1939, \"Count\": 22}, {\"Year\": 1940, \"Count\": 17}, {\"Year\": 1941, \"Count\": 13}, {\"Year\": 1942, \"Count\": 16}, {\"Year\": 1943, \"Count\": 14}, {\"Year\": 1944, \"Count\": 10}, {\"Year\": 1945, \"Count\": 13}, {\"Year\": 1946, \"Count\": 29}, {\"Year\": 1947, \"Count\": 21}, {\"Year\": 1948, \"Count\": 32}, {\"Year\": 1949, \"Count\": 47}, {\"Year\": 1950, \"Count\": 29}, {\"Year\": 1951, \"Count\": 27}, {\"Year\": 1952, \"Count\": 55}, {\"Year\": 1953, \"Count\": 80}, {\"Year\": 1954, \"Count\": 111}, {\"Year\": 1955, \"Count\": 103}, {\"Year\": 1956, \"Count\": 145}, {\"Year\": 1957, \"Count\": 153}, {\"Year\": 1958, \"Count\": 209}, {\"Year\": 1959, \"Count\": 356}, {\"Year\": 1960, \"Count\": 260}, {\"Year\": 1961, \"Count\": 405}, {\"Year\": 1962, \"Count\": 612}, {\"Year\": 1963, \"Count\": 443}, {\"Year\": 1964, \"Count\": 399}, {\"Year\": 1965, \"Count\": 519}, {\"Year\": 1966, \"Count\": 626}, {\"Year\": 1967, \"Count\": 635}, {\"Year\": 1968, \"Count\": 837}, {\"Year\": 1969, \"Count\": 761}, {\"Year\": 1970, \"Count\": 790}, {\"Year\": 1971, \"Count\": 1169}, {\"Year\": 1972, \"Count\": 1323}, {\"Year\": 1973, \"Count\": 1486}, {\"Year\": 1974, \"Count\": 1525}, {\"Year\": 1975, \"Count\": 1656}, {\"Year\": 1976, \"Count\": 1985}, {\"Year\": 1977, \"Count\": 2248}, {\"Year\": 1978, \"Count\": 2660}, {\"Year\": 1979, \"Count\": 2485}, {\"Year\": 1980, \"Count\": 3103}, {\"Year\": 1981, \"Count\": 3433}, {\"Year\": 1982, \"Count\": 4045}, {\"Year\": 1983, \"Count\": 4708}, {\"Year\": 1984, \"Count\": 5488}, {\"Year\": 1985, \"Count\": 5641}, {\"Year\": 1986, \"Count\": 7243}, {\"Year\": 1987, \"Count\": 7357}, {\"Year\": 1988, \"Count\": 8112}, {\"Year\": 1989, \"Count\": 9443}, {\"Year\": 1990, \"Count\": 10614}, {\"Year\": 1991, \"Count\": 11508}, {\"Year\": 1992, \"Count\": 12474}, {\"Year\": 1993, \"Count\": 14033}, {\"Year\": 1994, \"Count\": 14639}, {\"Year\": 1995, \"Count\": 15057}, {\"Year\": 1996, \"Count\": 15336}, {\"Year\": 1997, \"Count\": 16890}, {\"Year\": 1998, \"Count\": 18382}, {\"Year\": 1999, \"Count\": 20206}, {\"Year\": 2000, \"Count\": 20306}, {\"Year\": 2001, \"Count\": 21900}, {\"Year\": 2002, \"Count\": 21576}, {\"Year\": 2003, \"Count\": 25892}, {\"Year\": 2004, \"Count\": 29079}, {\"Year\": 2005, \"Count\": 33676}, {\"Year\": 2006, \"Count\": 35653}, {\"Year\": 2007, \"Count\": 38942}, {\"Year\": 2008, \"Count\": 41112}, {\"Year\": 2009, \"Count\": 42113}, {\"Year\": 2010, \"Count\": 50340}, {\"Year\": 2011, \"Count\": 58907}, {\"Year\": 2012, \"Count\": 62923}, {\"Year\": 2013, \"Count\": 73501}, {\"Year\": 2014, \"Count\": 71119}, {\"Year\": 2015, \"Count\": 81428}, {\"Year\": 2016, \"Count\": 172503}, {\"Year\": 2017, \"Count\": 201453}, {\"Year\": 2018, \"Count\": 217065}, {\"Year\": 2019, \"Count\": 222526}, {\"Year\": 2020, \"Count\": 227877}, {\"Year\": 2021, \"Count\": 47168}, {\"Year\": 2022, \"Count\": 1}, {\"Year\": 2300, \"Count\": 10}, {\"Year\": 8509, \"Count\": 1}, {\"Year\": 9737, \"Count\": 1}]}}, {\"mode\": \"vega-lite\"});\n",
       "</script>"
      ],
      "text/plain": [
       "alt.Chart(...)"
      ]
     },
     "execution_count": 49,
     "metadata": {},
     "output_type": "execute_result"
    }
   ],
   "source": [
    "alt.Chart(errors, title='# of papers (with json errors) per year').mark_bar().encode(x='Year', y='Count', tooltip=['Year', 'Count']).interactive()"
   ]
  },
  {
   "cell_type": "code",
   "execution_count": null,
   "id": "34c54517",
   "metadata": {},
   "outputs": [],
   "source": []
  },
  {
   "cell_type": "markdown",
   "id": "e974343a",
   "metadata": {},
   "source": [
    "# Look at DBLP v10 dataset"
   ]
  },
  {
   "cell_type": "code",
   "execution_count": 50,
   "id": "7a08bf33",
   "metadata": {},
   "outputs": [],
   "source": [
    "infolder = '../data/dblp-v10'\n",
    "filepaths = [infolder + '/dblp-ref-' + str(num) + '.json' for num in range(4)]"
   ]
  },
  {
   "cell_type": "code",
   "execution_count": 51,
   "id": "a050d6ff",
   "metadata": {},
   "outputs": [],
   "source": [
    "counts = {}"
   ]
  },
  {
   "cell_type": "code",
   "execution_count": 52,
   "id": "0e486030",
   "metadata": {},
   "outputs": [],
   "source": [
    "# for fp in filepaths:\n",
    "#     file = open(fp)\n",
    "#     for line in file:\n",
    "#         try:\n",
    "#             data = json.loads(line)\n",
    "#             year = data['year']\n",
    "#             if year < 1950 or year > 2018:\n",
    "#                 continue\n",
    "#             if 'abstract' in data.keys():\n",
    "#                 if len(data['abstract']) == 0:\n",
    "#                     continue\n",
    "#             else:\n",
    "#                 continue\n",
    "#             if 'title' in data.keys():\n",
    "#                 pass\n",
    "#             else:\n",
    "#                 continue\n",
    "#             if year not in counts:\n",
    "#                 counts[year] = 0\n",
    "#             else:\n",
    "#                 counts[year] += 1\n",
    "#         except:\n",
    "#             num_issues += 1\n",
    "#     file.close()"
   ]
  },
  {
   "cell_type": "code",
   "execution_count": 53,
   "id": "531d5d42",
   "metadata": {},
   "outputs": [],
   "source": [
    "# v10_counts = pd.DataFrame.from_dict(counts, orient='index').reset_index().rename(columns={'index': 'Year', 0: 'Count'})\n",
    "# v10_counts.sort_values(by='Year', inplace=True, ignore_index=True)\n",
    "# v10_counts"
   ]
  },
  {
   "cell_type": "code",
   "execution_count": 54,
   "id": "7c0c10df",
   "metadata": {},
   "outputs": [],
   "source": [
    "fp_v10 = '../data/dblp-v10/dblp-v10-counts.csv'"
   ]
  },
  {
   "cell_type": "code",
   "execution_count": 55,
   "id": "9952e303",
   "metadata": {},
   "outputs": [
    {
     "data": {
      "text/html": [
       "<div>\n",
       "<style scoped>\n",
       "    .dataframe tbody tr th:only-of-type {\n",
       "        vertical-align: middle;\n",
       "    }\n",
       "\n",
       "    .dataframe tbody tr th {\n",
       "        vertical-align: top;\n",
       "    }\n",
       "\n",
       "    .dataframe thead th {\n",
       "        text-align: right;\n",
       "    }\n",
       "</style>\n",
       "<table border=\"1\" class=\"dataframe\">\n",
       "  <thead>\n",
       "    <tr style=\"text-align: right;\">\n",
       "      <th></th>\n",
       "      <th>Year</th>\n",
       "      <th>Count</th>\n",
       "    </tr>\n",
       "  </thead>\n",
       "  <tbody>\n",
       "    <tr>\n",
       "      <th>0</th>\n",
       "      <td>1950</td>\n",
       "      <td>1</td>\n",
       "    </tr>\n",
       "    <tr>\n",
       "      <th>1</th>\n",
       "      <td>1951</td>\n",
       "      <td>1</td>\n",
       "    </tr>\n",
       "    <tr>\n",
       "      <th>2</th>\n",
       "      <td>1952</td>\n",
       "      <td>6</td>\n",
       "    </tr>\n",
       "    <tr>\n",
       "      <th>3</th>\n",
       "      <td>1953</td>\n",
       "      <td>20</td>\n",
       "    </tr>\n",
       "    <tr>\n",
       "      <th>4</th>\n",
       "      <td>1954</td>\n",
       "      <td>41</td>\n",
       "    </tr>\n",
       "    <tr>\n",
       "      <th>...</th>\n",
       "      <td>...</td>\n",
       "      <td>...</td>\n",
       "    </tr>\n",
       "    <tr>\n",
       "      <th>64</th>\n",
       "      <td>2014</td>\n",
       "      <td>169247</td>\n",
       "    </tr>\n",
       "    <tr>\n",
       "      <th>65</th>\n",
       "      <td>2015</td>\n",
       "      <td>188142</td>\n",
       "    </tr>\n",
       "    <tr>\n",
       "      <th>66</th>\n",
       "      <td>2016</td>\n",
       "      <td>185341</td>\n",
       "    </tr>\n",
       "    <tr>\n",
       "      <th>67</th>\n",
       "      <td>2017</td>\n",
       "      <td>56551</td>\n",
       "    </tr>\n",
       "    <tr>\n",
       "      <th>68</th>\n",
       "      <td>2018</td>\n",
       "      <td>3</td>\n",
       "    </tr>\n",
       "  </tbody>\n",
       "</table>\n",
       "<p>69 rows × 2 columns</p>\n",
       "</div>"
      ],
      "text/plain": [
       "    Year   Count\n",
       "0   1950       1\n",
       "1   1951       1\n",
       "2   1952       6\n",
       "3   1953      20\n",
       "4   1954      41\n",
       "..   ...     ...\n",
       "64  2014  169247\n",
       "65  2015  188142\n",
       "66  2016  185341\n",
       "67  2017   56551\n",
       "68  2018       3\n",
       "\n",
       "[69 rows x 2 columns]"
      ]
     },
     "execution_count": 55,
     "metadata": {},
     "output_type": "execute_result"
    }
   ],
   "source": [
    "v10_counts = pd.read_csv(fp_v10, index_col=0)\n",
    "v10_counts"
   ]
  },
  {
   "cell_type": "code",
   "execution_count": 56,
   "id": "7932579c",
   "metadata": {},
   "outputs": [
    {
     "data": {
      "text/html": [
       "\n",
       "<div id=\"altair-viz-d16ed1ab764349c7bcaccf55fca7233d\"></div>\n",
       "<script type=\"text/javascript\">\n",
       "  var VEGA_DEBUG = (typeof VEGA_DEBUG == \"undefined\") ? {} : VEGA_DEBUG;\n",
       "  (function(spec, embedOpt){\n",
       "    let outputDiv = document.currentScript.previousElementSibling;\n",
       "    if (outputDiv.id !== \"altair-viz-d16ed1ab764349c7bcaccf55fca7233d\") {\n",
       "      outputDiv = document.getElementById(\"altair-viz-d16ed1ab764349c7bcaccf55fca7233d\");\n",
       "    }\n",
       "    const paths = {\n",
       "      \"vega\": \"https://cdn.jsdelivr.net/npm//vega@5?noext\",\n",
       "      \"vega-lib\": \"https://cdn.jsdelivr.net/npm//vega-lib?noext\",\n",
       "      \"vega-lite\": \"https://cdn.jsdelivr.net/npm//vega-lite@4.17.0?noext\",\n",
       "      \"vega-embed\": \"https://cdn.jsdelivr.net/npm//vega-embed@6?noext\",\n",
       "    };\n",
       "\n",
       "    function maybeLoadScript(lib, version) {\n",
       "      var key = `${lib.replace(\"-\", \"\")}_version`;\n",
       "      return (VEGA_DEBUG[key] == version) ?\n",
       "        Promise.resolve(paths[lib]) :\n",
       "        new Promise(function(resolve, reject) {\n",
       "          var s = document.createElement('script');\n",
       "          document.getElementsByTagName(\"head\")[0].appendChild(s);\n",
       "          s.async = true;\n",
       "          s.onload = () => {\n",
       "            VEGA_DEBUG[key] = version;\n",
       "            return resolve(paths[lib]);\n",
       "          };\n",
       "          s.onerror = () => reject(`Error loading script: ${paths[lib]}`);\n",
       "          s.src = paths[lib];\n",
       "        });\n",
       "    }\n",
       "\n",
       "    function showError(err) {\n",
       "      outputDiv.innerHTML = `<div class=\"error\" style=\"color:red;\">${err}</div>`;\n",
       "      throw err;\n",
       "    }\n",
       "\n",
       "    function displayChart(vegaEmbed) {\n",
       "      vegaEmbed(outputDiv, spec, embedOpt)\n",
       "        .catch(err => showError(`Javascript Error: ${err.message}<br>This usually means there's a typo in your chart specification. See the javascript console for the full traceback.`));\n",
       "    }\n",
       "\n",
       "    if(typeof define === \"function\" && define.amd) {\n",
       "      requirejs.config({paths});\n",
       "      require([\"vega-embed\"], displayChart, err => showError(`Error loading script: ${err.message}`));\n",
       "    } else {\n",
       "      maybeLoadScript(\"vega\", \"5\")\n",
       "        .then(() => maybeLoadScript(\"vega-lite\", \"4.17.0\"))\n",
       "        .then(() => maybeLoadScript(\"vega-embed\", \"6\"))\n",
       "        .catch(showError)\n",
       "        .then(() => displayChart(vegaEmbed));\n",
       "    }\n",
       "  })({\"config\": {\"view\": {\"continuousWidth\": 400, \"continuousHeight\": 300}}, \"data\": {\"name\": \"data-cd966cf20973ff62f763393725cde6b2\"}, \"mark\": \"bar\", \"encoding\": {\"tooltip\": [{\"field\": \"Year\", \"type\": \"quantitative\"}, {\"field\": \"Count\", \"type\": \"quantitative\"}], \"x\": {\"field\": \"Year\", \"type\": \"quantitative\"}, \"y\": {\"field\": \"Count\", \"type\": \"quantitative\"}}, \"selection\": {\"selector006\": {\"type\": \"interval\", \"bind\": \"scales\", \"encodings\": [\"x\", \"y\"]}}, \"title\": \"# of papers per year\", \"$schema\": \"https://vega.github.io/schema/vega-lite/v4.17.0.json\", \"datasets\": {\"data-cd966cf20973ff62f763393725cde6b2\": [{\"Year\": 1950, \"Count\": 1}, {\"Year\": 1951, \"Count\": 1}, {\"Year\": 1952, \"Count\": 6}, {\"Year\": 1953, \"Count\": 20}, {\"Year\": 1954, \"Count\": 41}, {\"Year\": 1955, \"Count\": 34}, {\"Year\": 1956, \"Count\": 38}, {\"Year\": 1957, \"Count\": 38}, {\"Year\": 1958, \"Count\": 53}, {\"Year\": 1959, \"Count\": 95}, {\"Year\": 1960, \"Count\": 119}, {\"Year\": 1961, \"Count\": 161}, {\"Year\": 1962, \"Count\": 167}, {\"Year\": 1963, \"Count\": 183}, {\"Year\": 1964, \"Count\": 226}, {\"Year\": 1965, \"Count\": 272}, {\"Year\": 1966, \"Count\": 462}, {\"Year\": 1967, \"Count\": 545}, {\"Year\": 1968, \"Count\": 653}, {\"Year\": 1969, \"Count\": 716}, {\"Year\": 1970, \"Count\": 723}, {\"Year\": 1971, \"Count\": 878}, {\"Year\": 1972, \"Count\": 1133}, {\"Year\": 1973, \"Count\": 1254}, {\"Year\": 1974, \"Count\": 1582}, {\"Year\": 1975, \"Count\": 1546}, {\"Year\": 1976, \"Count\": 1814}, {\"Year\": 1977, \"Count\": 1832}, {\"Year\": 1978, \"Count\": 1945}, {\"Year\": 1979, \"Count\": 2275}, {\"Year\": 1980, \"Count\": 2434}, {\"Year\": 1981, \"Count\": 2937}, {\"Year\": 1982, \"Count\": 3260}, {\"Year\": 1983, \"Count\": 3737}, {\"Year\": 1984, \"Count\": 4518}, {\"Year\": 1985, \"Count\": 4608}, {\"Year\": 1986, \"Count\": 4993}, {\"Year\": 1987, \"Count\": 6200}, {\"Year\": 1988, \"Count\": 7829}, {\"Year\": 1989, \"Count\": 9187}, {\"Year\": 1990, \"Count\": 10350}, {\"Year\": 1991, \"Count\": 11145}, {\"Year\": 1992, \"Count\": 13525}, {\"Year\": 1993, \"Count\": 16531}, {\"Year\": 1994, \"Count\": 19895}, {\"Year\": 1995, \"Count\": 21141}, {\"Year\": 1996, \"Count\": 24285}, {\"Year\": 1997, \"Count\": 28384}, {\"Year\": 1998, \"Count\": 33059}, {\"Year\": 1999, \"Count\": 37556}, {\"Year\": 2000, \"Count\": 45191}, {\"Year\": 2001, \"Count\": 50411}, {\"Year\": 2002, \"Count\": 59157}, {\"Year\": 2003, \"Count\": 69262}, {\"Year\": 2004, \"Count\": 85678}, {\"Year\": 2005, \"Count\": 104145}, {\"Year\": 2006, \"Count\": 120716}, {\"Year\": 2007, \"Count\": 130716}, {\"Year\": 2008, \"Count\": 140498}, {\"Year\": 2009, \"Count\": 155775}, {\"Year\": 2010, \"Count\": 162040}, {\"Year\": 2011, \"Count\": 174127}, {\"Year\": 2012, \"Count\": 182832}, {\"Year\": 2013, \"Count\": 184243}, {\"Year\": 2014, \"Count\": 169247}, {\"Year\": 2015, \"Count\": 188142}, {\"Year\": 2016, \"Count\": 185341}, {\"Year\": 2017, \"Count\": 56551}, {\"Year\": 2018, \"Count\": 3}]}}, {\"mode\": \"vega-lite\"});\n",
       "</script>"
      ],
      "text/plain": [
       "alt.Chart(...)"
      ]
     },
     "execution_count": 56,
     "metadata": {},
     "output_type": "execute_result"
    }
   ],
   "source": [
    "# Altair examples: https://altair-viz.github.io/gallery/index.html\n",
    "x = alt.Chart(v10_counts, title='# of papers per year').mark_bar().encode(x='Year', y='Count', tooltip=['Year', 'Count']).interactive()\n",
    "x"
   ]
  },
  {
   "cell_type": "code",
   "execution_count": null,
   "id": "fa27eb36",
   "metadata": {},
   "outputs": [],
   "source": []
  },
  {
   "cell_type": "code",
   "execution_count": 57,
   "id": "78b5c115",
   "metadata": {},
   "outputs": [
    {
     "data": {
      "text/plain": [
       "Text(0.5, 1.0, 'Number of papers per year (DBLP v10)')"
      ]
     },
     "execution_count": 57,
     "metadata": {},
     "output_type": "execute_result"
    },
    {
     "data": {
      "image/png": "[encoded data removed]",
      "text/plain": [
       "<Figure size 432x288 with 1 Axes>"
      ]
     },
     "metadata": {
      "needs_background": "light"
     },
     "output_type": "display_data"
    }
   ],
   "source": [
    "plt.bar(v10_counts['Year'], v10_counts['Count'])\n",
    "plt.xlabel('Year')\n",
    "plt.ylabel('Count')\n",
    "plt.title('Number of papers per year (DBLP v10)')\n",
    "#plt.savefig('test.png')"
   ]
  },
  {
   "cell_type": "code",
   "execution_count": 58,
   "id": "8a864fe9",
   "metadata": {},
   "outputs": [],
   "source": [
    "#from altair_saver import save\n",
    "#save(x, 'test.png')"
   ]
  },
  {
   "cell_type": "markdown",
   "id": "3de3e434",
   "metadata": {},
   "source": [
    "# Looking at AutoPhrase and segmentation results"
   ]
  },
  {
   "cell_type": "code",
   "execution_count": 59,
   "id": "76e8adf6",
   "metadata": {},
   "outputs": [],
   "source": [
    "ap_fp = '../results/dblp-v10-grouped/phrases.csv'"
   ]
  },
  {
   "cell_type": "code",
   "execution_count": 60,
   "id": "f59e8213",
   "metadata": {},
   "outputs": [
    {
     "data": {
      "text/html": [
       "<div>\n",
       "<style scoped>\n",
       "    .dataframe tbody tr th:only-of-type {\n",
       "        vertical-align: middle;\n",
       "    }\n",
       "\n",
       "    .dataframe tbody tr th {\n",
       "        vertical-align: top;\n",
       "    }\n",
       "\n",
       "    .dataframe thead th {\n",
       "        text-align: right;\n",
       "    }\n",
       "</style>\n",
       "<table border=\"1\" class=\"dataframe\">\n",
       "  <thead>\n",
       "    <tr style=\"text-align: right;\">\n",
       "      <th></th>\n",
       "      <th>Phrase Quality</th>\n",
       "      <th>Phrase</th>\n",
       "      <th>Year</th>\n",
       "      <th>Num Words</th>\n",
       "    </tr>\n",
       "  </thead>\n",
       "  <tbody>\n",
       "    <tr>\n",
       "      <th>0</th>\n",
       "      <td>0.9915</td>\n",
       "      <td>operations research</td>\n",
       "      <td>1950-1959</td>\n",
       "      <td>2</td>\n",
       "    </tr>\n",
       "    <tr>\n",
       "      <th>1</th>\n",
       "      <td>0.6505</td>\n",
       "      <td>operations research society of america</td>\n",
       "      <td>1950-1959</td>\n",
       "      <td>5</td>\n",
       "    </tr>\n",
       "    <tr>\n",
       "      <th>2</th>\n",
       "      <td>0.5735</td>\n",
       "      <td>high speed</td>\n",
       "      <td>1950-1959</td>\n",
       "      <td>2</td>\n",
       "    </tr>\n",
       "    <tr>\n",
       "      <th>3</th>\n",
       "      <td>0.5255</td>\n",
       "      <td>operations research society</td>\n",
       "      <td>1950-1959</td>\n",
       "      <td>3</td>\n",
       "    </tr>\n",
       "    <tr>\n",
       "      <th>4</th>\n",
       "      <td>0.9810</td>\n",
       "      <td>tunnel diode</td>\n",
       "      <td>1960-1964</td>\n",
       "      <td>2</td>\n",
       "    </tr>\n",
       "  </tbody>\n",
       "</table>\n",
       "</div>"
      ],
      "text/plain": [
       "   Phrase Quality                                  Phrase       Year  \\\n",
       "0          0.9915                     operations research  1950-1959   \n",
       "1          0.6505  operations research society of america  1950-1959   \n",
       "2          0.5735                              high speed  1950-1959   \n",
       "3          0.5255             operations research society  1950-1959   \n",
       "4          0.9810                            tunnel diode  1960-1964   \n",
       "\n",
       "   Num Words  \n",
       "0          2  \n",
       "1          5  \n",
       "2          2  \n",
       "3          3  \n",
       "4          2  "
      ]
     },
     "execution_count": 60,
     "metadata": {},
     "output_type": "execute_result"
    }
   ],
   "source": [
    "ap = pd.read_csv(ap_fp, index_col=0)\n",
    "ap.head()"
   ]
  },
  {
   "cell_type": "code",
   "execution_count": 61,
   "id": "5a28636b",
   "metadata": {},
   "outputs": [
    {
     "data": {
      "text/plain": [
       "Year\n",
       "1950-1959    3.000000\n",
       "1960-1964    2.000000\n",
       "1965-1969    2.050000\n",
       "1970-1974    2.082707\n",
       "1975-1979    2.118812\n",
       "1980-1984    2.085992\n",
       "1985-1989    2.123845\n",
       "1990-1994    2.138755\n",
       "1995-1999    2.080498\n",
       "2000-2004    2.114116\n",
       "2005-2009    2.142949\n",
       "2010-2014    2.154896\n",
       "2015-2017    2.112137\n",
       "Name: Num Words, dtype: float64"
      ]
     },
     "execution_count": 61,
     "metadata": {},
     "output_type": "execute_result"
    }
   ],
   "source": [
    "avg_num_words = ap.groupby('Year')['Num Words']\n",
    "avg_num_words.mean()"
   ]
  },
  {
   "cell_type": "code",
   "execution_count": 62,
   "id": "f04a2954",
   "metadata": {},
   "outputs": [
    {
     "data": {
      "image/png": "[encoded data removed]",
      "text/plain": [
       "<Figure size 432x288 with 1 Axes>"
      ]
     },
     "metadata": {
      "needs_background": "light"
     },
     "output_type": "display_data"
    }
   ],
   "source": [
    "avg_num_words.mean().plot(kind='barh', \n",
    "                          xlabel='Year Range', \n",
    "                          title='Average number of words per phrase in each year range')\n",
    "plt.xlabel('Average number of words in each phrase')\n",
    "plt.gca().invert_yaxis()"
   ]
  },
  {
   "cell_type": "code",
   "execution_count": 63,
   "id": "1a785045",
   "metadata": {},
   "outputs": [
    {
     "data": {
      "text/plain": [
       "Text(0.5, 0, 'Number of words in phrase')"
      ]
     },
     "execution_count": 63,
     "metadata": {},
     "output_type": "execute_result"
    },
    {
     "data": {
      "image/png": "[encoded data removed]",
      "text/plain": [
       "<Figure size 432x288 with 1 Axes>"
      ]
     },
     "metadata": {
      "needs_background": "light"
     },
     "output_type": "display_data"
    }
   ],
   "source": [
    "ap['Num Words'].plot.hist(title='Distribution of number of words in phrases')\n",
    "plt.xlabel('Number of words in phrase')"
   ]
  },
  {
   "cell_type": "code",
   "execution_count": null,
   "id": "3bf462f7",
   "metadata": {},
   "outputs": [],
   "source": []
  },
  {
   "cell_type": "code",
   "execution_count": 64,
   "id": "63876ebc",
   "metadata": {},
   "outputs": [],
   "source": [
    "from glob import glob"
   ]
  },
  {
   "cell_type": "code",
   "execution_count": 65,
   "id": "99263894",
   "metadata": {},
   "outputs": [],
   "source": [
    "infolder = '../results/dblp-v10-grouped'\n",
    "subfolders = glob(infolder + '/*.csv')\n",
    "subfolders = list(filter(lambda x: 'segmented' in x, subfolders))"
   ]
  },
  {
   "cell_type": "code",
   "execution_count": 66,
   "id": "c36c0675",
   "metadata": {},
   "outputs": [],
   "source": [
    "out = pd.DataFrame(columns=['Year', 'Num Phrases'])\n",
    "for fp in subfolders:\n",
    "    df = pd.read_csv(fp, index_col=0)\n",
    "    df = df.dropna()\n",
    "    df['Num Phrases'] = df.apply(lambda x: len(x['Phrases'].split(',')), axis=1)\n",
    "    #df = df.drop('Phrases', axis=1)\n",
    "    out = out.append(df, ignore_index=True)"
   ]
  },
  {
   "cell_type": "code",
   "execution_count": 67,
   "id": "634cd546",
   "metadata": {},
   "outputs": [
    {
     "data": {
      "text/html": [
       "<div>\n",
       "<style scoped>\n",
       "    .dataframe tbody tr th:only-of-type {\n",
       "        vertical-align: middle;\n",
       "    }\n",
       "\n",
       "    .dataframe tbody tr th {\n",
       "        vertical-align: top;\n",
       "    }\n",
       "\n",
       "    .dataframe thead th {\n",
       "        text-align: right;\n",
       "    }\n",
       "</style>\n",
       "<table border=\"1\" class=\"dataframe\">\n",
       "  <thead>\n",
       "    <tr style=\"text-align: right;\">\n",
       "      <th></th>\n",
       "      <th>Year</th>\n",
       "      <th>Num Phrases</th>\n",
       "      <th>Phrases</th>\n",
       "    </tr>\n",
       "  </thead>\n",
       "  <tbody>\n",
       "    <tr>\n",
       "      <th>0</th>\n",
       "      <td>1950-1959</td>\n",
       "      <td>14</td>\n",
       "      <td>paper,wheatstone,bridge,tangent,triangle,trian...</td>\n",
       "    </tr>\n",
       "    <tr>\n",
       "      <th>1</th>\n",
       "      <td>1950-1959</td>\n",
       "      <td>6</td>\n",
       "      <td>numerical integration,differential equations,o...</td>\n",
       "    </tr>\n",
       "    <tr>\n",
       "      <th>2</th>\n",
       "      <td>1950-1959</td>\n",
       "      <td>1</td>\n",
       "      <td>fur</td>\n",
       "    </tr>\n",
       "    <tr>\n",
       "      <th>3</th>\n",
       "      <td>1950-1959</td>\n",
       "      <td>8</td>\n",
       "      <td>computing,computing,amplifier,high,amplifiers,...</td>\n",
       "    </tr>\n",
       "    <tr>\n",
       "      <th>4</th>\n",
       "      <td>1950-1959</td>\n",
       "      <td>5</td>\n",
       "      <td>operations research,journal,operations researc...</td>\n",
       "    </tr>\n",
       "    <tr>\n",
       "      <th>...</th>\n",
       "      <td>...</td>\n",
       "      <td>...</td>\n",
       "      <td>...</td>\n",
       "    </tr>\n",
       "    <tr>\n",
       "      <th>2548126</th>\n",
       "      <td>2015-2017</td>\n",
       "      <td>44</td>\n",
       "      <td>research,fi,indoor,location-based service lbs,...</td>\n",
       "    </tr>\n",
       "    <tr>\n",
       "      <th>2548127</th>\n",
       "      <td>2015-2017</td>\n",
       "      <td>18</td>\n",
       "      <td>icts,eliminating,gender,entrepreneurship,gover...</td>\n",
       "    </tr>\n",
       "    <tr>\n",
       "      <th>2548128</th>\n",
       "      <td>2015-2017</td>\n",
       "      <td>12</td>\n",
       "      <td>infinite horizon,inventory,model,general,reven...</td>\n",
       "    </tr>\n",
       "    <tr>\n",
       "      <th>2548129</th>\n",
       "      <td>2015-2017</td>\n",
       "      <td>51</td>\n",
       "      <td>infrared,technology,deep-space,radiation,earth...</td>\n",
       "    </tr>\n",
       "    <tr>\n",
       "      <th>2548130</th>\n",
       "      <td>2015-2017</td>\n",
       "      <td>34</td>\n",
       "      <td>net,power output,exergy,organic,rankine cycle,...</td>\n",
       "    </tr>\n",
       "  </tbody>\n",
       "</table>\n",
       "<p>2548131 rows × 3 columns</p>\n",
       "</div>"
      ],
      "text/plain": [
       "              Year Num Phrases  \\\n",
       "0        1950-1959          14   \n",
       "1        1950-1959           6   \n",
       "2        1950-1959           1   \n",
       "3        1950-1959           8   \n",
       "4        1950-1959           5   \n",
       "...            ...         ...   \n",
       "2548126  2015-2017          44   \n",
       "2548127  2015-2017          18   \n",
       "2548128  2015-2017          12   \n",
       "2548129  2015-2017          51   \n",
       "2548130  2015-2017          34   \n",
       "\n",
       "                                                   Phrases  \n",
       "0        paper,wheatstone,bridge,tangent,triangle,trian...  \n",
       "1        numerical integration,differential equations,o...  \n",
       "2                                                      fur  \n",
       "3        computing,computing,amplifier,high,amplifiers,...  \n",
       "4        operations research,journal,operations researc...  \n",
       "...                                                    ...  \n",
       "2548126  research,fi,indoor,location-based service lbs,...  \n",
       "2548127  icts,eliminating,gender,entrepreneurship,gover...  \n",
       "2548128  infinite horizon,inventory,model,general,reven...  \n",
       "2548129  infrared,technology,deep-space,radiation,earth...  \n",
       "2548130  net,power output,exergy,organic,rankine cycle,...  \n",
       "\n",
       "[2548131 rows x 3 columns]"
      ]
     },
     "execution_count": 67,
     "metadata": {},
     "output_type": "execute_result"
    }
   ],
   "source": [
    "out"
   ]
  },
  {
   "cell_type": "code",
   "execution_count": 68,
   "id": "799fb249",
   "metadata": {},
   "outputs": [
    {
     "data": {
      "text/plain": [
       "Year\n",
       "1950-1959    13.215569\n",
       "1960-1964    12.715123\n",
       "1965-1969    11.686223\n",
       "1970-1974    10.842989\n",
       "1975-1979    11.825850\n",
       "1980-1984    12.377227\n",
       "1985-1989    14.123148\n",
       "1990-1994    15.992997\n",
       "1995-1999    18.931781\n",
       "2000-2004    21.217220\n",
       "2005-2009    30.345482\n",
       "2010-2014    37.662749\n",
       "2015-2017    32.390009\n",
       "Name: Num Phrases, dtype: float64"
      ]
     },
     "execution_count": 68,
     "metadata": {},
     "output_type": "execute_result"
    }
   ],
   "source": [
    "out.groupby('Year')['Num Phrases'].mean()"
   ]
  },
  {
   "cell_type": "code",
   "execution_count": null,
   "id": "b3ad0242",
   "metadata": {},
   "outputs": [],
   "source": []
  },
  {
   "cell_type": "code",
   "execution_count": 69,
   "id": "f6011e52",
   "metadata": {},
   "outputs": [
    {
     "data": {
      "image/png": "[encoded data removed]",
      "text/plain": [
       "<Figure size 432x288 with 1 Axes>"
      ]
     },
     "metadata": {
      "needs_background": "light"
     },
     "output_type": "display_data"
    }
   ],
   "source": [
    "out.groupby('Year')['Num Phrases'].mean().plot(kind='barh', \n",
    "                                               xlabel='Year Range',\n",
    "                                               title='Average number of phrases per paper in each year range')\n",
    "plt.xlabel('Average number of phrases identified by AutoPhrase per paper')\n",
    "plt.gca().invert_yaxis()"
   ]
  },
  {
   "cell_type": "code",
   "execution_count": null,
   "id": "c9af0e06",
   "metadata": {},
   "outputs": [],
   "source": []
  },
  {
   "cell_type": "code",
   "execution_count": 73,
   "id": "ab828099",
   "metadata": {},
   "outputs": [
    {
     "data": {
      "image/png": "[encoded data removed]",
      "text/plain": [
       "<Figure size 432x288 with 1 Axes>"
      ]
     },
     "metadata": {
      "needs_background": "light"
     },
     "output_type": "display_data"
    }
   ],
   "source": [
    "out[out['Num Phrases'] < 200]['Num Phrases'].plot.hist(bins=50, title='Distribution of number of phrases per paper')\n",
    "plt.xlabel('Number of phrases identified by AutoPhrase per paper')\n",
    "plt.autoscale()"
   ]
  },
  {
   "cell_type": "code",
   "execution_count": 71,
   "id": "05bec878",
   "metadata": {},
   "outputs": [],
   "source": [
    "#out['Num Phrases'].plot.hist(bins=50, title='Distribution of number of phrases per paper')"
   ]
  },
  {
   "cell_type": "code",
   "execution_count": 72,
   "id": "fc860ac6",
   "metadata": {},
   "outputs": [
    {
     "data": {
      "text/plain": [
       "1537086    322\n",
       "1562036    327\n",
       "729979     329\n",
       "144075     329\n",
       "1925705    331\n",
       "1830399    339\n",
       "2282915    339\n",
       "1551934    340\n",
       "1514717    340\n",
       "1511660    341\n",
       "1499203    343\n",
       "1520344    347\n",
       "1694641    349\n",
       "1630115    349\n",
       "783170     350\n",
       "2070142    355\n",
       "1320528    357\n",
       "1328105    371\n",
       "714968     374\n",
       "664871     689\n",
       "Name: Num Phrases, dtype: object"
      ]
     },
     "execution_count": 72,
     "metadata": {},
     "output_type": "execute_result"
    }
   ],
   "source": [
    "sort_out = out['Num Phrases'].sort_values()\n",
    "sort_out[-20:]"
   ]
  },
  {
   "cell_type": "code",
   "execution_count": null,
   "id": "d30da361",
   "metadata": {},
   "outputs": [],
   "source": []
  }
 ],
 "metadata": {
  "kernelspec": {
   "display_name": "Python 3 (ipykernel)",
   "language": "python",
   "name": "python3"
  },
  "language_info": {
   "codemirror_mode": {
    "name": "ipython",
    "version": 3
   },
   "file_extension": ".py",
   "mimetype": "text/x-python",
   "name": "python",
   "nbconvert_exporter": "python",
   "pygments_lexer": "ipython3",
   "version": "3.9.7"
  }
 },
 "nbformat": 4,
 "nbformat_minor": 5
}
