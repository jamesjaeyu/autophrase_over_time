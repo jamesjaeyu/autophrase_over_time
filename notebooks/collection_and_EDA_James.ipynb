{
 "cells": [
  {
   "cell_type": "markdown",
   "id": "678b71e4",
   "metadata": {},
   "source": [
    "# Notebook for collection of data + EDA\n",
    "# James Yu"
   ]
  },
  {
   "cell_type": "code",
   "execution_count": 12,
   "id": "d0a4208f",
   "metadata": {},
   "outputs": [],
   "source": [
    "import pandas as pd\n",
    "from random import sample\n",
    "import sys\n",
    "import json"
   ]
  },
  {
   "cell_type": "markdown",
   "id": "9b07d8ad",
   "metadata": {},
   "source": [
    "## Looking at arXiv dataset from Kaggle"
   ]
  },
  {
   "cell_type": "code",
   "execution_count": 13,
   "id": "e8fa7d59",
   "metadata": {},
   "outputs": [],
   "source": [
    "fp1 = '../data/arxivData.json'"
   ]
  },
  {
   "cell_type": "code",
   "execution_count": 14,
   "id": "285ee3dd",
   "metadata": {},
   "outputs": [
    {
     "data": {
      "text/html": [
       "<div>\n",
       "<style scoped>\n",
       "    .dataframe tbody tr th:only-of-type {\n",
       "        vertical-align: middle;\n",
       "    }\n",
       "\n",
       "    .dataframe tbody tr th {\n",
       "        vertical-align: top;\n",
       "    }\n",
       "\n",
       "    .dataframe thead th {\n",
       "        text-align: right;\n",
       "    }\n",
       "</style>\n",
       "<table border=\"1\" class=\"dataframe\">\n",
       "  <thead>\n",
       "    <tr style=\"text-align: right;\">\n",
       "      <th></th>\n",
       "      <th>author</th>\n",
       "      <th>day</th>\n",
       "      <th>id</th>\n",
       "      <th>link</th>\n",
       "      <th>month</th>\n",
       "      <th>summary</th>\n",
       "      <th>tag</th>\n",
       "      <th>title</th>\n",
       "      <th>year</th>\n",
       "    </tr>\n",
       "  </thead>\n",
       "  <tbody>\n",
       "    <tr>\n",
       "      <th>0</th>\n",
       "      <td>[{'name': 'Ahmed Osman'}, {'name': 'Wojciech S...</td>\n",
       "      <td>1</td>\n",
       "      <td>1802.00209v1</td>\n",
       "      <td>[{'rel': 'alternate', 'href': 'http://arxiv.or...</td>\n",
       "      <td>2</td>\n",
       "      <td>We propose an architecture for VQA which utili...</td>\n",
       "      <td>[{'term': 'cs.AI', 'scheme': 'http://arxiv.org...</td>\n",
       "      <td>Dual Recurrent Attention Units for Visual Ques...</td>\n",
       "      <td>2018</td>\n",
       "    </tr>\n",
       "    <tr>\n",
       "      <th>1</th>\n",
       "      <td>[{'name': 'Ji Young Lee'}, {'name': 'Franck De...</td>\n",
       "      <td>12</td>\n",
       "      <td>1603.03827v1</td>\n",
       "      <td>[{'rel': 'alternate', 'href': 'http://arxiv.or...</td>\n",
       "      <td>3</td>\n",
       "      <td>Recent approaches based on artificial neural n...</td>\n",
       "      <td>[{'term': 'cs.CL', 'scheme': 'http://arxiv.org...</td>\n",
       "      <td>Sequential Short-Text Classification with Recu...</td>\n",
       "      <td>2016</td>\n",
       "    </tr>\n",
       "    <tr>\n",
       "      <th>2</th>\n",
       "      <td>[{'name': 'Iulian Vlad Serban'}, {'name': 'Tim...</td>\n",
       "      <td>2</td>\n",
       "      <td>1606.00776v2</td>\n",
       "      <td>[{'rel': 'alternate', 'href': 'http://arxiv.or...</td>\n",
       "      <td>6</td>\n",
       "      <td>We introduce the multiresolution recurrent neu...</td>\n",
       "      <td>[{'term': 'cs.CL', 'scheme': 'http://arxiv.org...</td>\n",
       "      <td>Multiresolution Recurrent Neural Networks: An ...</td>\n",
       "      <td>2016</td>\n",
       "    </tr>\n",
       "    <tr>\n",
       "      <th>3</th>\n",
       "      <td>[{'name': 'Sebastian Ruder'}, {'name': 'Joachi...</td>\n",
       "      <td>23</td>\n",
       "      <td>1705.08142v2</td>\n",
       "      <td>[{'rel': 'alternate', 'href': 'http://arxiv.or...</td>\n",
       "      <td>5</td>\n",
       "      <td>Multi-task learning is motivated by the observ...</td>\n",
       "      <td>[{'term': 'stat.ML', 'scheme': 'http://arxiv.o...</td>\n",
       "      <td>Learning what to share between loosely related...</td>\n",
       "      <td>2017</td>\n",
       "    </tr>\n",
       "    <tr>\n",
       "      <th>4</th>\n",
       "      <td>[{'name': 'Iulian V. Serban'}, {'name': 'Chinn...</td>\n",
       "      <td>7</td>\n",
       "      <td>1709.02349v2</td>\n",
       "      <td>[{'rel': 'alternate', 'href': 'http://arxiv.or...</td>\n",
       "      <td>9</td>\n",
       "      <td>We present MILABOT: a deep reinforcement learn...</td>\n",
       "      <td>[{'term': 'cs.CL', 'scheme': 'http://arxiv.org...</td>\n",
       "      <td>A Deep Reinforcement Learning Chatbot</td>\n",
       "      <td>2017</td>\n",
       "    </tr>\n",
       "  </tbody>\n",
       "</table>\n",
       "</div>"
      ],
      "text/plain": [
       "                                              author  day            id  \\\n",
       "0  [{'name': 'Ahmed Osman'}, {'name': 'Wojciech S...    1  1802.00209v1   \n",
       "1  [{'name': 'Ji Young Lee'}, {'name': 'Franck De...   12  1603.03827v1   \n",
       "2  [{'name': 'Iulian Vlad Serban'}, {'name': 'Tim...    2  1606.00776v2   \n",
       "3  [{'name': 'Sebastian Ruder'}, {'name': 'Joachi...   23  1705.08142v2   \n",
       "4  [{'name': 'Iulian V. Serban'}, {'name': 'Chinn...    7  1709.02349v2   \n",
       "\n",
       "                                                link  month  \\\n",
       "0  [{'rel': 'alternate', 'href': 'http://arxiv.or...      2   \n",
       "1  [{'rel': 'alternate', 'href': 'http://arxiv.or...      3   \n",
       "2  [{'rel': 'alternate', 'href': 'http://arxiv.or...      6   \n",
       "3  [{'rel': 'alternate', 'href': 'http://arxiv.or...      5   \n",
       "4  [{'rel': 'alternate', 'href': 'http://arxiv.or...      9   \n",
       "\n",
       "                                             summary  \\\n",
       "0  We propose an architecture for VQA which utili...   \n",
       "1  Recent approaches based on artificial neural n...   \n",
       "2  We introduce the multiresolution recurrent neu...   \n",
       "3  Multi-task learning is motivated by the observ...   \n",
       "4  We present MILABOT: a deep reinforcement learn...   \n",
       "\n",
       "                                                 tag  \\\n",
       "0  [{'term': 'cs.AI', 'scheme': 'http://arxiv.org...   \n",
       "1  [{'term': 'cs.CL', 'scheme': 'http://arxiv.org...   \n",
       "2  [{'term': 'cs.CL', 'scheme': 'http://arxiv.org...   \n",
       "3  [{'term': 'stat.ML', 'scheme': 'http://arxiv.o...   \n",
       "4  [{'term': 'cs.CL', 'scheme': 'http://arxiv.org...   \n",
       "\n",
       "                                               title  year  \n",
       "0  Dual Recurrent Attention Units for Visual Ques...  2018  \n",
       "1  Sequential Short-Text Classification with Recu...  2016  \n",
       "2  Multiresolution Recurrent Neural Networks: An ...  2016  \n",
       "3  Learning what to share between loosely related...  2017  \n",
       "4              A Deep Reinforcement Learning Chatbot  2017  "
      ]
     },
     "execution_count": 14,
     "metadata": {},
     "output_type": "execute_result"
    }
   ],
   "source": [
    "# arXiv dataset from Kaggle https://www.kaggle.com/neelshah18/arxivdataset\n",
    "df1 = pd.read_json(fp1)\n",
    "df1.head()"
   ]
  },
  {
   "cell_type": "code",
   "execution_count": 15,
   "id": "77dbf322",
   "metadata": {},
   "outputs": [],
   "source": [
    "#df1.value_counts('year')"
   ]
  },
  {
   "cell_type": "code",
   "execution_count": 16,
   "id": "4004037f",
   "metadata": {},
   "outputs": [],
   "source": [
    "#df1.value_counts('month')"
   ]
  },
  {
   "cell_type": "code",
   "execution_count": 17,
   "id": "e316eadf",
   "metadata": {},
   "outputs": [
    {
     "data": {
      "text/plain": [
       "year\n",
       "1993    Dynamic Backtracking A Market-Oriented Program...\n",
       "1994    Teleo-Reactive Programs for Agent Control Lear...\n",
       "1995    Solving Multiclass Learning Problems via Error...\n",
       "1996    The Design and Experimental Analysis of Algori...\n",
       "1997    Machine Learning of User Profiles: Representat...\n",
       "Name: title, dtype: object"
      ]
     },
     "execution_count": 17,
     "metadata": {},
     "output_type": "execute_result"
    }
   ],
   "source": [
    "agg_titles_by_year = df1.groupby('year')['title'].apply(' '.join)\n",
    "agg_titles_by_year.head()"
   ]
  },
  {
   "cell_type": "code",
   "execution_count": 18,
   "id": "c012371c",
   "metadata": {},
   "outputs": [
    {
     "data": {
      "text/plain": [
       "year\n",
       "1993    Because of their occasional need to return to ...\n",
       "1994    A formalism is presented for computing and org...\n",
       "1995    Multiclass learning problems involve finding a...\n",
       "1996    Many applications -- from planning and schedul...\n",
       "1997    As more information becomes available electron...\n",
       "Name: summary, dtype: object"
      ]
     },
     "execution_count": 18,
     "metadata": {},
     "output_type": "execute_result"
    }
   ],
   "source": [
    "agg_summ_by_year = df1.groupby('year')['summary'].apply(' '.join)\n",
    "agg_summ_by_year.head()"
   ]
  },
  {
   "cell_type": "code",
   "execution_count": 19,
   "id": "be3ef6f3",
   "metadata": {},
   "outputs": [
    {
     "data": {
      "text/plain": [
       "year\n",
       "1993    Dynamic Backtracking A Market-Oriented Program...\n",
       "1994    Teleo-Reactive Programs for Agent Control Lear...\n",
       "1995    Solving Multiclass Learning Problems via Error...\n",
       "1996    The Design and Experimental Analysis of Algori...\n",
       "1997    Machine Learning of User Profiles: Representat...\n",
       "dtype: object"
      ]
     },
     "execution_count": 19,
     "metadata": {},
     "output_type": "execute_result"
    }
   ],
   "source": [
    "agg_all_by_year = df1.groupby('year')['title'].apply(' '.join) + ' ' + df1.groupby('year')['summary'].apply(' '.join)\n",
    "agg_all_by_year.head()"
   ]
  },
  {
   "cell_type": "code",
   "execution_count": 20,
   "id": "63162ac8",
   "metadata": {},
   "outputs": [
    {
     "data": {
      "text/plain": [
       "'Dynamic Backtracking A Market-Oriented Programming Environment and its Application to\\n  Distributed Multicommodity Flow Problems An Empirical Analysis of Search in GSAT The Difficulties of Learning Logic Programs with Cut Software Agents: Completing Patterns and Constructing User Interfaces Decidable Reasoning in Terminological Knowledge Representation Systems Because of their occasional need to return to shallow points in a search\\ntree, existing backtracking methods can sometimes erase meaningf'"
      ]
     },
     "execution_count": 20,
     "metadata": {},
     "output_type": "execute_result"
    }
   ],
   "source": [
    "agg_all_by_year[1993][:500]"
   ]
  },
  {
   "cell_type": "code",
   "execution_count": 21,
   "id": "dd270e46",
   "metadata": {},
   "outputs": [
    {
     "data": {
      "text/plain": [
       "'Dynamic Backtracking A Market-Oriented Programming Environment and its Application to   Distributed Multicommodity Flow Problems An Empirical Analysis of Search in GSAT The Difficulties of Learning Logic Programs with Cut Software Agents: Completing Patterns and Constructing User Interfaces Decidable Reasoning in Terminological Knowledge Representation Systems Because of their occasional need to return to shallow points in a search tree, existing backtracking methods can sometimes erase meaningf'"
      ]
     },
     "execution_count": 21,
     "metadata": {},
     "output_type": "execute_result"
    }
   ],
   "source": [
    "agg_all_by_year[1993][:500].replace('\\n', ' ')"
   ]
  },
  {
   "cell_type": "code",
   "execution_count": null,
   "id": "01a6df76",
   "metadata": {},
   "outputs": [],
   "source": []
  },
  {
   "cell_type": "markdown",
   "id": "09c847e8",
   "metadata": {},
   "source": [
    "## Looking at DBLP v13 dataset"
   ]
  },
  {
   "cell_type": "code",
   "execution_count": 22,
   "id": "9fd84566",
   "metadata": {},
   "outputs": [],
   "source": [
    "fp2 = '../data/dblpv13.json'"
   ]
  },
  {
   "cell_type": "code",
   "execution_count": 23,
   "id": "d8fcd942",
   "metadata": {},
   "outputs": [],
   "source": [
    "# DBLP v13 dataset\n",
    "# file size is 16.1 GB\n",
    "# Can try to read in as smaller pieces, or write out the data into .txt files by year\n",
    "\n",
    "#df2 = pd.read_json(fp2)\n",
    "#df2.head()"
   ]
  },
  {
   "cell_type": "code",
   "execution_count": 168,
   "id": "4539f517",
   "metadata": {},
   "outputs": [],
   "source": [
    "def process_json(inpath):\n",
    "    \"\"\"\n",
    "    Process the inpath of DBLP v13 dataset\n",
    "    Outputs a list of dictionaries (each dictionary is a paper)\n",
    "\n",
    "    >>> process_json('../data/dblpv13.json')\n",
    "    \"\"\"\n",
    "    count = 0\n",
    "    data = []\n",
    "    first_line = True\n",
    "\n",
    "    with open(inpath) as f:\n",
    "        content = ''\n",
    "        # Keeps track of the start of processing a block (individual paper)\n",
    "        start_ind = False\n",
    "        for line in f:\n",
    "            # Indicates start of block\n",
    "            if line == '{ \\n':\n",
    "                start_ind = True\n",
    "            # Indicates end of block\n",
    "            if line == '},\\n':\n",
    "                # Doesn't process the first block (only contains info about structure)\n",
    "                if first_line:\n",
    "                    first_line = False\n",
    "                    content = ''\n",
    "                    continue\n",
    "                # Cleans up formatting of block\n",
    "                content += '}\\n'\n",
    "                content = content.replace(' :', ':').replace(',', ', ')\n",
    "                data.append(json.loads(content))\n",
    "                start_ind = False\n",
    "                content = ''\n",
    "\n",
    "            if start_ind:\n",
    "                # Cleans up line to prevent issues with json.loads()\n",
    "                line = line.strip()\n",
    "                if 'NumberInt' in line:\n",
    "                    line = line.replace('NumberInt(', '')\n",
    "                    line = line.strip()[:-2] + ','\n",
    "                if line[-3:] == ': ,':\n",
    "                    line = line.replace(': ,', ': null')\n",
    "                content += line\n",
    "\n",
    "            count += 1\n",
    "            if count > 200:\n",
    "                break\n",
    "    return data"
   ]
  },
  {
   "cell_type": "code",
   "execution_count": 169,
   "id": "843fbc09",
   "metadata": {},
   "outputs": [
    {
     "data": {
      "text/plain": [
       "[{'_id': '53e99784b7602d9701f3e133',\n",
       "  'title': 'The relationship between canopy parameters and spectrum of winter wheat under different irrigations in Hebei Province.',\n",
       "  'authors': [{'_id': '53f45728dabfaec09f209538', 'name': 'Peijuan Wang'},\n",
       "   {'_id': '5601754345cedb3395e59457', 'name': 'Jiahua Zhang'},\n",
       "   {'_id': '53f38438dabfae4b34a08928', 'name': 'Donghui Xie'},\n",
       "   {'_id': '5601754345cedb3395e5945a', 'name': 'Yanyan Xu'},\n",
       "   {'_id': '53f43d25dabfaeecd6995149', 'name': 'Yun Xu'}],\n",
       "  'venue': {'_id': '53a7297d20f7420be8bd4ae7',\n",
       "   'name_d': 'International Geoscience and Remote Sensing Symposium',\n",
       "   'type': 0,\n",
       "   'raw': 'IGARSS'},\n",
       "  'year': 2011,\n",
       "  'keywords': ['canopy parameters',\n",
       "   'canopy spectrum',\n",
       "   'different soil water content control',\n",
       "   'winter wheat',\n",
       "   'irrigation',\n",
       "   'hydrology',\n",
       "   'radiometry',\n",
       "   'moisture',\n",
       "   'indexes',\n",
       "   'vegetation',\n",
       "   'indexation',\n",
       "   'dry weight',\n",
       "   'soil moisture',\n",
       "   'water content',\n",
       "   'indexing terms',\n",
       "   'spectrum',\n",
       "   'natural disaster'],\n",
       "  'fos': ['Agronomy',\n",
       "   'Moisture',\n",
       "   'Hydrology',\n",
       "   'Environmental science',\n",
       "   'Dry weight',\n",
       "   'Water content',\n",
       "   'Stomatal conductance',\n",
       "   'Transpiration',\n",
       "   'Irrigation',\n",
       "   'Soil water',\n",
       "   'Canopy'],\n",
       "  'n_citation': 0,\n",
       "  'page_start': '1930',\n",
       "  'page_end': '1933',\n",
       "  'lang': 'en',\n",
       "  'volume': 'null',\n",
       "  'issue': 'null',\n",
       "  'issn': '',\n",
       "  'isbn': '',\n",
       "  'doi': '10.1109/IGARSS.2011.6049503',\n",
       "  'pdf': None,\n",
       "  'url': ['http://dx.doi.org/10.1109/IGARSS.2011.6049503'],\n",
       "  'abstract': 'Drought is the first place in all the natural disasters in the world. It is especially serious in North China Plain. In this paper,  different soil water content control levels at winter wheat growth stages are performed on Gucheng Ecological-Meteorological Integrated Observation Experiment Station of CAMS,  China. Some canopy parameters,  including growth conditions,  dry weight,  physiological parameters and hyperspectral reflectance,  are measured from erecting stage to milk stage for winter wheat in 2009. The relationship between canopy parameters and soil relative moisture,  canopy water content and water indices of winter wheat are established. The results show that some parameters,  such as SPAD and dry weight of leaves,  decrease with the increasing of soil relative moisture,  while other parameters,  including dry weight of caudexes,  above ground dry weight,  height,  photosynthesis rate,  intercellular CO 2 concentration,  stomatal conductance and transpiration rate,  increase corresponding to the soil relative moisture. Obvious linear relationship between stomatal conductance and transpiration rate is established with 45 samples,  which R2 reaches to 0.6152. Finally,  the fitting equations between canopy water content and water indices are regressed with b5,  b6 and b7 of MODIS bands. The equations are best with b7 and worst with b5. So the fitting equations with b7 can be used to inverse the canopy water content of winter wheat using MODIS or other remote sensing images with similar bands range to MODIS in Hebei Province. Â© 2011 IEEE.'},\n",
       " {'_id': '53e99784b7602d9701f3e151',\n",
       "  'title': 'A solution to the problem of touching and broken characters.',\n",
       "  'authors': [{'_id': '53f46797dabfaeb22f542630', 'name': 'Jairo Rocha'},\n",
       "   {'_id': '54328883dabfaeb4c6a8a699', 'name': 'Theo Pavlidis'}],\n",
       "  'venue': {'_id': '53a72a4920f7420be8bfa51b',\n",
       "   'name_d': 'International Conference on Document Analysis and Recognition',\n",
       "   'type': 0,\n",
       "   'raw': 'ICDAR-1'},\n",
       "  'year': 1993,\n",
       "  'keywords': ['handwriting recognition',\n",
       "   'prototypes',\n",
       "   'image segmentation',\n",
       "   'computer science',\n",
       "   'expert systems',\n",
       "   'knowledge base',\n",
       "   'pattern recognition',\n",
       "   'usability',\n",
       "   'optical character recognition',\n",
       "   'shape',\n",
       "   'feature extraction'],\n",
       "  'fos': ['Intelligent character recognition',\n",
       "   'Pattern recognition',\n",
       "   'Computer science',\n",
       "   'Feature (computer vision)',\n",
       "   'Document processing',\n",
       "   'Handwriting recognition',\n",
       "   'Optical character recognition',\n",
       "   'Feature extraction',\n",
       "   'Feature (machine learning)',\n",
       "   'Artificial intelligence',\n",
       "   'Intelligent word recognition'],\n",
       "  'n_citation': 17,\n",
       "  'page_start': '602',\n",
       "  'page_end': '605',\n",
       "  'lang': 'en',\n",
       "  'volume': '',\n",
       "  'issue': '',\n",
       "  'issn': '',\n",
       "  'isbn': '',\n",
       "  'doi': '10.1109/ICDAR.1993.395663',\n",
       "  'pdf': None,\n",
       "  'url': ['http://dx.doi.org/10.1109/ICDAR.1993.395663'],\n",
       "  'abstract': '',\n",
       "  'references': ['53e99cf5b7602d97025ace63',\n",
       "   '557e8a7a6fee0fe990caa63d',\n",
       "   '53e9a96cb7602d97032c459a',\n",
       "   '53e9b929b7602d9704515791',\n",
       "   '557e59ebf6678c77ea222447']}]"
      ]
     },
     "execution_count": 169,
     "metadata": {},
     "output_type": "execute_result"
    }
   ],
   "source": [
    "process_json(fp2)"
   ]
  },
  {
   "cell_type": "code",
   "execution_count": null,
   "id": "7caa1538",
   "metadata": {},
   "outputs": [],
   "source": []
  },
  {
   "cell_type": "markdown",
   "id": "4e36a4f6",
   "metadata": {},
   "source": [
    "# Looking at DBLP v10 dataset"
   ]
  },
  {
   "cell_type": "code",
   "execution_count": 26,
   "id": "378916c7",
   "metadata": {},
   "outputs": [
    {
     "data": {
      "text/plain": [
       "['../data/dblp-v10/dblp-ref-0.json',\n",
       " '../data/dblp-v10/dblp-ref-1.json',\n",
       " '../data/dblp-v10/dblp-ref-2.json',\n",
       " '../data/dblp-v10/dblp-ref-3.json']"
      ]
     },
     "execution_count": 26,
     "metadata": {},
     "output_type": "execute_result"
    }
   ],
   "source": [
    "fp3 = ['../data/dblp-v10/' + 'dblp-ref-' + str(x) + '.json' for x in range(4)]\n",
    "fp3"
   ]
  },
  {
   "cell_type": "code",
   "execution_count": 68,
   "id": "627a9538",
   "metadata": {},
   "outputs": [
    {
     "name": "stdout",
     "output_type": "stream",
     "text": [
      "{'abstract': 'The purpose of this study is to develop a learning tool for high school students studying the scientific aspects of information and communication net- works. More specifically, we focus on the basic principles of network proto- cols as the aim to develop our learning tool. Our tool gives students hands-on experience to help understand the basic principles of network protocols.', 'authors': ['Makoto Satoh', 'Ryo Muramatsu', 'Mizue Kayama', 'Kazunori Itoh', 'Masami Hashimoto', 'Makoto Otani', 'Michio Shimizu', 'Masahiko Sugimoto'], 'n_citation': 0, 'references': ['51c7e02e-f5ed-431a-8cf5-f761f266d4be', '69b625b9-ebc5-4b60-b385-8a07945f5de9'], 'title': 'Preliminary Design of a Network Protocol Learning Tool Based on the Comprehension of High School Students: Design by an Empirical Study Using a Simple Mind Map', 'venue': 'international conference on human-computer interaction', 'year': 2013, 'id': '00127ee2-cb05-48ce-bc49-9de556b93346'}\n"
     ]
    }
   ],
   "source": [
    "file = open(fp3[0])\n",
    "\n",
    "fp = '2015.txt'\n",
    "#open(fp, 'w').close()\n",
    "\n",
    "for l in file:\n",
    "    x = l\n",
    "    data = json.loads(l)\n",
    "    print(data)\n",
    "    # Only info we need: abstract, title, year\n",
    "    year = data['year']\n",
    "    outpath = str(year) + '.txt'\n",
    "    #outfile = open(outpath, 'a', encoding='utf-8')\n",
    "    break\n",
    "file.close()"
   ]
  },
  {
   "cell_type": "code",
   "execution_count": 69,
   "id": "36e8898f",
   "metadata": {},
   "outputs": [
    {
     "data": {
      "text/plain": [
       "'{\"abstract\": \"The purpose of this study is to develop a learning tool for high school students studying the scientific aspects of information and communication net- works. More specifically, we focus on the basic principles of network proto- cols as the aim to develop our learning tool. Our tool gives students hands-on experience to help understand the basic principles of network protocols.\", \"authors\": [\"Makoto Satoh\", \"Ryo Muramatsu\", \"Mizue Kayama\", \"Kazunori Itoh\", \"Masami Hashimoto\", \"Makoto Otani\", \"Michio Shimizu\", \"Masahiko Sugimoto\"], \"n_citation\": 0, \"references\": [\"51c7e02e-f5ed-431a-8cf5-f761f266d4be\", \"69b625b9-ebc5-4b60-b385-8a07945f5de9\"], \"title\": \"Preliminary Design of a Network Protocol Learning Tool Based on the Comprehension of High School Students: Design by an Empirical Study Using a Simple Mind Map\", \"venue\": \"international conference on human-computer interaction\", \"year\": 2013, \"id\": \"00127ee2-cb05-48ce-bc49-9de556b93346\"}\\n'"
      ]
     },
     "execution_count": 69,
     "metadata": {},
     "output_type": "execute_result"
    }
   ],
   "source": [
    "x"
   ]
  },
  {
   "cell_type": "code",
   "execution_count": 67,
   "id": "32788213",
   "metadata": {},
   "outputs": [
    {
     "data": {
      "text/plain": [
       "{'abstract': 'The purpose of this study is to develop a learning tool for high school students studying the scientific aspects of information and communication net- works. More specifically, we focus on the basic principles of network proto- cols as the aim to develop our learning tool. Our tool gives students hands-on experience to help understand the basic principles of network protocols.',\n",
       " 'authors': ['Makoto Satoh',\n",
       "  'Ryo Muramatsu',\n",
       "  'Mizue Kayama',\n",
       "  'Kazunori Itoh',\n",
       "  'Masami Hashimoto',\n",
       "  'Makoto Otani',\n",
       "  'Michio Shimizu',\n",
       "  'Masahiko Sugimoto'],\n",
       " 'n_citation': 0,\n",
       " 'references': ['51c7e02e-f5ed-431a-8cf5-f761f266d4be',\n",
       "  '69b625b9-ebc5-4b60-b385-8a07945f5de9'],\n",
       " 'title': 'Preliminary Design of a Network Protocol Learning Tool Based on the Comprehension of High School Students: Design by an Empirical Study Using a Simple Mind Map',\n",
       " 'venue': 'international conference on human-computer interaction',\n",
       " 'year': 2013,\n",
       " 'id': '00127ee2-cb05-48ce-bc49-9de556b93346'}"
      ]
     },
     "execution_count": 67,
     "metadata": {},
     "output_type": "execute_result"
    }
   ],
   "source": [
    "data"
   ]
  },
  {
   "cell_type": "code",
   "execution_count": null,
   "id": "34eb5593",
   "metadata": {},
   "outputs": [],
   "source": []
  },
  {
   "cell_type": "code",
   "execution_count": null,
   "id": "fa1d4e9f",
   "metadata": {},
   "outputs": [],
   "source": []
  },
  {
   "cell_type": "code",
   "execution_count": null,
   "id": "71180715",
   "metadata": {},
   "outputs": [],
   "source": []
  }
 ],
 "metadata": {
  "kernelspec": {
   "display_name": "Python 3 (ipykernel)",
   "language": "python",
   "name": "python3"
  },
  "language_info": {
   "codemirror_mode": {
    "name": "ipython",
    "version": 3
   },
   "file_extension": ".py",
   "mimetype": "text/x-python",
   "name": "python",
   "nbconvert_exporter": "python",
   "pygments_lexer": "ipython3",
   "version": "3.9.7"
  }
 },
 "nbformat": 4,
 "nbformat_minor": 5
}
