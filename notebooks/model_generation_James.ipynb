{
 "cells": [
  {
   "cell_type": "code",
   "execution_count": 1,
   "id": "901595e1",
   "metadata": {},
   "outputs": [],
   "source": [
    "import pandas as pd\n",
    "from sklearn.linear_model import LogisticRegression\n",
    "from sklearn.model_selection import train_test_split\n",
    "import Levenshtein as Lv\n",
    "import time\n",
    "import re\n",
    "from glob import glob\n",
    "\n",
    "import numpy as np\n",
    "import json\n",
    "from sklearn.tree import DecisionTreeClassifier\n",
    "from sklearn.preprocessing import Binarizer\n",
    "from sklearn.model_selection import GridSearchCV\n",
    "from sklearn.neighbors import KNeighborsRegressor\n",
    "from sklearn.linear_model import LinearRegression\n",
    "from sklearn.preprocessing import FunctionTransformer\n",
    "from sklearn.preprocessing import OneHotEncoder\n",
    "from sklearn.pipeline import Pipeline\n",
    "from sklearn.compose import ColumnTransformer"
   ]
  },
  {
   "cell_type": "markdown",
   "id": "a1cf9813",
   "metadata": {},
   "source": [
    "## Loading in AutoPhrase and phrasal segmentation results dataframes"
   ]
  },
  {
   "cell_type": "code",
   "execution_count": null,
   "id": "88215c6e",
   "metadata": {},
   "outputs": [],
   "source": [
    "# AutoPhrase results dataframe\n",
    "fp_phrases = '../results/dblp-v10-grouped/phrases.csv'\n",
    "phrases = pd.read_csv(fp_phrases, index_col=0)"
   ]
  },
  {
   "cell_type": "code",
   "execution_count": null,
   "id": "b8582fcb",
   "metadata": {},
   "outputs": [],
   "source": [
    "# Processed phrasal segmentation results dataframe\n",
    "infolder = '../results/dblp-v10-grouped'\n",
    "subfolders = glob(infolder + '/*.csv')\n",
    "subfolders = list(filter(lambda x: 'segmented' in x, subfolders))\n",
    "seg = pd.DataFrame(columns=['Phrases', 'Year', 'Num Phrases'])\n",
    "for fp in subfolders:\n",
    "    df = pd.read_csv(fp, index_col=0)\n",
    "    df = df.dropna()\n",
    "    df['Num Phrases'] = df.apply(lambda x: len(x['Phrases'].split(',')), axis=1)\n",
    "    #df = df.drop('Phrases', axis=1)\n",
    "    seg = seg.append(df, ignore_index=True)\n",
    "seg = seg.dropna()"
   ]
  },
  {
   "cell_type": "code",
   "execution_count": null,
   "id": "152780d1",
   "metadata": {},
   "outputs": [],
   "source": [
    "# Maybe add code for creating counts dictionary if it can be used with the model"
   ]
  },
  {
   "cell_type": "markdown",
   "id": "a9856524",
   "metadata": {},
   "source": [
    "## Integrating phrase quality with phrasal segmentation results"
   ]
  },
  {
   "cell_type": "code",
   "execution_count": 16,
   "id": "fd3f1382",
   "metadata": {},
   "outputs": [],
   "source": [
    "def find_qualities(x):\n",
    "    \"\"\"\n",
    "    Helper function to process the segmentation.csv files\n",
    "    Only keeps quality phrases (multi >= 0.5, single >= 0.8)\n",
    "    Obtains the phrase quality of each phrase by matching with phrases.csv\n",
    "    \"\"\"\n",
    "    x = x['Phrases'].split(',')\n",
    "    out_phrases = []\n",
    "    out_quality = []\n",
    "    for phrase in x:\n",
    "        # Phrase will not show up in the phrases df if the quality is too low\n",
    "        # We only kept multi >= 0.5 and single >= 0.8\n",
    "        # NOTE: Potential issue with phrase having dashes in seg when they don't in phrases\n",
    "        #       (i.e. user-controlled vs. user controlled)\n",
    "        match = phrases[phrases['Phrase'] == phrase]\n",
    "        if len(match) == 0:\n",
    "            continue\n",
    "        else:\n",
    "            out_phrases.append(phrase)\n",
    "            out_quality.append(match['Phrase Quality'].values[0])\n",
    "    return out_phrases, out_quality"
   ]
  },
  {
   "cell_type": "code",
   "execution_count": 17,
   "id": "8a56f24d",
   "metadata": {},
   "outputs": [
    {
     "data": {
      "text/html": [
       "<div>\n",
       "<style scoped>\n",
       "    .dataframe tbody tr th:only-of-type {\n",
       "        vertical-align: middle;\n",
       "    }\n",
       "\n",
       "    .dataframe tbody tr th {\n",
       "        vertical-align: top;\n",
       "    }\n",
       "\n",
       "    .dataframe thead th {\n",
       "        text-align: right;\n",
       "    }\n",
       "</style>\n",
       "<table border=\"1\" class=\"dataframe\">\n",
       "  <thead>\n",
       "    <tr style=\"text-align: right;\">\n",
       "      <th></th>\n",
       "      <th>Phrases</th>\n",
       "      <th>Year</th>\n",
       "      <th>Num Phrases</th>\n",
       "    </tr>\n",
       "  </thead>\n",
       "  <tbody>\n",
       "    <tr>\n",
       "      <th>2548121</th>\n",
       "      <td>variational autoencoders,data,probabilistic,da...</td>\n",
       "      <td>2015-2017</td>\n",
       "      <td>25</td>\n",
       "    </tr>\n",
       "    <tr>\n",
       "      <th>2548122</th>\n",
       "      <td>today,advanced,computational science,data,dist...</td>\n",
       "      <td>2015-2017</td>\n",
       "      <td>26</td>\n",
       "    </tr>\n",
       "    <tr>\n",
       "      <th>2548123</th>\n",
       "      <td>paper,numerical solution,one-dimensional,semi-...</td>\n",
       "      <td>2015-2017</td>\n",
       "      <td>30</td>\n",
       "    </tr>\n",
       "    <tr>\n",
       "      <th>2548124</th>\n",
       "      <td>recent years,gnss,navigation,satellites,constr...</td>\n",
       "      <td>2015-2017</td>\n",
       "      <td>55</td>\n",
       "    </tr>\n",
       "    <tr>\n",
       "      <th>2548125</th>\n",
       "      <td>evolution,liquid,gas,level-set,ls,volume of fl...</td>\n",
       "      <td>2015-2017</td>\n",
       "      <td>34</td>\n",
       "    </tr>\n",
       "    <tr>\n",
       "      <th>2548126</th>\n",
       "      <td>research,fi,indoor,location-based service lbs,...</td>\n",
       "      <td>2015-2017</td>\n",
       "      <td>44</td>\n",
       "    </tr>\n",
       "    <tr>\n",
       "      <th>2548127</th>\n",
       "      <td>icts,eliminating,gender,entrepreneurship,gover...</td>\n",
       "      <td>2015-2017</td>\n",
       "      <td>18</td>\n",
       "    </tr>\n",
       "    <tr>\n",
       "      <th>2548128</th>\n",
       "      <td>infinite horizon,inventory,model,general,reven...</td>\n",
       "      <td>2015-2017</td>\n",
       "      <td>12</td>\n",
       "    </tr>\n",
       "    <tr>\n",
       "      <th>2548129</th>\n",
       "      <td>infrared,technology,deep-space,radiation,earth...</td>\n",
       "      <td>2015-2017</td>\n",
       "      <td>51</td>\n",
       "    </tr>\n",
       "    <tr>\n",
       "      <th>2548130</th>\n",
       "      <td>net,power output,exergy,organic,rankine cycle,...</td>\n",
       "      <td>2015-2017</td>\n",
       "      <td>34</td>\n",
       "    </tr>\n",
       "  </tbody>\n",
       "</table>\n",
       "</div>"
      ],
      "text/plain": [
       "                                                   Phrases       Year  \\\n",
       "2548121  variational autoencoders,data,probabilistic,da...  2015-2017   \n",
       "2548122  today,advanced,computational science,data,dist...  2015-2017   \n",
       "2548123  paper,numerical solution,one-dimensional,semi-...  2015-2017   \n",
       "2548124  recent years,gnss,navigation,satellites,constr...  2015-2017   \n",
       "2548125  evolution,liquid,gas,level-set,ls,volume of fl...  2015-2017   \n",
       "2548126  research,fi,indoor,location-based service lbs,...  2015-2017   \n",
       "2548127  icts,eliminating,gender,entrepreneurship,gover...  2015-2017   \n",
       "2548128  infinite horizon,inventory,model,general,reven...  2015-2017   \n",
       "2548129  infrared,technology,deep-space,radiation,earth...  2015-2017   \n",
       "2548130  net,power output,exergy,organic,rankine cycle,...  2015-2017   \n",
       "\n",
       "        Num Phrases  \n",
       "2548121          25  \n",
       "2548122          26  \n",
       "2548123          30  \n",
       "2548124          55  \n",
       "2548125          34  \n",
       "2548126          44  \n",
       "2548127          18  \n",
       "2548128          12  \n",
       "2548129          51  \n",
       "2548130          34  "
      ]
     },
     "execution_count": 17,
     "metadata": {},
     "output_type": "execute_result"
    }
   ],
   "source": [
    "test = seg.copy()\n",
    "test = seg.loc[len(seg)-10:len(seg)]\n",
    "test"
   ]
  },
  {
   "cell_type": "code",
   "execution_count": 18,
   "id": "5a0b69cc",
   "metadata": {},
   "outputs": [
    {
     "name": "stderr",
     "output_type": "stream",
     "text": [
      "C:\\Users\\itsno\\AppData\\Local\\Temp/ipykernel_20192/2623782444.py:1: SettingWithCopyWarning: \n",
      "A value is trying to be set on a copy of a slice from a DataFrame.\n",
      "Try using .loc[row_indexer,col_indexer] = value instead\n",
      "\n",
      "See the caveats in the documentation: https://pandas.pydata.org/pandas-docs/stable/user_guide/indexing.html#returning-a-view-versus-a-copy\n",
      "  test['Phrases'], test['Phrase Qualities'] = zip(*test.apply(find_qualities, axis=1))\n"
     ]
    }
   ],
   "source": [
    "test['Phrases'], test['Phrase Qualities'] = zip(*test.apply(find_qualities, axis=1))"
   ]
  },
  {
   "cell_type": "code",
   "execution_count": 19,
   "id": "3fc43756",
   "metadata": {},
   "outputs": [
    {
     "data": {
      "text/html": [
       "<div>\n",
       "<style scoped>\n",
       "    .dataframe tbody tr th:only-of-type {\n",
       "        vertical-align: middle;\n",
       "    }\n",
       "\n",
       "    .dataframe tbody tr th {\n",
       "        vertical-align: top;\n",
       "    }\n",
       "\n",
       "    .dataframe thead th {\n",
       "        text-align: right;\n",
       "    }\n",
       "</style>\n",
       "<table border=\"1\" class=\"dataframe\">\n",
       "  <thead>\n",
       "    <tr style=\"text-align: right;\">\n",
       "      <th></th>\n",
       "      <th>Phrases</th>\n",
       "      <th>Year</th>\n",
       "      <th>Num Phrases</th>\n",
       "      <th>Phrase Qualities</th>\n",
       "    </tr>\n",
       "  </thead>\n",
       "  <tbody>\n",
       "    <tr>\n",
       "      <th>2548121</th>\n",
       "      <td>[variational autoencoders, probabilistic, grap...</td>\n",
       "      <td>2015-2017</td>\n",
       "      <td>25</td>\n",
       "      <td>[0.9449002689, 0.8166917289, 0.7755210485, 0.5...</td>\n",
       "    </tr>\n",
       "    <tr>\n",
       "      <th>2548122</th>\n",
       "      <td>[today, advanced, computational science, distr...</td>\n",
       "      <td>2015-2017</td>\n",
       "      <td>26</td>\n",
       "      <td>[0.8001977554, 0.8170605506, 0.8585270157, 0.9...</td>\n",
       "    </tr>\n",
       "    <tr>\n",
       "      <th>2548123</th>\n",
       "      <td>[numerical solution, schrodinger equation, unb...</td>\n",
       "      <td>2015-2017</td>\n",
       "      <td>30</td>\n",
       "      <td>[0.5490036162, 0.7999191231, 0.7916130062, 0.8...</td>\n",
       "    </tr>\n",
       "    <tr>\n",
       "      <th>2548124</th>\n",
       "      <td>[recent years, gnss, navigation, constrained e...</td>\n",
       "      <td>2015-2017</td>\n",
       "      <td>55</td>\n",
       "      <td>[0.5832008349, 0.851142233, 0.8022377586, 0.63...</td>\n",
       "    </tr>\n",
       "    <tr>\n",
       "      <th>2548125</th>\n",
       "      <td>[liquid, gas, ls, volume of fluid, sharp, phys...</td>\n",
       "      <td>2015-2017</td>\n",
       "      <td>34</td>\n",
       "      <td>[0.8092998956, 0.8071359871, 0.8232093176, 0.6...</td>\n",
       "    </tr>\n",
       "    <tr>\n",
       "      <th>2548126</th>\n",
       "      <td>[research, fi, indoor, cascaded, indoor, inert...</td>\n",
       "      <td>2015-2017</td>\n",
       "      <td>44</td>\n",
       "      <td>[0.8071345493, 0.8448244418, 0.83323151, 0.814...</td>\n",
       "    </tr>\n",
       "    <tr>\n",
       "      <th>2548127</th>\n",
       "      <td>[icts, eliminating, gender, entrepreneurship, ...</td>\n",
       "      <td>2015-2017</td>\n",
       "      <td>18</td>\n",
       "      <td>[0.8633365439, 0.8008664255, 0.8056553868, 0.8...</td>\n",
       "    </tr>\n",
       "    <tr>\n",
       "      <th>2548128</th>\n",
       "      <td>[infinite horizon, inventory, discount rate, b...</td>\n",
       "      <td>2015-2017</td>\n",
       "      <td>12</td>\n",
       "      <td>[0.9018355738, 0.8087514964, 0.8258210996, 0.8...</td>\n",
       "    </tr>\n",
       "    <tr>\n",
       "      <th>2548129</th>\n",
       "      <td>[infrared, radiation, earth, pushing, power co...</td>\n",
       "      <td>2015-2017</td>\n",
       "      <td>51</td>\n",
       "      <td>[0.8256317027, 0.8054114773, 0.810824659, 0.81...</td>\n",
       "    </tr>\n",
       "    <tr>\n",
       "      <th>2548130</th>\n",
       "      <td>[net, power output, exergy, organic, working f...</td>\n",
       "      <td>2015-2017</td>\n",
       "      <td>34</td>\n",
       "      <td>[0.8324536295, 0.5708393502, 0.8773958416, 0.8...</td>\n",
       "    </tr>\n",
       "  </tbody>\n",
       "</table>\n",
       "</div>"
      ],
      "text/plain": [
       "                                                   Phrases       Year  \\\n",
       "2548121  [variational autoencoders, probabilistic, grap...  2015-2017   \n",
       "2548122  [today, advanced, computational science, distr...  2015-2017   \n",
       "2548123  [numerical solution, schrodinger equation, unb...  2015-2017   \n",
       "2548124  [recent years, gnss, navigation, constrained e...  2015-2017   \n",
       "2548125  [liquid, gas, ls, volume of fluid, sharp, phys...  2015-2017   \n",
       "2548126  [research, fi, indoor, cascaded, indoor, inert...  2015-2017   \n",
       "2548127  [icts, eliminating, gender, entrepreneurship, ...  2015-2017   \n",
       "2548128  [infinite horizon, inventory, discount rate, b...  2015-2017   \n",
       "2548129  [infrared, radiation, earth, pushing, power co...  2015-2017   \n",
       "2548130  [net, power output, exergy, organic, working f...  2015-2017   \n",
       "\n",
       "        Num Phrases                                   Phrase Qualities  \n",
       "2548121          25  [0.9449002689, 0.8166917289, 0.7755210485, 0.5...  \n",
       "2548122          26  [0.8001977554, 0.8170605506, 0.8585270157, 0.9...  \n",
       "2548123          30  [0.5490036162, 0.7999191231, 0.7916130062, 0.8...  \n",
       "2548124          55  [0.5832008349, 0.851142233, 0.8022377586, 0.63...  \n",
       "2548125          34  [0.8092998956, 0.8071359871, 0.8232093176, 0.6...  \n",
       "2548126          44  [0.8071345493, 0.8448244418, 0.83323151, 0.814...  \n",
       "2548127          18  [0.8633365439, 0.8008664255, 0.8056553868, 0.8...  \n",
       "2548128          12  [0.9018355738, 0.8087514964, 0.8258210996, 0.8...  \n",
       "2548129          51  [0.8256317027, 0.8054114773, 0.810824659, 0.81...  \n",
       "2548130          34  [0.8324536295, 0.5708393502, 0.8773958416, 0.8...  "
      ]
     },
     "execution_count": 19,
     "metadata": {},
     "output_type": "execute_result"
    }
   ],
   "source": [
    "test"
   ]
  },
  {
   "cell_type": "code",
   "execution_count": 20,
   "id": "9c1b3e8f",
   "metadata": {},
   "outputs": [
    {
     "data": {
      "text/plain": [
       "['infrared',\n",
       " 'radiation',\n",
       " 'earth',\n",
       " 'pushing',\n",
       " 'power consumption',\n",
       " 'operating conditions',\n",
       " 'khz',\n",
       " 'adc',\n",
       " 'mw',\n",
       " 'instrumentation',\n",
       " 'mirror',\n",
       " 'low sensitivity',\n",
       " 'modulator',\n",
       " 'physical implementation',\n",
       " 'm 1',\n",
       " 'poly',\n",
       " 'metal',\n",
       " 'cmos',\n",
       " 'db',\n",
       " 'sndr',\n",
       " 'clock',\n",
       " 'ir',\n",
       " 'imager',\n",
       " 'per minute',\n",
       " 'effective number of bits enob',\n",
       " 'mw',\n",
       " 'khz',\n",
       " 'ir',\n",
       " 'instrumentation']"
      ]
     },
     "execution_count": 20,
     "metadata": {},
     "output_type": "execute_result"
    }
   ],
   "source": [
    "test.loc[2548129]['Phrases']"
   ]
  },
  {
   "cell_type": "code",
   "execution_count": 21,
   "id": "c17206f9",
   "metadata": {},
   "outputs": [
    {
     "data": {
      "text/plain": [
       "[0.8256317027,\n",
       " 0.8054114773,\n",
       " 0.810824659,\n",
       " 0.8148357817,\n",
       " 0.9322819448,\n",
       " 0.6685492507,\n",
       " 0.8225274735,\n",
       " 0.8244446791,\n",
       " 0.8231960364,\n",
       " 0.8145576518,\n",
       " 0.8339330792,\n",
       " 0.6613013316,\n",
       " 0.8281263484,\n",
       " 0.5607881058,\n",
       " 0.7981997513,\n",
       " 0.8184902657,\n",
       " 0.8007140811,\n",
       " 0.8217445899,\n",
       " 0.8271253755,\n",
       " 0.8425095531,\n",
       " 0.8073903977,\n",
       " 0.8065003229,\n",
       " 0.8192171443,\n",
       " 0.5306616221,\n",
       " 0.7624752751,\n",
       " 0.8231960364,\n",
       " 0.8225274735,\n",
       " 0.8065003229,\n",
       " 0.8145576518]"
      ]
     },
     "execution_count": 21,
     "metadata": {},
     "output_type": "execute_result"
    }
   ],
   "source": [
    "test.loc[2548129]['Phrase Qualities']"
   ]
  },
  {
   "cell_type": "code",
   "execution_count": 22,
   "id": "5161846b",
   "metadata": {},
   "outputs": [
    {
     "data": {
      "text/html": [
       "<div>\n",
       "<style scoped>\n",
       "    .dataframe tbody tr th:only-of-type {\n",
       "        vertical-align: middle;\n",
       "    }\n",
       "\n",
       "    .dataframe tbody tr th {\n",
       "        vertical-align: top;\n",
       "    }\n",
       "\n",
       "    .dataframe thead th {\n",
       "        text-align: right;\n",
       "    }\n",
       "</style>\n",
       "<table border=\"1\" class=\"dataframe\">\n",
       "  <thead>\n",
       "    <tr style=\"text-align: right;\">\n",
       "      <th></th>\n",
       "      <th>Phrase Quality</th>\n",
       "      <th>Phrase</th>\n",
       "      <th>Year</th>\n",
       "      <th>Num Words</th>\n",
       "    </tr>\n",
       "  </thead>\n",
       "  <tbody>\n",
       "    <tr>\n",
       "      <th>23440</th>\n",
       "      <td>0.557913</td>\n",
       "      <td>user controlled</td>\n",
       "      <td>1995-1999</td>\n",
       "      <td>2</td>\n",
       "    </tr>\n",
       "    <tr>\n",
       "      <th>45754</th>\n",
       "      <td>0.716653</td>\n",
       "      <td>user controlled</td>\n",
       "      <td>2000-2004</td>\n",
       "      <td>2</td>\n",
       "    </tr>\n",
       "    <tr>\n",
       "      <th>93921</th>\n",
       "      <td>0.792673</td>\n",
       "      <td>user controlled</td>\n",
       "      <td>2005-2009</td>\n",
       "      <td>2</td>\n",
       "    </tr>\n",
       "    <tr>\n",
       "      <th>195600</th>\n",
       "      <td>0.748656</td>\n",
       "      <td>user controlled</td>\n",
       "      <td>2010-2014</td>\n",
       "      <td>2</td>\n",
       "    </tr>\n",
       "    <tr>\n",
       "      <th>281156</th>\n",
       "      <td>0.715213</td>\n",
       "      <td>user controlled</td>\n",
       "      <td>2015-2017</td>\n",
       "      <td>2</td>\n",
       "    </tr>\n",
       "  </tbody>\n",
       "</table>\n",
       "</div>"
      ],
      "text/plain": [
       "        Phrase Quality           Phrase       Year  Num Words\n",
       "23440         0.557913  user controlled  1995-1999          2\n",
       "45754         0.716653  user controlled  2000-2004          2\n",
       "93921         0.792673  user controlled  2005-2009          2\n",
       "195600        0.748656  user controlled  2010-2014          2\n",
       "281156        0.715213  user controlled  2015-2017          2"
      ]
     },
     "execution_count": 22,
     "metadata": {},
     "output_type": "execute_result"
    }
   ],
   "source": [
    "phrases[phrases['Phrase'] == 'user controlled']"
   ]
  },
  {
   "cell_type": "code",
   "execution_count": 23,
   "id": "0c6bae8e",
   "metadata": {},
   "outputs": [
    {
     "data": {
      "text/plain": [
       "'user-controlled'"
      ]
     },
     "execution_count": 23,
     "metadata": {},
     "output_type": "execute_result"
    }
   ],
   "source": [
    "re.sub(r'[^A-Za-z0-9- ]+', '', 'user-controlled')"
   ]
  },
  {
   "cell_type": "code",
   "execution_count": 24,
   "id": "d7eedcd3",
   "metadata": {},
   "outputs": [
    {
     "data": {
      "text/plain": [
       "'user controlled'"
      ]
     },
     "execution_count": 24,
     "metadata": {},
     "output_type": "execute_result"
    }
   ],
   "source": [
    "# Need to replace dashes (and potentially other chars) with a space\n",
    "re.sub(r'[-]+', ' ', 'user-controlled')"
   ]
  },
  {
   "cell_type": "markdown",
   "id": "c7f1b90c",
   "metadata": {},
   "source": [
    "# Analysis of AutoPhrase results"
   ]
  },
  {
   "cell_type": "code",
   "execution_count": 25,
   "id": "1b50e05f",
   "metadata": {},
   "outputs": [],
   "source": [
    "fp_uniquebyyear = '../results/dblp-v10/phrases.csv'\n",
    "#fp_unique = '../results/dblp-v10-phrases-unique.csv'"
   ]
  },
  {
   "cell_type": "code",
   "execution_count": 26,
   "id": "b7533f8c",
   "metadata": {},
   "outputs": [],
   "source": [
    "# Start from year 1968 - years before had too little training data\n",
    "# We only kept multi-word phrases above 0.6 and single-word above 0.8"
   ]
  },
  {
   "cell_type": "code",
   "execution_count": 27,
   "id": "15e88f19",
   "metadata": {},
   "outputs": [],
   "source": [
    "# Contains the phrases unique overall (no duplicates)\n",
    "# un_all = pd.read_csv(fp_unique, index_col=0)\n",
    "# un_all = un_all[un_all['Year'] >= 1968]\n",
    "# un_all"
   ]
  },
  {
   "cell_type": "code",
   "execution_count": 28,
   "id": "b8e3f2ca",
   "metadata": {},
   "outputs": [
    {
     "data": {
      "text/html": [
       "<div>\n",
       "<style scoped>\n",
       "    .dataframe tbody tr th:only-of-type {\n",
       "        vertical-align: middle;\n",
       "    }\n",
       "\n",
       "    .dataframe tbody tr th {\n",
       "        vertical-align: top;\n",
       "    }\n",
       "\n",
       "    .dataframe thead th {\n",
       "        text-align: right;\n",
       "    }\n",
       "</style>\n",
       "<table border=\"1\" class=\"dataframe\">\n",
       "  <thead>\n",
       "    <tr style=\"text-align: right;\">\n",
       "      <th></th>\n",
       "      <th>Phrase Quality</th>\n",
       "      <th>Phrase</th>\n",
       "      <th>Year</th>\n",
       "    </tr>\n",
       "  </thead>\n",
       "  <tbody>\n",
       "    <tr>\n",
       "      <th>20</th>\n",
       "      <td>0.946833</td>\n",
       "      <td>context free</td>\n",
       "      <td>1968</td>\n",
       "    </tr>\n",
       "    <tr>\n",
       "      <th>21</th>\n",
       "      <td>0.890167</td>\n",
       "      <td>time sharing</td>\n",
       "      <td>1968</td>\n",
       "    </tr>\n",
       "    <tr>\n",
       "      <th>22</th>\n",
       "      <td>0.909000</td>\n",
       "      <td>context free</td>\n",
       "      <td>1969</td>\n",
       "    </tr>\n",
       "    <tr>\n",
       "      <th>23</th>\n",
       "      <td>0.896000</td>\n",
       "      <td>time sharing</td>\n",
       "      <td>1969</td>\n",
       "    </tr>\n",
       "    <tr>\n",
       "      <th>24</th>\n",
       "      <td>0.993000</td>\n",
       "      <td>context free</td>\n",
       "      <td>1970</td>\n",
       "    </tr>\n",
       "    <tr>\n",
       "      <th>...</th>\n",
       "      <td>...</td>\n",
       "      <td>...</td>\n",
       "      <td>...</td>\n",
       "    </tr>\n",
       "    <tr>\n",
       "      <th>238718</th>\n",
       "      <td>0.600501</td>\n",
       "      <td>practical implementation</td>\n",
       "      <td>2017</td>\n",
       "    </tr>\n",
       "    <tr>\n",
       "      <th>238719</th>\n",
       "      <td>0.600363</td>\n",
       "      <td>next generation</td>\n",
       "      <td>2017</td>\n",
       "    </tr>\n",
       "    <tr>\n",
       "      <th>238720</th>\n",
       "      <td>0.600185</td>\n",
       "      <td>deep convolutional neural</td>\n",
       "      <td>2017</td>\n",
       "    </tr>\n",
       "    <tr>\n",
       "      <th>238721</th>\n",
       "      <td>0.600087</td>\n",
       "      <td>network nodes</td>\n",
       "      <td>2017</td>\n",
       "    </tr>\n",
       "    <tr>\n",
       "      <th>238722</th>\n",
       "      <td>0.600061</td>\n",
       "      <td>received signal</td>\n",
       "      <td>2017</td>\n",
       "    </tr>\n",
       "  </tbody>\n",
       "</table>\n",
       "<p>238701 rows × 3 columns</p>\n",
       "</div>"
      ],
      "text/plain": [
       "        Phrase Quality                     Phrase  Year\n",
       "20            0.946833               context free  1968\n",
       "21            0.890167               time sharing  1968\n",
       "22            0.909000               context free  1969\n",
       "23            0.896000               time sharing  1969\n",
       "24            0.993000               context free  1970\n",
       "...                ...                        ...   ...\n",
       "238718        0.600501   practical implementation  2017\n",
       "238719        0.600363            next generation  2017\n",
       "238720        0.600185  deep convolutional neural  2017\n",
       "238721        0.600087              network nodes  2017\n",
       "238722        0.600061            received signal  2017\n",
       "\n",
       "[238701 rows x 3 columns]"
      ]
     },
     "execution_count": 28,
     "metadata": {},
     "output_type": "execute_result"
    }
   ],
   "source": [
    "# Contains the phrases unique by year (there can be duplicates across years)\n",
    "uby = pd.read_csv(fp_uniquebyyear, index_col=0)\n",
    "uby = uby[uby['Year'] >= 1968]\n",
    "uby = uby.dropna()\n",
    "uby"
   ]
  },
  {
   "cell_type": "code",
   "execution_count": 29,
   "id": "8506ca3e",
   "metadata": {
    "scrolled": true
   },
   "outputs": [
    {
     "data": {
      "text/html": [
       "<div>\n",
       "<style scoped>\n",
       "    .dataframe tbody tr th:only-of-type {\n",
       "        vertical-align: middle;\n",
       "    }\n",
       "\n",
       "    .dataframe tbody tr th {\n",
       "        vertical-align: top;\n",
       "    }\n",
       "\n",
       "    .dataframe thead th {\n",
       "        text-align: right;\n",
       "    }\n",
       "</style>\n",
       "<table border=\"1\" class=\"dataframe\">\n",
       "  <thead>\n",
       "    <tr style=\"text-align: right;\">\n",
       "      <th></th>\n",
       "      <th>Phrase Quality</th>\n",
       "      <th>Phrase</th>\n",
       "      <th>Year</th>\n",
       "    </tr>\n",
       "  </thead>\n",
       "  <tbody>\n",
       "    <tr>\n",
       "      <th>20</th>\n",
       "      <td>0.946833</td>\n",
       "      <td>context free</td>\n",
       "      <td>1968</td>\n",
       "    </tr>\n",
       "    <tr>\n",
       "      <th>21</th>\n",
       "      <td>0.890167</td>\n",
       "      <td>time sharing</td>\n",
       "      <td>1968</td>\n",
       "    </tr>\n",
       "    <tr>\n",
       "      <th>22</th>\n",
       "      <td>0.909000</td>\n",
       "      <td>context free</td>\n",
       "      <td>1969</td>\n",
       "    </tr>\n",
       "    <tr>\n",
       "      <th>23</th>\n",
       "      <td>0.896000</td>\n",
       "      <td>time sharing</td>\n",
       "      <td>1969</td>\n",
       "    </tr>\n",
       "    <tr>\n",
       "      <th>24</th>\n",
       "      <td>0.993000</td>\n",
       "      <td>context free</td>\n",
       "      <td>1970</td>\n",
       "    </tr>\n",
       "    <tr>\n",
       "      <th>...</th>\n",
       "      <td>...</td>\n",
       "      <td>...</td>\n",
       "      <td>...</td>\n",
       "    </tr>\n",
       "    <tr>\n",
       "      <th>238718</th>\n",
       "      <td>0.600501</td>\n",
       "      <td>practical implementation</td>\n",
       "      <td>2017</td>\n",
       "    </tr>\n",
       "    <tr>\n",
       "      <th>238719</th>\n",
       "      <td>0.600363</td>\n",
       "      <td>next generation</td>\n",
       "      <td>2017</td>\n",
       "    </tr>\n",
       "    <tr>\n",
       "      <th>238720</th>\n",
       "      <td>0.600185</td>\n",
       "      <td>deep convolutional neural</td>\n",
       "      <td>2017</td>\n",
       "    </tr>\n",
       "    <tr>\n",
       "      <th>238721</th>\n",
       "      <td>0.600087</td>\n",
       "      <td>network nodes</td>\n",
       "      <td>2017</td>\n",
       "    </tr>\n",
       "    <tr>\n",
       "      <th>238722</th>\n",
       "      <td>0.600061</td>\n",
       "      <td>received signal</td>\n",
       "      <td>2017</td>\n",
       "    </tr>\n",
       "  </tbody>\n",
       "</table>\n",
       "<p>228615 rows × 3 columns</p>\n",
       "</div>"
      ],
      "text/plain": [
       "        Phrase Quality                     Phrase  Year\n",
       "20            0.946833               context free  1968\n",
       "21            0.890167               time sharing  1968\n",
       "22            0.909000               context free  1969\n",
       "23            0.896000               time sharing  1969\n",
       "24            0.993000               context free  1970\n",
       "...                ...                        ...   ...\n",
       "238718        0.600501   practical implementation  2017\n",
       "238719        0.600363            next generation  2017\n",
       "238720        0.600185  deep convolutional neural  2017\n",
       "238721        0.600087              network nodes  2017\n",
       "238722        0.600061            received signal  2017\n",
       "\n",
       "[228615 rows x 3 columns]"
      ]
     },
     "execution_count": 29,
     "metadata": {},
     "output_type": "execute_result"
    }
   ],
   "source": [
    "# Only keeps the phrases that show up multiple times across years (so we can look for trends)\n",
    "uby_dups = uby.copy()\n",
    "uby_dups = uby_dups[uby_dups['Phrase'].duplicated(keep=False)]\n",
    "uby_dups"
   ]
  },
  {
   "cell_type": "code",
   "execution_count": 30,
   "id": "7f790ab1",
   "metadata": {},
   "outputs": [
    {
     "data": {
      "text/plain": [
       "context free             46\n",
       "high level               42\n",
       "programming language     42\n",
       "natural language         41\n",
       "pattern recognition      41\n",
       "programming languages    41\n",
       "data structures          41\n",
       "sufficient conditions    39\n",
       "data structure           39\n",
       "problem solving          39\n",
       "Name: Phrase, dtype: int64"
      ]
     },
     "execution_count": 30,
     "metadata": {},
     "output_type": "execute_result"
    }
   ],
   "source": [
    "uby_dups['Phrase'].value_counts()[:10]"
   ]
  },
  {
   "cell_type": "code",
   "execution_count": 31,
   "id": "c2507595",
   "metadata": {},
   "outputs": [
    {
     "data": {
      "text/plain": [
       "array([1981, 1982, 1983, 1984, 1985, 1986, 1987, 1988, 1989, 1990, 1991,\n",
       "       1993, 1994, 1995, 1996, 1997, 1998, 1999, 2000, 2001, 2002, 2003,\n",
       "       2004, 2005, 2006, 2007, 2008, 2009, 2010, 2011, 2012, 2013, 2014,\n",
       "       2015, 2016, 2017], dtype=int64)"
      ]
     },
     "execution_count": 31,
     "metadata": {},
     "output_type": "execute_result"
    }
   ],
   "source": [
    "uby_dups[uby_dups['Phrase'] == 'image processing']['Year'].values"
   ]
  },
  {
   "cell_type": "markdown",
   "id": "569dc04f",
   "metadata": {},
   "source": [
    "# Phrase matching/similarity for input papers (title + abstract)"
   ]
  },
  {
   "cell_type": "code",
   "execution_count": 32,
   "id": "466ead01",
   "metadata": {},
   "outputs": [],
   "source": [
    "# Given an input paper (title + abstract), extract the phrases within it and return the\n",
    "# similar phrases found in the AutoPhrase results.\n",
    "# Can use Levenshtein distance to find similar strings, or just use direct phrase matching"
   ]
  },
  {
   "cell_type": "code",
   "execution_count": 33,
   "id": "7eb64645",
   "metadata": {},
   "outputs": [],
   "source": [
    "test_fp = '../data/arxiv/csv/2016.csv'"
   ]
  },
  {
   "cell_type": "code",
   "execution_count": 34,
   "id": "e407bc10",
   "metadata": {},
   "outputs": [
    {
     "data": {
      "text/html": [
       "<div>\n",
       "<style scoped>\n",
       "    .dataframe tbody tr th:only-of-type {\n",
       "        vertical-align: middle;\n",
       "    }\n",
       "\n",
       "    .dataframe tbody tr th {\n",
       "        vertical-align: top;\n",
       "    }\n",
       "\n",
       "    .dataframe thead th {\n",
       "        text-align: right;\n",
       "    }\n",
       "</style>\n",
       "<table border=\"1\" class=\"dataframe\">\n",
       "  <thead>\n",
       "    <tr style=\"text-align: right;\">\n",
       "      <th></th>\n",
       "      <th>Title</th>\n",
       "      <th>Abstract</th>\n",
       "    </tr>\n",
       "  </thead>\n",
       "  <tbody>\n",
       "    <tr>\n",
       "      <th>0</th>\n",
       "      <td>Sequential Short-Text Classification with Recu...</td>\n",
       "      <td>Recent approaches based on artificial neural n...</td>\n",
       "    </tr>\n",
       "    <tr>\n",
       "      <th>1</th>\n",
       "      <td>Multiresolution Recurrent Neural Networks An A...</td>\n",
       "      <td>We introduce the multiresolution recurrent neu...</td>\n",
       "    </tr>\n",
       "    <tr>\n",
       "      <th>2</th>\n",
       "      <td>Document Image Coding and Clustering for Scrip...</td>\n",
       "      <td>The paper introduces a new method for discrimi...</td>\n",
       "    </tr>\n",
       "    <tr>\n",
       "      <th>3</th>\n",
       "      <td>Tutorial on Answering Questions about Images w...</td>\n",
       "      <td>Together with the development of more accurate...</td>\n",
       "    </tr>\n",
       "    <tr>\n",
       "      <th>4</th>\n",
       "      <td>Building Machines That Learn and Think Like Pe...</td>\n",
       "      <td>Recent progress in artificial intelligence AI ...</td>\n",
       "    </tr>\n",
       "  </tbody>\n",
       "</table>\n",
       "</div>"
      ],
      "text/plain": [
       "                                               Title  \\\n",
       "0  Sequential Short-Text Classification with Recu...   \n",
       "1  Multiresolution Recurrent Neural Networks An A...   \n",
       "2  Document Image Coding and Clustering for Scrip...   \n",
       "3  Tutorial on Answering Questions about Images w...   \n",
       "4  Building Machines That Learn and Think Like Pe...   \n",
       "\n",
       "                                            Abstract  \n",
       "0  Recent approaches based on artificial neural n...  \n",
       "1  We introduce the multiresolution recurrent neu...  \n",
       "2  The paper introduces a new method for discrimi...  \n",
       "3  Together with the development of more accurate...  \n",
       "4  Recent progress in artificial intelligence AI ...  "
      ]
     },
     "execution_count": 34,
     "metadata": {},
     "output_type": "execute_result"
    }
   ],
   "source": [
    "test_data = pd.read_csv(test_fp)\n",
    "test_data.head()"
   ]
  },
  {
   "cell_type": "code",
   "execution_count": 35,
   "id": "7399da88",
   "metadata": {},
   "outputs": [
    {
     "data": {
      "text/plain": [
       "'Sequential Short-Text Classification with Recurrent and Convolutional  Neural Networks Recent approaches based on artificial neural networks ANNs have shownpromising results for short-text classification However many short textsoccur in sequences eg sentences in a document or utterances in a dialogand most existing ANN-based systems do not leverage the preceding short textswhen classifying a subsequent one In this work we present a model based onrecurrent neural networks and convolutional neural networks that incorporatesthe preceding short texts Our model achieves state-of-the-art results on threedifferent datasets for dialog act prediction'"
      ]
     },
     "execution_count": 35,
     "metadata": {},
     "output_type": "execute_result"
    }
   ],
   "source": [
    "test_data['Title'][0] + ' ' + test_data['Abstract'][0]"
   ]
  },
  {
   "cell_type": "code",
   "execution_count": 36,
   "id": "3240b32a",
   "metadata": {},
   "outputs": [
    {
     "data": {
      "text/html": [
       "<div>\n",
       "<style scoped>\n",
       "    .dataframe tbody tr th:only-of-type {\n",
       "        vertical-align: middle;\n",
       "    }\n",
       "\n",
       "    .dataframe tbody tr th {\n",
       "        vertical-align: top;\n",
       "    }\n",
       "\n",
       "    .dataframe thead th {\n",
       "        text-align: right;\n",
       "    }\n",
       "</style>\n",
       "<table border=\"1\" class=\"dataframe\">\n",
       "  <thead>\n",
       "    <tr style=\"text-align: right;\">\n",
       "      <th></th>\n",
       "      <th>Phrase Quality</th>\n",
       "      <th>Phrase</th>\n",
       "      <th>Year</th>\n",
       "    </tr>\n",
       "  </thead>\n",
       "  <tbody>\n",
       "    <tr>\n",
       "      <th>20</th>\n",
       "      <td>0.946833</td>\n",
       "      <td>context free</td>\n",
       "      <td>1968</td>\n",
       "    </tr>\n",
       "    <tr>\n",
       "      <th>21</th>\n",
       "      <td>0.890167</td>\n",
       "      <td>time sharing</td>\n",
       "      <td>1968</td>\n",
       "    </tr>\n",
       "    <tr>\n",
       "      <th>22</th>\n",
       "      <td>0.909000</td>\n",
       "      <td>context free</td>\n",
       "      <td>1969</td>\n",
       "    </tr>\n",
       "    <tr>\n",
       "      <th>23</th>\n",
       "      <td>0.896000</td>\n",
       "      <td>time sharing</td>\n",
       "      <td>1969</td>\n",
       "    </tr>\n",
       "    <tr>\n",
       "      <th>24</th>\n",
       "      <td>0.993000</td>\n",
       "      <td>context free</td>\n",
       "      <td>1970</td>\n",
       "    </tr>\n",
       "    <tr>\n",
       "      <th>...</th>\n",
       "      <td>...</td>\n",
       "      <td>...</td>\n",
       "      <td>...</td>\n",
       "    </tr>\n",
       "    <tr>\n",
       "      <th>238718</th>\n",
       "      <td>0.600501</td>\n",
       "      <td>practical implementation</td>\n",
       "      <td>2017</td>\n",
       "    </tr>\n",
       "    <tr>\n",
       "      <th>238719</th>\n",
       "      <td>0.600363</td>\n",
       "      <td>next generation</td>\n",
       "      <td>2017</td>\n",
       "    </tr>\n",
       "    <tr>\n",
       "      <th>238720</th>\n",
       "      <td>0.600185</td>\n",
       "      <td>deep convolutional neural</td>\n",
       "      <td>2017</td>\n",
       "    </tr>\n",
       "    <tr>\n",
       "      <th>238721</th>\n",
       "      <td>0.600087</td>\n",
       "      <td>network nodes</td>\n",
       "      <td>2017</td>\n",
       "    </tr>\n",
       "    <tr>\n",
       "      <th>238722</th>\n",
       "      <td>0.600061</td>\n",
       "      <td>received signal</td>\n",
       "      <td>2017</td>\n",
       "    </tr>\n",
       "  </tbody>\n",
       "</table>\n",
       "<p>238701 rows × 3 columns</p>\n",
       "</div>"
      ],
      "text/plain": [
       "        Phrase Quality                     Phrase  Year\n",
       "20            0.946833               context free  1968\n",
       "21            0.890167               time sharing  1968\n",
       "22            0.909000               context free  1969\n",
       "23            0.896000               time sharing  1969\n",
       "24            0.993000               context free  1970\n",
       "...                ...                        ...   ...\n",
       "238718        0.600501   practical implementation  2017\n",
       "238719        0.600363            next generation  2017\n",
       "238720        0.600185  deep convolutional neural  2017\n",
       "238721        0.600087              network nodes  2017\n",
       "238722        0.600061            received signal  2017\n",
       "\n",
       "[238701 rows x 3 columns]"
      ]
     },
     "execution_count": 36,
     "metadata": {},
     "output_type": "execute_result"
    }
   ],
   "source": [
    "uby"
   ]
  },
  {
   "cell_type": "code",
   "execution_count": 37,
   "id": "c68c8c56",
   "metadata": {},
   "outputs": [],
   "source": [
    "input_phrase = 'convolutional neural networks'"
   ]
  },
  {
   "cell_type": "code",
   "execution_count": 38,
   "id": "2850fb2c",
   "metadata": {},
   "outputs": [
    {
     "data": {
      "text/plain": [
       "20         True\n",
       "21        False\n",
       "22         True\n",
       "23        False\n",
       "24         True\n",
       "          ...  \n",
       "238718    False\n",
       "238719    False\n",
       "238720    False\n",
       "238721    False\n",
       "238722    False\n",
       "Length: 238701, dtype: bool"
      ]
     },
     "execution_count": 38,
     "metadata": {},
     "output_type": "execute_result"
    }
   ],
   "source": [
    "valid_ix = uby.apply(lambda x: x['Phrase'][0] == 'c' if isinstance(x['Phrase'], str) else False, axis=1)\n",
    "valid_ix"
   ]
  },
  {
   "cell_type": "code",
   "execution_count": 39,
   "id": "2c92bab3",
   "metadata": {},
   "outputs": [
    {
     "data": {
      "text/plain": [
       "array(['context free', 'computer science', 'computer graphics', ...,\n",
       "       'complete characterization', 'co occurrence matrix',\n",
       "       'computational approach'], dtype=object)"
      ]
     },
     "execution_count": 39,
     "metadata": {},
     "output_type": "execute_result"
    }
   ],
   "source": [
    "unique_phrases = uby[valid_ix]['Phrase'].unique()\n",
    "unique_phrases"
   ]
  },
  {
   "cell_type": "code",
   "execution_count": 40,
   "id": "e1e3a849",
   "metadata": {},
   "outputs": [],
   "source": [
    "candidate = ''\n",
    "dist = float('inf')\n",
    "for phrase in unique_phrases:\n",
    "    diff = Lv.distance(input_phrase, phrase)\n",
    "    if diff < dist:\n",
    "        candidate = phrase\n",
    "        dist = diff"
   ]
  },
  {
   "cell_type": "code",
   "execution_count": 41,
   "id": "1806a7e3",
   "metadata": {},
   "outputs": [
    {
     "data": {
      "text/plain": [
       "'convolutional neural networks'"
      ]
     },
     "execution_count": 41,
     "metadata": {},
     "output_type": "execute_result"
    }
   ],
   "source": [
    "candidate"
   ]
  },
  {
   "cell_type": "code",
   "execution_count": 42,
   "id": "747af00f",
   "metadata": {},
   "outputs": [
    {
     "data": {
      "text/plain": [
       "0"
      ]
     },
     "execution_count": 42,
     "metadata": {},
     "output_type": "execute_result"
    }
   ],
   "source": [
    "dist"
   ]
  },
  {
   "cell_type": "code",
   "execution_count": 43,
   "id": "628e5e63",
   "metadata": {},
   "outputs": [
    {
     "data": {
      "text/html": [
       "<div>\n",
       "<style scoped>\n",
       "    .dataframe tbody tr th:only-of-type {\n",
       "        vertical-align: middle;\n",
       "    }\n",
       "\n",
       "    .dataframe tbody tr th {\n",
       "        vertical-align: top;\n",
       "    }\n",
       "\n",
       "    .dataframe thead th {\n",
       "        text-align: right;\n",
       "    }\n",
       "</style>\n",
       "<table border=\"1\" class=\"dataframe\">\n",
       "  <thead>\n",
       "    <tr style=\"text-align: right;\">\n",
       "      <th></th>\n",
       "      <th>Phrase Quality</th>\n",
       "      <th>Phrase</th>\n",
       "      <th>Year</th>\n",
       "    </tr>\n",
       "  </thead>\n",
       "  <tbody>\n",
       "    <tr>\n",
       "      <th>136900</th>\n",
       "      <td>0.865809</td>\n",
       "      <td>convolutional neural networks</td>\n",
       "      <td>2012</td>\n",
       "    </tr>\n",
       "    <tr>\n",
       "      <th>152925</th>\n",
       "      <td>0.915629</td>\n",
       "      <td>convolutional neural networks</td>\n",
       "      <td>2013</td>\n",
       "    </tr>\n",
       "    <tr>\n",
       "      <th>172010</th>\n",
       "      <td>0.937014</td>\n",
       "      <td>convolutional neural networks</td>\n",
       "      <td>2014</td>\n",
       "    </tr>\n",
       "    <tr>\n",
       "      <th>190695</th>\n",
       "      <td>0.931728</td>\n",
       "      <td>convolutional neural networks</td>\n",
       "      <td>2015</td>\n",
       "    </tr>\n",
       "    <tr>\n",
       "      <th>212473</th>\n",
       "      <td>0.917273</td>\n",
       "      <td>convolutional neural networks</td>\n",
       "      <td>2016</td>\n",
       "    </tr>\n",
       "    <tr>\n",
       "      <th>233574</th>\n",
       "      <td>0.904261</td>\n",
       "      <td>convolutional neural networks</td>\n",
       "      <td>2017</td>\n",
       "    </tr>\n",
       "  </tbody>\n",
       "</table>\n",
       "</div>"
      ],
      "text/plain": [
       "        Phrase Quality                         Phrase  Year\n",
       "136900        0.865809  convolutional neural networks  2012\n",
       "152925        0.915629  convolutional neural networks  2013\n",
       "172010        0.937014  convolutional neural networks  2014\n",
       "190695        0.931728  convolutional neural networks  2015\n",
       "212473        0.917273  convolutional neural networks  2016\n",
       "233574        0.904261  convolutional neural networks  2017"
      ]
     },
     "execution_count": 43,
     "metadata": {},
     "output_type": "execute_result"
    }
   ],
   "source": [
    "uby[uby['Phrase'] == 'convolutional neural networks']"
   ]
  },
  {
   "cell_type": "code",
   "execution_count": 44,
   "id": "5a41c6ad",
   "metadata": {},
   "outputs": [],
   "source": [
    "# Same approach, but keeping track of all candidates this time"
   ]
  },
  {
   "cell_type": "code",
   "execution_count": 45,
   "id": "5049a93e",
   "metadata": {},
   "outputs": [],
   "source": [
    "candidates = []\n",
    "for phrase in unique_phrases:\n",
    "    dist = Lv.distance(input_phrase, phrase)\n",
    "    candidates.append((dist, phrase))"
   ]
  },
  {
   "cell_type": "code",
   "execution_count": 46,
   "id": "4b5cda7c",
   "metadata": {},
   "outputs": [],
   "source": [
    "candidates.sort()"
   ]
  },
  {
   "cell_type": "code",
   "execution_count": 47,
   "id": "7587a8b5",
   "metadata": {},
   "outputs": [
    {
     "data": {
      "text/plain": [
       "[(0, 'convolutional neural networks'),\n",
       " (1, 'convolutional neural network'),\n",
       " (3, 'convolution neural network'),\n",
       " (4, 'convolutional neural network cnn'),\n",
       " (4, 'convolutional neural networks cnn'),\n",
       " (5, 'convolutional neural networks cnns'),\n",
       " (7, 'convolutional networks'),\n",
       " (8, 'convolutional network'),\n",
       " (9, 'cellular neural networks'),\n",
       " (9, 'chaotic neural networks')]"
      ]
     },
     "execution_count": 47,
     "metadata": {},
     "output_type": "execute_result"
    }
   ],
   "source": [
    "candidates[:10]"
   ]
  },
  {
   "cell_type": "code",
   "execution_count": 48,
   "id": "faee5e5c",
   "metadata": {},
   "outputs": [],
   "source": [
    "# Using df.apply so we can look at all phrases, not just phrases that start with the same letter"
   ]
  },
  {
   "cell_type": "code",
   "execution_count": 49,
   "id": "409b65d7",
   "metadata": {},
   "outputs": [
    {
     "data": {
      "text/html": [
       "<div>\n",
       "<style scoped>\n",
       "    .dataframe tbody tr th:only-of-type {\n",
       "        vertical-align: middle;\n",
       "    }\n",
       "\n",
       "    .dataframe tbody tr th {\n",
       "        vertical-align: top;\n",
       "    }\n",
       "\n",
       "    .dataframe thead th {\n",
       "        text-align: right;\n",
       "    }\n",
       "</style>\n",
       "<table border=\"1\" class=\"dataframe\">\n",
       "  <thead>\n",
       "    <tr style=\"text-align: right;\">\n",
       "      <th></th>\n",
       "      <th>Phrase Quality</th>\n",
       "      <th>Phrase</th>\n",
       "      <th>Year</th>\n",
       "      <th>Dist</th>\n",
       "    </tr>\n",
       "  </thead>\n",
       "  <tbody>\n",
       "    <tr>\n",
       "      <th>20</th>\n",
       "      <td>0.946833</td>\n",
       "      <td>context free</td>\n",
       "      <td>1968</td>\n",
       "      <td>22</td>\n",
       "    </tr>\n",
       "    <tr>\n",
       "      <th>21</th>\n",
       "      <td>0.890167</td>\n",
       "      <td>time sharing</td>\n",
       "      <td>1968</td>\n",
       "      <td>24</td>\n",
       "    </tr>\n",
       "    <tr>\n",
       "      <th>22</th>\n",
       "      <td>0.909000</td>\n",
       "      <td>context free</td>\n",
       "      <td>1969</td>\n",
       "      <td>22</td>\n",
       "    </tr>\n",
       "    <tr>\n",
       "      <th>23</th>\n",
       "      <td>0.896000</td>\n",
       "      <td>time sharing</td>\n",
       "      <td>1969</td>\n",
       "      <td>24</td>\n",
       "    </tr>\n",
       "    <tr>\n",
       "      <th>24</th>\n",
       "      <td>0.993000</td>\n",
       "      <td>context free</td>\n",
       "      <td>1970</td>\n",
       "      <td>22</td>\n",
       "    </tr>\n",
       "    <tr>\n",
       "      <th>...</th>\n",
       "      <td>...</td>\n",
       "      <td>...</td>\n",
       "      <td>...</td>\n",
       "      <td>...</td>\n",
       "    </tr>\n",
       "    <tr>\n",
       "      <th>238718</th>\n",
       "      <td>0.600501</td>\n",
       "      <td>practical implementation</td>\n",
       "      <td>2017</td>\n",
       "      <td>22</td>\n",
       "    </tr>\n",
       "    <tr>\n",
       "      <th>238719</th>\n",
       "      <td>0.600363</td>\n",
       "      <td>next generation</td>\n",
       "      <td>2017</td>\n",
       "      <td>21</td>\n",
       "    </tr>\n",
       "    <tr>\n",
       "      <th>238720</th>\n",
       "      <td>0.600185</td>\n",
       "      <td>deep convolutional neural</td>\n",
       "      <td>2017</td>\n",
       "      <td>14</td>\n",
       "    </tr>\n",
       "    <tr>\n",
       "      <th>238721</th>\n",
       "      <td>0.600087</td>\n",
       "      <td>network nodes</td>\n",
       "      <td>2017</td>\n",
       "      <td>21</td>\n",
       "    </tr>\n",
       "    <tr>\n",
       "      <th>238722</th>\n",
       "      <td>0.600061</td>\n",
       "      <td>received signal</td>\n",
       "      <td>2017</td>\n",
       "      <td>25</td>\n",
       "    </tr>\n",
       "  </tbody>\n",
       "</table>\n",
       "<p>238701 rows × 4 columns</p>\n",
       "</div>"
      ],
      "text/plain": [
       "        Phrase Quality                     Phrase  Year  Dist\n",
       "20            0.946833               context free  1968    22\n",
       "21            0.890167               time sharing  1968    24\n",
       "22            0.909000               context free  1969    22\n",
       "23            0.896000               time sharing  1969    24\n",
       "24            0.993000               context free  1970    22\n",
       "...                ...                        ...   ...   ...\n",
       "238718        0.600501   practical implementation  2017    22\n",
       "238719        0.600363            next generation  2017    21\n",
       "238720        0.600185  deep convolutional neural  2017    14\n",
       "238721        0.600087              network nodes  2017    21\n",
       "238722        0.600061            received signal  2017    25\n",
       "\n",
       "[238701 rows x 4 columns]"
      ]
     },
     "execution_count": 49,
     "metadata": {},
     "output_type": "execute_result"
    }
   ],
   "source": [
    "uby_test = uby.copy()\n",
    "uby_test['Dist'] = uby_test.apply(lambda x: Lv.distance(input_phrase, x['Phrase']) if isinstance(x['Phrase'], str) else float('inf'), axis=1)\n",
    "uby_test"
   ]
  },
  {
   "cell_type": "code",
   "execution_count": 50,
   "id": "3219a42d",
   "metadata": {},
   "outputs": [
    {
     "data": {
      "text/html": [
       "<div>\n",
       "<style scoped>\n",
       "    .dataframe tbody tr th:only-of-type {\n",
       "        vertical-align: middle;\n",
       "    }\n",
       "\n",
       "    .dataframe tbody tr th {\n",
       "        vertical-align: top;\n",
       "    }\n",
       "\n",
       "    .dataframe thead th {\n",
       "        text-align: right;\n",
       "    }\n",
       "</style>\n",
       "<table border=\"1\" class=\"dataframe\">\n",
       "  <thead>\n",
       "    <tr style=\"text-align: right;\">\n",
       "      <th></th>\n",
       "      <th>Phrase Quality</th>\n",
       "      <th>Phrase</th>\n",
       "      <th>Year</th>\n",
       "      <th>Dist</th>\n",
       "    </tr>\n",
       "  </thead>\n",
       "  <tbody>\n",
       "    <tr>\n",
       "      <th>212473</th>\n",
       "      <td>0.917273</td>\n",
       "      <td>convolutional neural networks</td>\n",
       "      <td>2016</td>\n",
       "      <td>0</td>\n",
       "    </tr>\n",
       "    <tr>\n",
       "      <th>233574</th>\n",
       "      <td>0.904261</td>\n",
       "      <td>convolutional neural networks</td>\n",
       "      <td>2017</td>\n",
       "      <td>0</td>\n",
       "    </tr>\n",
       "    <tr>\n",
       "      <th>152925</th>\n",
       "      <td>0.915629</td>\n",
       "      <td>convolutional neural networks</td>\n",
       "      <td>2013</td>\n",
       "      <td>0</td>\n",
       "    </tr>\n",
       "    <tr>\n",
       "      <th>190695</th>\n",
       "      <td>0.931728</td>\n",
       "      <td>convolutional neural networks</td>\n",
       "      <td>2015</td>\n",
       "      <td>0</td>\n",
       "    </tr>\n",
       "    <tr>\n",
       "      <th>136900</th>\n",
       "      <td>0.865809</td>\n",
       "      <td>convolutional neural networks</td>\n",
       "      <td>2012</td>\n",
       "      <td>0</td>\n",
       "    </tr>\n",
       "    <tr>\n",
       "      <th>172010</th>\n",
       "      <td>0.937014</td>\n",
       "      <td>convolutional neural networks</td>\n",
       "      <td>2014</td>\n",
       "      <td>0</td>\n",
       "    </tr>\n",
       "    <tr>\n",
       "      <th>190443</th>\n",
       "      <td>0.936880</td>\n",
       "      <td>convolutional neural network</td>\n",
       "      <td>2015</td>\n",
       "      <td>1</td>\n",
       "    </tr>\n",
       "    <tr>\n",
       "      <th>174069</th>\n",
       "      <td>0.898522</td>\n",
       "      <td>convolutional neural network</td>\n",
       "      <td>2014</td>\n",
       "      <td>1</td>\n",
       "    </tr>\n",
       "    <tr>\n",
       "      <th>212157</th>\n",
       "      <td>0.922546</td>\n",
       "      <td>convolutional neural network</td>\n",
       "      <td>2016</td>\n",
       "      <td>1</td>\n",
       "    </tr>\n",
       "    <tr>\n",
       "      <th>153942</th>\n",
       "      <td>0.900172</td>\n",
       "      <td>convolutional neural network</td>\n",
       "      <td>2013</td>\n",
       "      <td>1</td>\n",
       "    </tr>\n",
       "  </tbody>\n",
       "</table>\n",
       "</div>"
      ],
      "text/plain": [
       "        Phrase Quality                         Phrase  Year  Dist\n",
       "212473        0.917273  convolutional neural networks  2016     0\n",
       "233574        0.904261  convolutional neural networks  2017     0\n",
       "152925        0.915629  convolutional neural networks  2013     0\n",
       "190695        0.931728  convolutional neural networks  2015     0\n",
       "136900        0.865809  convolutional neural networks  2012     0\n",
       "172010        0.937014  convolutional neural networks  2014     0\n",
       "190443        0.936880   convolutional neural network  2015     1\n",
       "174069        0.898522   convolutional neural network  2014     1\n",
       "212157        0.922546   convolutional neural network  2016     1\n",
       "153942        0.900172   convolutional neural network  2013     1"
      ]
     },
     "execution_count": 50,
     "metadata": {},
     "output_type": "execute_result"
    }
   ],
   "source": [
    "uby_test.sort_values('Dist')[:10]"
   ]
  },
  {
   "cell_type": "code",
   "execution_count": 51,
   "id": "a83a81f3",
   "metadata": {},
   "outputs": [],
   "source": [
    "# Testing on the unique overall df"
   ]
  },
  {
   "cell_type": "code",
   "execution_count": 52,
   "id": "91f00f89",
   "metadata": {},
   "outputs": [],
   "source": [
    "# un_all_test = un_all.copy()\n",
    "# un_all_test['Dist'] = un_all_test.apply(lambda x: Lv.distance(input_phrase, x['Phrase']) if isinstance(x['Phrase'], str) else float('inf'), axis=1)\n",
    "# un_all_test.head()"
   ]
  },
  {
   "cell_type": "code",
   "execution_count": 53,
   "id": "0e271bdd",
   "metadata": {},
   "outputs": [],
   "source": [
    "#un_all_test.sort_values('Dist')[:20]"
   ]
  },
  {
   "cell_type": "code",
   "execution_count": 54,
   "id": "f987790e",
   "metadata": {},
   "outputs": [],
   "source": [
    "# Consolidating results\n",
    "# Can start with the most common phrases and change phrases that are close enough (distance <= 5?)\n",
    "uby_counts = uby.groupby('Phrase').size()"
   ]
  },
  {
   "cell_type": "code",
   "execution_count": 55,
   "id": "3b01c105",
   "metadata": {},
   "outputs": [],
   "source": [
    "# num_years tells us how many years the phrase has shown up in\n",
    "uby['num_years'] = uby.apply(lambda x: uby_counts[x['Phrase']], axis=1)"
   ]
  },
  {
   "cell_type": "code",
   "execution_count": 56,
   "id": "3ab02301",
   "metadata": {},
   "outputs": [
    {
     "data": {
      "text/html": [
       "<div>\n",
       "<style scoped>\n",
       "    .dataframe tbody tr th:only-of-type {\n",
       "        vertical-align: middle;\n",
       "    }\n",
       "\n",
       "    .dataframe tbody tr th {\n",
       "        vertical-align: top;\n",
       "    }\n",
       "\n",
       "    .dataframe thead th {\n",
       "        text-align: right;\n",
       "    }\n",
       "</style>\n",
       "<table border=\"1\" class=\"dataframe\">\n",
       "  <thead>\n",
       "    <tr style=\"text-align: right;\">\n",
       "      <th></th>\n",
       "      <th>Phrase Quality</th>\n",
       "      <th>Phrase</th>\n",
       "      <th>Year</th>\n",
       "      <th>num_years</th>\n",
       "    </tr>\n",
       "  </thead>\n",
       "  <tbody>\n",
       "    <tr>\n",
       "      <th>20</th>\n",
       "      <td>0.946833</td>\n",
       "      <td>context free</td>\n",
       "      <td>1968</td>\n",
       "      <td>46</td>\n",
       "    </tr>\n",
       "    <tr>\n",
       "      <th>21</th>\n",
       "      <td>0.890167</td>\n",
       "      <td>time sharing</td>\n",
       "      <td>1968</td>\n",
       "      <td>2</td>\n",
       "    </tr>\n",
       "    <tr>\n",
       "      <th>22</th>\n",
       "      <td>0.909000</td>\n",
       "      <td>context free</td>\n",
       "      <td>1969</td>\n",
       "      <td>46</td>\n",
       "    </tr>\n",
       "    <tr>\n",
       "      <th>23</th>\n",
       "      <td>0.896000</td>\n",
       "      <td>time sharing</td>\n",
       "      <td>1969</td>\n",
       "      <td>2</td>\n",
       "    </tr>\n",
       "    <tr>\n",
       "      <th>24</th>\n",
       "      <td>0.993000</td>\n",
       "      <td>context free</td>\n",
       "      <td>1970</td>\n",
       "      <td>46</td>\n",
       "    </tr>\n",
       "  </tbody>\n",
       "</table>\n",
       "</div>"
      ],
      "text/plain": [
       "    Phrase Quality        Phrase  Year  num_years\n",
       "20        0.946833  context free  1968         46\n",
       "21        0.890167  time sharing  1968          2\n",
       "22        0.909000  context free  1969         46\n",
       "23        0.896000  time sharing  1969          2\n",
       "24        0.993000  context free  1970         46"
      ]
     },
     "execution_count": 56,
     "metadata": {},
     "output_type": "execute_result"
    }
   ],
   "source": [
    "uby.head()"
   ]
  },
  {
   "cell_type": "markdown",
   "id": "044fc25b",
   "metadata": {},
   "source": [
    "# Model generation"
   ]
  },
  {
   "cell_type": "code",
   "execution_count": 57,
   "id": "728ff2d3",
   "metadata": {},
   "outputs": [],
   "source": [
    "# x: Phrase, Phrase Quality, num_years\n",
    "# Phrase needs to be one hot encoded\n",
    "# y: Only the year (may need to use the unique overall dataframe?)\n",
    "\n",
    "# For phrase quality - standard scaler by year?\n",
    "# For num_years - normalize overall"
   ]
  },
  {
   "cell_type": "code",
   "execution_count": 58,
   "id": "2e81f367",
   "metadata": {},
   "outputs": [],
   "source": [
    "from sklearn.preprocessing import StandardScaler\n",
    "std_pipe = Pipeline([('scale', StandardScaler())])\n",
    "ohe_pipe = Pipeline([('one-hot', OneHotEncoder(handle_unknown='ignore'))])\n",
    "ct = ColumnTransformer(transformers=[('ohe', ohe_pipe, ['Phrase']),\n",
    "                                     ('scale', std_pipe, ['num_years']),\n",
    "                                    ('keep', 'passthrough', ['Phrase Quality'])])\n",
    "pl = Pipeline([('transform', ct), ('classifier', DecisionTreeClassifier())])"
   ]
  },
  {
   "cell_type": "code",
   "execution_count": 59,
   "id": "8981b674",
   "metadata": {},
   "outputs": [],
   "source": [
    "# Set random seed\n",
    "X_train, X_test, y_train, y_test = train_test_split(uby[['Phrase', 'num_years', 'Phrase Quality']],\n",
    "                                                    uby['Year'],\n",
    "                                                    random_state=1)"
   ]
  },
  {
   "cell_type": "code",
   "execution_count": 60,
   "id": "c6464599",
   "metadata": {},
   "outputs": [],
   "source": [
    "_ = pl.fit(X_train, y_train)"
   ]
  },
  {
   "cell_type": "code",
   "execution_count": 61,
   "id": "c570563e",
   "metadata": {},
   "outputs": [
    {
     "data": {
      "text/plain": [
       "0.08058515986326162"
      ]
     },
     "execution_count": 61,
     "metadata": {},
     "output_type": "execute_result"
    }
   ],
   "source": [
    "# Mean accuracy - 8% accurate\n",
    "pl.score(X_test, y_test)"
   ]
  },
  {
   "cell_type": "code",
   "execution_count": 62,
   "id": "3cdc2aac",
   "metadata": {},
   "outputs": [],
   "source": [
    "X_test['Predicted Year'] = pl.predict(X_test)\n",
    "X_test['Year'] = y_test\n",
    "X_test['Abs Year Diff'] = abs(X_test['Year'] - X_test['Predicted Year'])"
   ]
  },
  {
   "cell_type": "code",
   "execution_count": 63,
   "id": "8fbd4d4a",
   "metadata": {},
   "outputs": [
    {
     "data": {
      "text/html": [
       "<div>\n",
       "<style scoped>\n",
       "    .dataframe tbody tr th:only-of-type {\n",
       "        vertical-align: middle;\n",
       "    }\n",
       "\n",
       "    .dataframe tbody tr th {\n",
       "        vertical-align: top;\n",
       "    }\n",
       "\n",
       "    .dataframe thead th {\n",
       "        text-align: right;\n",
       "    }\n",
       "</style>\n",
       "<table border=\"1\" class=\"dataframe\">\n",
       "  <thead>\n",
       "    <tr style=\"text-align: right;\">\n",
       "      <th></th>\n",
       "      <th>Phrase</th>\n",
       "      <th>num_years</th>\n",
       "      <th>Phrase Quality</th>\n",
       "      <th>Predicted Year</th>\n",
       "      <th>Year</th>\n",
       "      <th>Abs Year Diff</th>\n",
       "    </tr>\n",
       "  </thead>\n",
       "  <tbody>\n",
       "    <tr>\n",
       "      <th>198146</th>\n",
       "      <td>band selection</td>\n",
       "      <td>11</td>\n",
       "      <td>0.831558</td>\n",
       "      <td>2009</td>\n",
       "      <td>2015</td>\n",
       "      <td>6</td>\n",
       "    </tr>\n",
       "    <tr>\n",
       "      <th>152976</th>\n",
       "      <td>mixed criticality</td>\n",
       "      <td>7</td>\n",
       "      <td>0.914890</td>\n",
       "      <td>2015</td>\n",
       "      <td>2013</td>\n",
       "      <td>2</td>\n",
       "    </tr>\n",
       "    <tr>\n",
       "      <th>200739</th>\n",
       "      <td>rna seq data</td>\n",
       "      <td>7</td>\n",
       "      <td>0.807498</td>\n",
       "      <td>2012</td>\n",
       "      <td>2015</td>\n",
       "      <td>3</td>\n",
       "    </tr>\n",
       "    <tr>\n",
       "      <th>238274</th>\n",
       "      <td>final result</td>\n",
       "      <td>1</td>\n",
       "      <td>0.642976</td>\n",
       "      <td>2016</td>\n",
       "      <td>2017</td>\n",
       "      <td>1</td>\n",
       "    </tr>\n",
       "    <tr>\n",
       "      <th>142017</th>\n",
       "      <td>presidential</td>\n",
       "      <td>4</td>\n",
       "      <td>0.806453</td>\n",
       "      <td>2015</td>\n",
       "      <td>2012</td>\n",
       "      <td>3</td>\n",
       "    </tr>\n",
       "    <tr>\n",
       "      <th>...</th>\n",
       "      <td>...</td>\n",
       "      <td>...</td>\n",
       "      <td>...</td>\n",
       "      <td>...</td>\n",
       "      <td>...</td>\n",
       "      <td>...</td>\n",
       "    </tr>\n",
       "    <tr>\n",
       "      <th>64293</th>\n",
       "      <td>treatment planning</td>\n",
       "      <td>12</td>\n",
       "      <td>0.792733</td>\n",
       "      <td>2010</td>\n",
       "      <td>2007</td>\n",
       "      <td>3</td>\n",
       "    </tr>\n",
       "    <tr>\n",
       "      <th>237679</th>\n",
       "      <td>default mode</td>\n",
       "      <td>10</td>\n",
       "      <td>0.696536</td>\n",
       "      <td>2009</td>\n",
       "      <td>2017</td>\n",
       "      <td>8</td>\n",
       "    </tr>\n",
       "    <tr>\n",
       "      <th>198475</th>\n",
       "      <td>user behaviour</td>\n",
       "      <td>12</td>\n",
       "      <td>0.828791</td>\n",
       "      <td>2012</td>\n",
       "      <td>2015</td>\n",
       "      <td>3</td>\n",
       "    </tr>\n",
       "    <tr>\n",
       "      <th>5578</th>\n",
       "      <td>temporal reasoning</td>\n",
       "      <td>17</td>\n",
       "      <td>0.905742</td>\n",
       "      <td>2009</td>\n",
       "      <td>1996</td>\n",
       "      <td>13</td>\n",
       "    </tr>\n",
       "    <tr>\n",
       "      <th>218718</th>\n",
       "      <td>dtw</td>\n",
       "      <td>9</td>\n",
       "      <td>0.837416</td>\n",
       "      <td>2012</td>\n",
       "      <td>2016</td>\n",
       "      <td>4</td>\n",
       "    </tr>\n",
       "  </tbody>\n",
       "</table>\n",
       "<p>59676 rows × 6 columns</p>\n",
       "</div>"
      ],
      "text/plain": [
       "                    Phrase  num_years  Phrase Quality  Predicted Year  Year  \\\n",
       "198146      band selection         11        0.831558            2009  2015   \n",
       "152976   mixed criticality          7        0.914890            2015  2013   \n",
       "200739        rna seq data          7        0.807498            2012  2015   \n",
       "238274        final result          1        0.642976            2016  2017   \n",
       "142017        presidential          4        0.806453            2015  2012   \n",
       "...                    ...        ...             ...             ...   ...   \n",
       "64293   treatment planning         12        0.792733            2010  2007   \n",
       "237679        default mode         10        0.696536            2009  2017   \n",
       "198475      user behaviour         12        0.828791            2012  2015   \n",
       "5578    temporal reasoning         17        0.905742            2009  1996   \n",
       "218718                 dtw          9        0.837416            2012  2016   \n",
       "\n",
       "        Abs Year Diff  \n",
       "198146              6  \n",
       "152976              2  \n",
       "200739              3  \n",
       "238274              1  \n",
       "142017              3  \n",
       "...               ...  \n",
       "64293               3  \n",
       "237679              8  \n",
       "198475              3  \n",
       "5578               13  \n",
       "218718              4  \n",
       "\n",
       "[59676 rows x 6 columns]"
      ]
     },
     "execution_count": 63,
     "metadata": {},
     "output_type": "execute_result"
    }
   ],
   "source": [
    "X_test"
   ]
  },
  {
   "cell_type": "code",
   "execution_count": 64,
   "id": "9d61ffa3",
   "metadata": {},
   "outputs": [
    {
     "data": {
      "text/plain": [
       "4.81349286145184"
      ]
     },
     "execution_count": 64,
     "metadata": {},
     "output_type": "execute_result"
    }
   ],
   "source": [
    "X_test['Abs Year Diff'].mean()"
   ]
  },
  {
   "cell_type": "code",
   "execution_count": 65,
   "id": "39655f90",
   "metadata": {},
   "outputs": [],
   "source": [
    "# THINGS TO TEST:\n",
    "# Using the unique by year dataframe, then only keeping one instance of duplicate phrases\n",
    "# but replace the year with the average (or median) of the years\n",
    "# Normalizing the numeric features\n",
    "\n",
    "# Try using phrasal segmentation model to run on a single paper title + abstract\n",
    "# Or a single paper full paper text\n",
    "\n",
    "# Try grouping by papers by a range of years (maybe 5)"
   ]
  },
  {
   "cell_type": "code",
   "execution_count": 66,
   "id": "172552bc",
   "metadata": {},
   "outputs": [
    {
     "data": {
      "text/html": [
       "<div>\n",
       "<style scoped>\n",
       "    .dataframe tbody tr th:only-of-type {\n",
       "        vertical-align: middle;\n",
       "    }\n",
       "\n",
       "    .dataframe tbody tr th {\n",
       "        vertical-align: top;\n",
       "    }\n",
       "\n",
       "    .dataframe thead th {\n",
       "        text-align: right;\n",
       "    }\n",
       "</style>\n",
       "<table border=\"1\" class=\"dataframe\">\n",
       "  <thead>\n",
       "    <tr style=\"text-align: right;\">\n",
       "      <th></th>\n",
       "      <th>Phrase</th>\n",
       "      <th>num_years</th>\n",
       "      <th>Phrase Quality</th>\n",
       "    </tr>\n",
       "  </thead>\n",
       "  <tbody>\n",
       "    <tr>\n",
       "      <th>212473</th>\n",
       "      <td>convolutional neural networks</td>\n",
       "      <td>6</td>\n",
       "      <td>0.917273</td>\n",
       "    </tr>\n",
       "    <tr>\n",
       "      <th>152925</th>\n",
       "      <td>convolutional neural networks</td>\n",
       "      <td>6</td>\n",
       "      <td>0.915629</td>\n",
       "    </tr>\n",
       "    <tr>\n",
       "      <th>190695</th>\n",
       "      <td>convolutional neural networks</td>\n",
       "      <td>6</td>\n",
       "      <td>0.931728</td>\n",
       "    </tr>\n",
       "    <tr>\n",
       "      <th>136900</th>\n",
       "      <td>convolutional neural networks</td>\n",
       "      <td>6</td>\n",
       "      <td>0.865809</td>\n",
       "    </tr>\n",
       "  </tbody>\n",
       "</table>\n",
       "</div>"
      ],
      "text/plain": [
       "                               Phrase  num_years  Phrase Quality\n",
       "212473  convolutional neural networks          6        0.917273\n",
       "152925  convolutional neural networks          6        0.915629\n",
       "190695  convolutional neural networks          6        0.931728\n",
       "136900  convolutional neural networks          6        0.865809"
      ]
     },
     "execution_count": 66,
     "metadata": {},
     "output_type": "execute_result"
    }
   ],
   "source": [
    "X_train[X_train['Phrase']=='convolutional neural networks']"
   ]
  },
  {
   "cell_type": "code",
   "execution_count": 67,
   "id": "ddf10e1c",
   "metadata": {},
   "outputs": [
    {
     "data": {
      "text/html": [
       "<div>\n",
       "<style scoped>\n",
       "    .dataframe tbody tr th:only-of-type {\n",
       "        vertical-align: middle;\n",
       "    }\n",
       "\n",
       "    .dataframe tbody tr th {\n",
       "        vertical-align: top;\n",
       "    }\n",
       "\n",
       "    .dataframe thead th {\n",
       "        text-align: right;\n",
       "    }\n",
       "</style>\n",
       "<table border=\"1\" class=\"dataframe\">\n",
       "  <thead>\n",
       "    <tr style=\"text-align: right;\">\n",
       "      <th></th>\n",
       "      <th>Phrase Quality</th>\n",
       "      <th>Phrase</th>\n",
       "      <th>Year</th>\n",
       "      <th>num_years</th>\n",
       "    </tr>\n",
       "  </thead>\n",
       "  <tbody>\n",
       "    <tr>\n",
       "      <th>0</th>\n",
       "      <td>1.0</td>\n",
       "      <td>convolutional neural networks</td>\n",
       "      <td>2005</td>\n",
       "      <td>6</td>\n",
       "    </tr>\n",
       "  </tbody>\n",
       "</table>\n",
       "</div>"
      ],
      "text/plain": [
       "   Phrase Quality                         Phrase  Year  num_years\n",
       "0             1.0  convolutional neural networks  2005          6"
      ]
     },
     "execution_count": 67,
     "metadata": {},
     "output_type": "execute_result"
    }
   ],
   "source": [
    "test = pd.DataFrame([[1.0, 'convolutional neural networks', 2005, 6]], columns=['Phrase Quality', 'Phrase', 'Year', 'num_years'])\n",
    "test"
   ]
  },
  {
   "cell_type": "code",
   "execution_count": 68,
   "id": "44d83a6e",
   "metadata": {},
   "outputs": [
    {
     "data": {
      "text/plain": [
       "array([1991], dtype=int64)"
      ]
     },
     "execution_count": 68,
     "metadata": {},
     "output_type": "execute_result"
    }
   ],
   "source": [
    "pl.predict(test[['Phrase', 'num_years', 'Phrase Quality']])"
   ]
  },
  {
   "cell_type": "code",
   "execution_count": 69,
   "id": "b451fc50",
   "metadata": {},
   "outputs": [
    {
     "data": {
      "text/html": [
       "<div>\n",
       "<style scoped>\n",
       "    .dataframe tbody tr th:only-of-type {\n",
       "        vertical-align: middle;\n",
       "    }\n",
       "\n",
       "    .dataframe tbody tr th {\n",
       "        vertical-align: top;\n",
       "    }\n",
       "\n",
       "    .dataframe thead th {\n",
       "        text-align: right;\n",
       "    }\n",
       "</style>\n",
       "<table border=\"1\" class=\"dataframe\">\n",
       "  <thead>\n",
       "    <tr style=\"text-align: right;\">\n",
       "      <th></th>\n",
       "      <th>Phrase Quality</th>\n",
       "      <th>Phrase</th>\n",
       "      <th>Year</th>\n",
       "      <th>num_years</th>\n",
       "    </tr>\n",
       "  </thead>\n",
       "  <tbody>\n",
       "    <tr>\n",
       "      <th>136900</th>\n",
       "      <td>0.865809</td>\n",
       "      <td>convolutional neural networks</td>\n",
       "      <td>2012</td>\n",
       "      <td>6</td>\n",
       "    </tr>\n",
       "    <tr>\n",
       "      <th>152925</th>\n",
       "      <td>0.915629</td>\n",
       "      <td>convolutional neural networks</td>\n",
       "      <td>2013</td>\n",
       "      <td>6</td>\n",
       "    </tr>\n",
       "    <tr>\n",
       "      <th>172010</th>\n",
       "      <td>0.937014</td>\n",
       "      <td>convolutional neural networks</td>\n",
       "      <td>2014</td>\n",
       "      <td>6</td>\n",
       "    </tr>\n",
       "    <tr>\n",
       "      <th>190695</th>\n",
       "      <td>0.931728</td>\n",
       "      <td>convolutional neural networks</td>\n",
       "      <td>2015</td>\n",
       "      <td>6</td>\n",
       "    </tr>\n",
       "    <tr>\n",
       "      <th>212473</th>\n",
       "      <td>0.917273</td>\n",
       "      <td>convolutional neural networks</td>\n",
       "      <td>2016</td>\n",
       "      <td>6</td>\n",
       "    </tr>\n",
       "    <tr>\n",
       "      <th>233574</th>\n",
       "      <td>0.904261</td>\n",
       "      <td>convolutional neural networks</td>\n",
       "      <td>2017</td>\n",
       "      <td>6</td>\n",
       "    </tr>\n",
       "  </tbody>\n",
       "</table>\n",
       "</div>"
      ],
      "text/plain": [
       "        Phrase Quality                         Phrase  Year  num_years\n",
       "136900        0.865809  convolutional neural networks  2012          6\n",
       "152925        0.915629  convolutional neural networks  2013          6\n",
       "172010        0.937014  convolutional neural networks  2014          6\n",
       "190695        0.931728  convolutional neural networks  2015          6\n",
       "212473        0.917273  convolutional neural networks  2016          6\n",
       "233574        0.904261  convolutional neural networks  2017          6"
      ]
     },
     "execution_count": 69,
     "metadata": {},
     "output_type": "execute_result"
    }
   ],
   "source": [
    "uby[uby['Phrase'] == 'convolutional neural networks']"
   ]
  },
  {
   "cell_type": "code",
   "execution_count": 70,
   "id": "8b5e4be0",
   "metadata": {},
   "outputs": [
    {
     "data": {
      "text/html": [
       "<div>\n",
       "<style scoped>\n",
       "    .dataframe tbody tr th:only-of-type {\n",
       "        vertical-align: middle;\n",
       "    }\n",
       "\n",
       "    .dataframe tbody tr th {\n",
       "        vertical-align: top;\n",
       "    }\n",
       "\n",
       "    .dataframe thead th {\n",
       "        text-align: right;\n",
       "    }\n",
       "</style>\n",
       "<table border=\"1\" class=\"dataframe\">\n",
       "  <thead>\n",
       "    <tr style=\"text-align: right;\">\n",
       "      <th></th>\n",
       "      <th>Phrase Quality</th>\n",
       "      <th>Phrase</th>\n",
       "      <th>Year</th>\n",
       "      <th>num_years</th>\n",
       "    </tr>\n",
       "  </thead>\n",
       "  <tbody>\n",
       "    <tr>\n",
       "      <th>0</th>\n",
       "      <td>1.0</td>\n",
       "      <td>artificial intelligence</td>\n",
       "      <td>2005</td>\n",
       "      <td>6</td>\n",
       "    </tr>\n",
       "  </tbody>\n",
       "</table>\n",
       "</div>"
      ],
      "text/plain": [
       "   Phrase Quality                   Phrase  Year  num_years\n",
       "0             1.0  artificial intelligence  2005          6"
      ]
     },
     "execution_count": 70,
     "metadata": {},
     "output_type": "execute_result"
    }
   ],
   "source": [
    "test = pd.DataFrame([[1.0, 'artificial intelligence', 2005, 6]], columns=['Phrase Quality', 'Phrase', 'Year', 'num_years'])\n",
    "test"
   ]
  },
  {
   "cell_type": "code",
   "execution_count": 71,
   "id": "f7a22f88",
   "metadata": {},
   "outputs": [
    {
     "data": {
      "text/plain": [
       "array([1991], dtype=int64)"
      ]
     },
     "execution_count": 71,
     "metadata": {},
     "output_type": "execute_result"
    }
   ],
   "source": [
    "pl.predict(test[['Phrase', 'num_years', 'Phrase Quality']])"
   ]
  },
  {
   "cell_type": "code",
   "execution_count": null,
   "id": "234f882a",
   "metadata": {},
   "outputs": [],
   "source": []
  },
  {
   "cell_type": "markdown",
   "id": "d6d947ff",
   "metadata": {},
   "source": [
    "# Baseline model testing with grouped phrases"
   ]
  },
  {
   "cell_type": "code",
   "execution_count": 72,
   "id": "390a3a04",
   "metadata": {},
   "outputs": [],
   "source": [
    "from sklearn.preprocessing import StandardScaler"
   ]
  },
  {
   "cell_type": "code",
   "execution_count": 73,
   "id": "7fae5ab0",
   "metadata": {},
   "outputs": [],
   "source": [
    "df = pd.read_csv('../results/dblp-v10-grouped/phrases.csv', index_col=0)\n",
    "df = df[4:]\n",
    "df = df.dropna()"
   ]
  },
  {
   "cell_type": "code",
   "execution_count": 74,
   "id": "6a57893a",
   "metadata": {},
   "outputs": [],
   "source": [
    "# num_years is slightly different since we grouped years now\n",
    "phr_counts = df.groupby('Phrase').size()\n",
    "df['num_years'] = df.apply(lambda x: phr_counts[x['Phrase']], axis=1)"
   ]
  },
  {
   "cell_type": "code",
   "execution_count": 75,
   "id": "19b3250c",
   "metadata": {},
   "outputs": [
    {
     "data": {
      "text/html": [
       "<div>\n",
       "<style scoped>\n",
       "    .dataframe tbody tr th:only-of-type {\n",
       "        vertical-align: middle;\n",
       "    }\n",
       "\n",
       "    .dataframe tbody tr th {\n",
       "        vertical-align: top;\n",
       "    }\n",
       "\n",
       "    .dataframe thead th {\n",
       "        text-align: right;\n",
       "    }\n",
       "</style>\n",
       "<table border=\"1\" class=\"dataframe\">\n",
       "  <thead>\n",
       "    <tr style=\"text-align: right;\">\n",
       "      <th></th>\n",
       "      <th>Phrase Quality</th>\n",
       "      <th>Phrase</th>\n",
       "      <th>Year</th>\n",
       "      <th>Num Words</th>\n",
       "      <th>num_years</th>\n",
       "    </tr>\n",
       "  </thead>\n",
       "  <tbody>\n",
       "    <tr>\n",
       "      <th>4</th>\n",
       "      <td>0.98100</td>\n",
       "      <td>tunnel diode</td>\n",
       "      <td>1960-1964</td>\n",
       "      <td>2</td>\n",
       "      <td>1</td>\n",
       "    </tr>\n",
       "    <tr>\n",
       "      <th>5</th>\n",
       "      <td>0.92850</td>\n",
       "      <td>differential equations</td>\n",
       "      <td>1960-1964</td>\n",
       "      <td>2</td>\n",
       "      <td>12</td>\n",
       "    </tr>\n",
       "    <tr>\n",
       "      <th>6</th>\n",
       "      <td>0.89700</td>\n",
       "      <td>high speed</td>\n",
       "      <td>1960-1964</td>\n",
       "      <td>2</td>\n",
       "      <td>12</td>\n",
       "    </tr>\n",
       "    <tr>\n",
       "      <th>7</th>\n",
       "      <td>0.88400</td>\n",
       "      <td>data processing</td>\n",
       "      <td>1960-1964</td>\n",
       "      <td>2</td>\n",
       "      <td>12</td>\n",
       "    </tr>\n",
       "    <tr>\n",
       "      <th>8</th>\n",
       "      <td>0.55575</td>\n",
       "      <td>per cent</td>\n",
       "      <td>1960-1964</td>\n",
       "      <td>2</td>\n",
       "      <td>5</td>\n",
       "    </tr>\n",
       "  </tbody>\n",
       "</table>\n",
       "</div>"
      ],
      "text/plain": [
       "   Phrase Quality                  Phrase       Year  Num Words  num_years\n",
       "4         0.98100            tunnel diode  1960-1964          2          1\n",
       "5         0.92850  differential equations  1960-1964          2         12\n",
       "6         0.89700              high speed  1960-1964          2         12\n",
       "7         0.88400         data processing  1960-1964          2         12\n",
       "8         0.55575                per cent  1960-1964          2          5"
      ]
     },
     "execution_count": 75,
     "metadata": {},
     "output_type": "execute_result"
    }
   ],
   "source": [
    "df.head()"
   ]
  },
  {
   "cell_type": "code",
   "execution_count": 76,
   "id": "63d60a44",
   "metadata": {},
   "outputs": [],
   "source": [
    "std_pipe = Pipeline([('scale', StandardScaler())])\n",
    "ohe_pipe = Pipeline([('one-hot', OneHotEncoder(handle_unknown='ignore'))])\n",
    "ct = ColumnTransformer(transformers=[('ohe', ohe_pipe, ['Phrase']),\n",
    "                                     ('scale', std_pipe, ['num_years']),\n",
    "                                    ('keep', 'passthrough', ['Phrase Quality'])])\n",
    "pl = Pipeline([('transform', ct), ('classifier', DecisionTreeClassifier())])"
   ]
  },
  {
   "cell_type": "code",
   "execution_count": 77,
   "id": "e3e655e9",
   "metadata": {},
   "outputs": [],
   "source": [
    "X_train, X_test, y_train, y_test = train_test_split(df[['Phrase', 'num_years', 'Phrase Quality']],\n",
    "                                                    df['Year'],\n",
    "                                                    random_state=1)"
   ]
  },
  {
   "cell_type": "code",
   "execution_count": 78,
   "id": "adf64b5a",
   "metadata": {},
   "outputs": [],
   "source": [
    "_ = pl.fit(X_train, y_train)"
   ]
  },
  {
   "cell_type": "code",
   "execution_count": 79,
   "id": "6231af16",
   "metadata": {},
   "outputs": [
    {
     "data": {
      "text/plain": [
       "0.3394138008186257"
      ]
     },
     "execution_count": 79,
     "metadata": {},
     "output_type": "execute_result"
    }
   ],
   "source": [
    "# 42.5% accuracy\n",
    "pl.score(X_test, y_test)"
   ]
  },
  {
   "cell_type": "code",
   "execution_count": 80,
   "id": "6869eed6",
   "metadata": {},
   "outputs": [],
   "source": [
    "X_test['Predicted Year'] = pl.predict(X_test)\n",
    "X_test['Year'] = y_test"
   ]
  },
  {
   "cell_type": "code",
   "execution_count": 81,
   "id": "dd6d1f10",
   "metadata": {},
   "outputs": [
    {
     "data": {
      "text/html": [
       "<div>\n",
       "<style scoped>\n",
       "    .dataframe tbody tr th:only-of-type {\n",
       "        vertical-align: middle;\n",
       "    }\n",
       "\n",
       "    .dataframe tbody tr th {\n",
       "        vertical-align: top;\n",
       "    }\n",
       "\n",
       "    .dataframe thead th {\n",
       "        text-align: right;\n",
       "    }\n",
       "</style>\n",
       "<table border=\"1\" class=\"dataframe\">\n",
       "  <thead>\n",
       "    <tr style=\"text-align: right;\">\n",
       "      <th></th>\n",
       "      <th>Phrase</th>\n",
       "      <th>num_years</th>\n",
       "      <th>Phrase Quality</th>\n",
       "      <th>Predicted Year</th>\n",
       "      <th>Year</th>\n",
       "    </tr>\n",
       "  </thead>\n",
       "  <tbody>\n",
       "    <tr>\n",
       "      <th>219344</th>\n",
       "      <td>ieee international workshop</td>\n",
       "      <td>1</td>\n",
       "      <td>0.624294</td>\n",
       "      <td>2010-2014</td>\n",
       "      <td>2010-2014</td>\n",
       "    </tr>\n",
       "    <tr>\n",
       "      <th>124040</th>\n",
       "      <td>risk based</td>\n",
       "      <td>4</td>\n",
       "      <td>0.581190</td>\n",
       "      <td>2015-2017</td>\n",
       "      <td>2005-2009</td>\n",
       "    </tr>\n",
       "    <tr>\n",
       "      <th>107111</th>\n",
       "      <td>operational profile</td>\n",
       "      <td>5</td>\n",
       "      <td>0.700898</td>\n",
       "      <td>1995-1999</td>\n",
       "      <td>2005-2009</td>\n",
       "    </tr>\n",
       "    <tr>\n",
       "      <th>195616</th>\n",
       "      <td>ultra high density</td>\n",
       "      <td>2</td>\n",
       "      <td>0.748598</td>\n",
       "      <td>2005-2009</td>\n",
       "      <td>2010-2014</td>\n",
       "    </tr>\n",
       "    <tr>\n",
       "      <th>166948</th>\n",
       "      <td>k2</td>\n",
       "      <td>2</td>\n",
       "      <td>0.850586</td>\n",
       "      <td>2015-2017</td>\n",
       "      <td>2010-2014</td>\n",
       "    </tr>\n",
       "    <tr>\n",
       "      <th>...</th>\n",
       "      <td>...</td>\n",
       "      <td>...</td>\n",
       "      <td>...</td>\n",
       "      <td>...</td>\n",
       "      <td>...</td>\n",
       "    </tr>\n",
       "    <tr>\n",
       "      <th>197445</th>\n",
       "      <td>objective image quality assessment</td>\n",
       "      <td>1</td>\n",
       "      <td>0.738843</td>\n",
       "      <td>2010-2014</td>\n",
       "      <td>2010-2014</td>\n",
       "    </tr>\n",
       "    <tr>\n",
       "      <th>234118</th>\n",
       "      <td>cellular automaton based</td>\n",
       "      <td>1</td>\n",
       "      <td>0.544212</td>\n",
       "      <td>2010-2014</td>\n",
       "      <td>2010-2014</td>\n",
       "    </tr>\n",
       "    <tr>\n",
       "      <th>25754</th>\n",
       "      <td>shared memory</td>\n",
       "      <td>8</td>\n",
       "      <td>0.940638</td>\n",
       "      <td>2000-2004</td>\n",
       "      <td>2000-2004</td>\n",
       "    </tr>\n",
       "    <tr>\n",
       "      <th>119251</th>\n",
       "      <td>intrusion detection system</td>\n",
       "      <td>4</td>\n",
       "      <td>0.616531</td>\n",
       "      <td>2010-2014</td>\n",
       "      <td>2005-2009</td>\n",
       "    </tr>\n",
       "    <tr>\n",
       "      <th>249848</th>\n",
       "      <td>high mobility</td>\n",
       "      <td>4</td>\n",
       "      <td>0.896565</td>\n",
       "      <td>2005-2009</td>\n",
       "      <td>2015-2017</td>\n",
       "    </tr>\n",
       "  </tbody>\n",
       "</table>\n",
       "<p>75981 rows × 5 columns</p>\n",
       "</div>"
      ],
      "text/plain": [
       "                                    Phrase  num_years  Phrase Quality  \\\n",
       "219344         ieee international workshop          1        0.624294   \n",
       "124040                          risk based          4        0.581190   \n",
       "107111                 operational profile          5        0.700898   \n",
       "195616                  ultra high density          2        0.748598   \n",
       "166948                                  k2          2        0.850586   \n",
       "...                                    ...        ...             ...   \n",
       "197445  objective image quality assessment          1        0.738843   \n",
       "234118            cellular automaton based          1        0.544212   \n",
       "25754                        shared memory          8        0.940638   \n",
       "119251          intrusion detection system          4        0.616531   \n",
       "249848                       high mobility          4        0.896565   \n",
       "\n",
       "       Predicted Year       Year  \n",
       "219344      2010-2014  2010-2014  \n",
       "124040      2015-2017  2005-2009  \n",
       "107111      1995-1999  2005-2009  \n",
       "195616      2005-2009  2010-2014  \n",
       "166948      2015-2017  2010-2014  \n",
       "...               ...        ...  \n",
       "197445      2010-2014  2010-2014  \n",
       "234118      2010-2014  2010-2014  \n",
       "25754       2000-2004  2000-2004  \n",
       "119251      2010-2014  2005-2009  \n",
       "249848      2005-2009  2015-2017  \n",
       "\n",
       "[75981 rows x 5 columns]"
      ]
     },
     "execution_count": 81,
     "metadata": {},
     "output_type": "execute_result"
    }
   ],
   "source": [
    "X_test"
   ]
  },
  {
   "cell_type": "code",
   "execution_count": 82,
   "id": "9571340f",
   "metadata": {},
   "outputs": [
    {
     "data": {
      "text/plain": [
       "2010-2014    26820\n",
       "2005-2009    19170\n",
       "2015-2017    15194\n",
       "2000-2004     8514\n",
       "1995-1999     3855\n",
       "1990-1994     1591\n",
       "1985-1989      545\n",
       "1980-1984      166\n",
       "1975-1979       75\n",
       "1970-1974       37\n",
       "1965-1969       12\n",
       "1960-1964        2\n",
       "Name: Year, dtype: int64"
      ]
     },
     "execution_count": 82,
     "metadata": {},
     "output_type": "execute_result"
    }
   ],
   "source": [
    "# How does the accuracy compare to just guessing the most common?\n",
    "X_test['Year'].value_counts()"
   ]
  },
  {
   "cell_type": "code",
   "execution_count": 83,
   "id": "ccb05f09",
   "metadata": {},
   "outputs": [
    {
     "data": {
      "text/plain": [
       "0.3529829825877522"
      ]
     },
     "execution_count": 83,
     "metadata": {},
     "output_type": "execute_result"
    }
   ],
   "source": [
    "(y_test == '2010-2014').mean()"
   ]
  },
  {
   "cell_type": "markdown",
   "id": "576ae257",
   "metadata": {},
   "source": [
    "# Refined model"
   ]
  },
  {
   "cell_type": "code",
   "execution_count": 84,
   "id": "3b44b822",
   "metadata": {},
   "outputs": [],
   "source": [
    "# Potential other classifiers to use\n",
    "# K nearest neighbor\n",
    "# Naive Bayes\n",
    "# Linear Discriminant\n",
    "# Support Vector Machines"
   ]
  },
  {
   "cell_type": "code",
   "execution_count": null,
   "id": "4975aa21",
   "metadata": {},
   "outputs": [],
   "source": []
  },
  {
   "cell_type": "code",
   "execution_count": null,
   "id": "75f5d93f",
   "metadata": {},
   "outputs": [],
   "source": []
  },
  {
   "cell_type": "code",
   "execution_count": null,
   "id": "e7d5871e",
   "metadata": {},
   "outputs": [],
   "source": []
  }
 ],
 "metadata": {
  "kernelspec": {
   "display_name": "Python 3 (ipykernel)",
   "language": "python",
   "name": "python3"
  },
  "language_info": {
   "codemirror_mode": {
    "name": "ipython",
    "version": 3
   },
   "file_extension": ".py",
   "mimetype": "text/x-python",
   "name": "python",
   "nbconvert_exporter": "python",
   "pygments_lexer": "ipython3",
   "version": "3.9.7"
  }
 },
 "nbformat": 4,
 "nbformat_minor": 5
}
