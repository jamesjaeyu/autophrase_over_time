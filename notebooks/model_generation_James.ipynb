{
 "cells": [
  {
   "cell_type": "code",
   "execution_count": 1,
   "id": "901595e1",
   "metadata": {},
   "outputs": [],
   "source": [
    "import pandas as pd\n",
    "from sklearn.linear_model import LogisticRegression\n",
    "from sklearn.model_selection import train_test_split\n",
    "import Levenshtein as Lv\n",
    "import time\n",
    "import re\n",
    "\n",
    "import numpy as np\n",
    "import json\n",
    "from sklearn.tree import DecisionTreeClassifier\n",
    "from sklearn.preprocessing import Binarizer\n",
    "from sklearn.model_selection import GridSearchCV\n",
    "from sklearn.neighbors import KNeighborsRegressor\n",
    "from sklearn.linear_model import LinearRegression\n",
    "from sklearn.preprocessing import FunctionTransformer\n",
    "from sklearn.preprocessing import OneHotEncoder\n",
    "from sklearn.pipeline import Pipeline\n",
    "from sklearn.compose import ColumnTransformer"
   ]
  },
  {
   "cell_type": "markdown",
   "id": "10561aa9",
   "metadata": {},
   "source": [
    "## Looking at segmentation + AutoPhrase results for grouped years"
   ]
  },
  {
   "cell_type": "code",
   "execution_count": 2,
   "id": "a6113ae4",
   "metadata": {},
   "outputs": [],
   "source": [
    "grouped_fp = '../results/dblp-v10-grouped'\n",
    "seg_fp = grouped_fp + '/2000-2004_segmented.csv'\n",
    "auto_fp = grouped_fp + '/phrases.csv'"
   ]
  },
  {
   "cell_type": "code",
   "execution_count": 3,
   "id": "b20c205c",
   "metadata": {},
   "outputs": [
    {
     "data": {
      "text/html": [
       "<div>\n",
       "<style scoped>\n",
       "    .dataframe tbody tr th:only-of-type {\n",
       "        vertical-align: middle;\n",
       "    }\n",
       "\n",
       "    .dataframe tbody tr th {\n",
       "        vertical-align: top;\n",
       "    }\n",
       "\n",
       "    .dataframe thead th {\n",
       "        text-align: right;\n",
       "    }\n",
       "</style>\n",
       "<table border=\"1\" class=\"dataframe\">\n",
       "  <thead>\n",
       "    <tr style=\"text-align: right;\">\n",
       "      <th></th>\n",
       "      <th>Phrase Quality</th>\n",
       "      <th>Phrase</th>\n",
       "      <th>Year</th>\n",
       "      <th>Num Words</th>\n",
       "    </tr>\n",
       "  </thead>\n",
       "  <tbody>\n",
       "    <tr>\n",
       "      <th>0</th>\n",
       "      <td>0.991500</td>\n",
       "      <td>operations research</td>\n",
       "      <td>1950-1959</td>\n",
       "      <td>2</td>\n",
       "    </tr>\n",
       "    <tr>\n",
       "      <th>1</th>\n",
       "      <td>0.650500</td>\n",
       "      <td>operations research society of america</td>\n",
       "      <td>1950-1959</td>\n",
       "      <td>5</td>\n",
       "    </tr>\n",
       "    <tr>\n",
       "      <th>2</th>\n",
       "      <td>0.573500</td>\n",
       "      <td>high speed</td>\n",
       "      <td>1950-1959</td>\n",
       "      <td>2</td>\n",
       "    </tr>\n",
       "    <tr>\n",
       "      <th>3</th>\n",
       "      <td>0.525500</td>\n",
       "      <td>operations research society</td>\n",
       "      <td>1950-1959</td>\n",
       "      <td>3</td>\n",
       "    </tr>\n",
       "    <tr>\n",
       "      <th>4</th>\n",
       "      <td>0.981000</td>\n",
       "      <td>tunnel diode</td>\n",
       "      <td>1960-1964</td>\n",
       "      <td>2</td>\n",
       "    </tr>\n",
       "    <tr>\n",
       "      <th>...</th>\n",
       "      <td>...</td>\n",
       "      <td>...</td>\n",
       "      <td>...</td>\n",
       "      <td>...</td>\n",
       "    </tr>\n",
       "    <tr>\n",
       "      <th>303923</th>\n",
       "      <td>0.500036</td>\n",
       "      <td>target sites</td>\n",
       "      <td>2015-2017</td>\n",
       "      <td>2</td>\n",
       "    </tr>\n",
       "    <tr>\n",
       "      <th>303924</th>\n",
       "      <td>0.500033</td>\n",
       "      <td>biological information</td>\n",
       "      <td>2015-2017</td>\n",
       "      <td>2</td>\n",
       "    </tr>\n",
       "    <tr>\n",
       "      <th>303925</th>\n",
       "      <td>0.500027</td>\n",
       "      <td>non cooperative game</td>\n",
       "      <td>2015-2017</td>\n",
       "      <td>3</td>\n",
       "    </tr>\n",
       "    <tr>\n",
       "      <th>303926</th>\n",
       "      <td>0.500012</td>\n",
       "      <td>coding technique</td>\n",
       "      <td>2015-2017</td>\n",
       "      <td>2</td>\n",
       "    </tr>\n",
       "    <tr>\n",
       "      <th>303927</th>\n",
       "      <td>0.500004</td>\n",
       "      <td>language features</td>\n",
       "      <td>2015-2017</td>\n",
       "      <td>2</td>\n",
       "    </tr>\n",
       "  </tbody>\n",
       "</table>\n",
       "<p>303928 rows × 4 columns</p>\n",
       "</div>"
      ],
      "text/plain": [
       "        Phrase Quality                                  Phrase       Year  \\\n",
       "0             0.991500                     operations research  1950-1959   \n",
       "1             0.650500  operations research society of america  1950-1959   \n",
       "2             0.573500                              high speed  1950-1959   \n",
       "3             0.525500             operations research society  1950-1959   \n",
       "4             0.981000                            tunnel diode  1960-1964   \n",
       "...                ...                                     ...        ...   \n",
       "303923        0.500036                            target sites  2015-2017   \n",
       "303924        0.500033                  biological information  2015-2017   \n",
       "303925        0.500027                    non cooperative game  2015-2017   \n",
       "303926        0.500012                        coding technique  2015-2017   \n",
       "303927        0.500004                       language features  2015-2017   \n",
       "\n",
       "        Num Words  \n",
       "0               2  \n",
       "1               5  \n",
       "2               2  \n",
       "3               3  \n",
       "4               2  \n",
       "...           ...  \n",
       "303923          2  \n",
       "303924          2  \n",
       "303925          3  \n",
       "303926          2  \n",
       "303927          2  \n",
       "\n",
       "[303928 rows x 4 columns]"
      ]
     },
     "execution_count": 3,
     "metadata": {},
     "output_type": "execute_result"
    }
   ],
   "source": [
    "phrases = pd.read_csv(auto_fp, index_col=0)\n",
    "#phrases = phrases[phrases['Year']=='2000-2004']\n",
    "phrases"
   ]
  },
  {
   "cell_type": "code",
   "execution_count": 4,
   "id": "970367fc",
   "metadata": {},
   "outputs": [
    {
     "data": {
      "text/plain": [
       "array(['1950-1959', '1960-1964', '1965-1969', '1970-1974', '1975-1979',\n",
       "       '1980-1984', '1985-1989', '1990-1994', '1995-1999', '2000-2004',\n",
       "       '2005-2009', '2010-2014', '2015-2017'], dtype=object)"
      ]
     },
     "execution_count": 4,
     "metadata": {},
     "output_type": "execute_result"
    }
   ],
   "source": [
    "phrases['Year'].unique()"
   ]
  },
  {
   "cell_type": "code",
   "execution_count": 5,
   "id": "c3463d2f",
   "metadata": {},
   "outputs": [
    {
     "data": {
      "text/html": [
       "<div>\n",
       "<style scoped>\n",
       "    .dataframe tbody tr th:only-of-type {\n",
       "        vertical-align: middle;\n",
       "    }\n",
       "\n",
       "    .dataframe tbody tr th {\n",
       "        vertical-align: top;\n",
       "    }\n",
       "\n",
       "    .dataframe thead th {\n",
       "        text-align: right;\n",
       "    }\n",
       "</style>\n",
       "<table border=\"1\" class=\"dataframe\">\n",
       "  <thead>\n",
       "    <tr style=\"text-align: right;\">\n",
       "      <th></th>\n",
       "      <th>Phrases</th>\n",
       "      <th>Year</th>\n",
       "    </tr>\n",
       "  </thead>\n",
       "  <tbody>\n",
       "    <tr>\n",
       "      <th>0</th>\n",
       "      <td>hamiltonian,wave,periodic boundary conditions,...</td>\n",
       "      <td>2000-2004</td>\n",
       "    </tr>\n",
       "    <tr>\n",
       "      <th>1</th>\n",
       "      <td>embedded systems,memory,paper,architecture,dat...</td>\n",
       "      <td>2000-2004</td>\n",
       "    </tr>\n",
       "    <tr>\n",
       "      <th>2</th>\n",
       "      <td>language modeling,information,single,word orde...</td>\n",
       "      <td>2000-2004</td>\n",
       "    </tr>\n",
       "    <tr>\n",
       "      <th>3</th>\n",
       "      <td>mirror,software,perl,user-controlled,mirror,we...</td>\n",
       "      <td>2000-2004</td>\n",
       "    </tr>\n",
       "    <tr>\n",
       "      <th>4</th>\n",
       "      <td>covariance,regression,reproducing kernel hilbe...</td>\n",
       "      <td>2000-2004</td>\n",
       "    </tr>\n",
       "    <tr>\n",
       "      <th>...</th>\n",
       "      <td>...</td>\n",
       "      <td>...</td>\n",
       "    </tr>\n",
       "    <tr>\n",
       "      <th>309699</th>\n",
       "      <td>prototype,walking robot,ship,legged robot,acti...</td>\n",
       "      <td>2000-2004</td>\n",
       "    </tr>\n",
       "    <tr>\n",
       "      <th>309700</th>\n",
       "      <td>paper,parallel program,in grid,order,user inte...</td>\n",
       "      <td>2000-2004</td>\n",
       "    </tr>\n",
       "    <tr>\n",
       "      <th>309701</th>\n",
       "      <td>search-based,cbr,ca,ca,search process,cbr,ca,g...</td>\n",
       "      <td>2000-2004</td>\n",
       "    </tr>\n",
       "    <tr>\n",
       "      <th>309702</th>\n",
       "      <td>dram,production,tests,single,single,memory,tes...</td>\n",
       "      <td>2000-2004</td>\n",
       "    </tr>\n",
       "    <tr>\n",
       "      <th>309703</th>\n",
       "      <td>dialog,empirical methods,conducting,wizard-of-...</td>\n",
       "      <td>2000-2004</td>\n",
       "    </tr>\n",
       "  </tbody>\n",
       "</table>\n",
       "<p>309663 rows × 2 columns</p>\n",
       "</div>"
      ],
      "text/plain": [
       "                                                  Phrases       Year\n",
       "0       hamiltonian,wave,periodic boundary conditions,...  2000-2004\n",
       "1       embedded systems,memory,paper,architecture,dat...  2000-2004\n",
       "2       language modeling,information,single,word orde...  2000-2004\n",
       "3       mirror,software,perl,user-controlled,mirror,we...  2000-2004\n",
       "4       covariance,regression,reproducing kernel hilbe...  2000-2004\n",
       "...                                                   ...        ...\n",
       "309699  prototype,walking robot,ship,legged robot,acti...  2000-2004\n",
       "309700  paper,parallel program,in grid,order,user inte...  2000-2004\n",
       "309701  search-based,cbr,ca,ca,search process,cbr,ca,g...  2000-2004\n",
       "309702  dram,production,tests,single,single,memory,tes...  2000-2004\n",
       "309703  dialog,empirical methods,conducting,wizard-of-...  2000-2004\n",
       "\n",
       "[309663 rows x 2 columns]"
      ]
     },
     "execution_count": 5,
     "metadata": {},
     "output_type": "execute_result"
    }
   ],
   "source": [
    "seg = pd.read_csv(seg_fp, index_col=0)\n",
    "seg = seg.dropna() # Need to drop null values to prevent issues with string processing\n",
    "seg"
   ]
  },
  {
   "cell_type": "code",
   "execution_count": 6,
   "id": "a67a7096",
   "metadata": {},
   "outputs": [
    {
     "data": {
      "text/plain": [
       "'hamiltonian,wave,periodic boundary conditions,paper,nonlinear schrodinger,symplectic,symplectic,data,multi-phase,spectral methods'"
      ]
     },
     "execution_count": 6,
     "metadata": {},
     "output_type": "execute_result"
    }
   ],
   "source": [
    "seg.loc[0]['Phrases']"
   ]
  },
  {
   "cell_type": "code",
   "execution_count": 7,
   "id": "fd3f1382",
   "metadata": {},
   "outputs": [],
   "source": [
    "def find_qualities(x):\n",
    "    x = x['Phrases'].split(',')\n",
    "    out_phrases = []\n",
    "    out_quality = []\n",
    "    for phrase in x:\n",
    "        # Phrase will not show up in the df if the quality is too low\n",
    "        # We only kept multi >= 0.5 and single >= 0.8\n",
    "        # NOTE: Potential issue with phrase having dashes in seg when they don't in phrases\n",
    "        #       (i.e. user-controlled vs. user controlled)\n",
    "        match = phrases[phrases['Phrase'] == phrase]\n",
    "        if len(match) == 0:\n",
    "            continue\n",
    "        else:\n",
    "            out_phrases.append(phrase)\n",
    "            out_quality.append(match['Phrase Quality'].values[0])\n",
    "    return out_phrases, out_quality"
   ]
  },
  {
   "cell_type": "code",
   "execution_count": 8,
   "id": "8a56f24d",
   "metadata": {},
   "outputs": [],
   "source": [
    "test = seg.copy()\n",
    "test = seg.loc[1:10]"
   ]
  },
  {
   "cell_type": "code",
   "execution_count": 9,
   "id": "5a0b69cc",
   "metadata": {},
   "outputs": [
    {
     "name": "stderr",
     "output_type": "stream",
     "text": [
      "C:\\Users\\itsno\\AppData\\Local\\Temp/ipykernel_29200/2623782444.py:1: SettingWithCopyWarning: \n",
      "A value is trying to be set on a copy of a slice from a DataFrame.\n",
      "Try using .loc[row_indexer,col_indexer] = value instead\n",
      "\n",
      "See the caveats in the documentation: https://pandas.pydata.org/pandas-docs/stable/user_guide/indexing.html#returning-a-view-versus-a-copy\n",
      "  test['Phrases'], test['Phrase Qualities'] = zip(*test.apply(find_qualities, axis=1))\n"
     ]
    }
   ],
   "source": [
    "test['Phrases'], test['Phrase Qualities'] = zip(*test.apply(find_qualities, axis=1))"
   ]
  },
  {
   "cell_type": "code",
   "execution_count": 10,
   "id": "3fc43756",
   "metadata": {},
   "outputs": [
    {
     "data": {
      "text/html": [
       "<div>\n",
       "<style scoped>\n",
       "    .dataframe tbody tr th:only-of-type {\n",
       "        vertical-align: middle;\n",
       "    }\n",
       "\n",
       "    .dataframe tbody tr th {\n",
       "        vertical-align: top;\n",
       "    }\n",
       "\n",
       "    .dataframe thead th {\n",
       "        text-align: right;\n",
       "    }\n",
       "</style>\n",
       "<table border=\"1\" class=\"dataframe\">\n",
       "  <thead>\n",
       "    <tr style=\"text-align: right;\">\n",
       "      <th></th>\n",
       "      <th>Phrases</th>\n",
       "      <th>Year</th>\n",
       "      <th>Phrase Qualities</th>\n",
       "    </tr>\n",
       "  </thead>\n",
       "  <tbody>\n",
       "    <tr>\n",
       "      <th>1</th>\n",
       "      <td>[embedded systems, control flow, program trans...</td>\n",
       "      <td>2000-2004</td>\n",
       "      <td>[0.751535651, 0.9272791598, 0.8154624019, 0.68...</td>\n",
       "    </tr>\n",
       "    <tr>\n",
       "      <th>2</th>\n",
       "      <td>[language modeling, word order, language model...</td>\n",
       "      <td>2000-2004</td>\n",
       "      <td>[0.7877440842, 0.8562616285, 0.7877440842, 0.8...</td>\n",
       "    </tr>\n",
       "    <tr>\n",
       "      <th>3</th>\n",
       "      <td>[mirror, perl, mirror, web cache, http, mirror...</td>\n",
       "      <td>2000-2004</td>\n",
       "      <td>[0.8339330792, 0.824974653, 0.8339330792, 0.72...</td>\n",
       "    </tr>\n",
       "    <tr>\n",
       "      <th>4</th>\n",
       "      <td>[covariance, regression, reproducing kernel hi...</td>\n",
       "      <td>2000-2004</td>\n",
       "      <td>[0.8073973255, 0.8220048591, 0.9075834826, 0.6...</td>\n",
       "    </tr>\n",
       "    <tr>\n",
       "      <th>5</th>\n",
       "      <td>[modular exponentiation, cornerstone, rsa, mod...</td>\n",
       "      <td>2000-2004</td>\n",
       "      <td>[0.8909553133, 0.8050896539, 0.807428333, 0.74...</td>\n",
       "    </tr>\n",
       "    <tr>\n",
       "      <th>6</th>\n",
       "      <td>[question answering, ir, semantic, semantic, n...</td>\n",
       "      <td>2000-2004</td>\n",
       "      <td>[0.9793318108, 0.8065003229, 0.8092162159, 0.8...</td>\n",
       "    </tr>\n",
       "    <tr>\n",
       "      <th>7</th>\n",
       "      <td>[todays web, web services, computers, markup, ...</td>\n",
       "      <td>2000-2004</td>\n",
       "      <td>[0.5229487085, 0.8034459036, 0.8001758076, 0.8...</td>\n",
       "    </tr>\n",
       "    <tr>\n",
       "      <th>8</th>\n",
       "      <td>[mediaeval, logic, aristotelian, negation, neg...</td>\n",
       "      <td>2000-2004</td>\n",
       "      <td>[0.8598218899, 0.8114334306, 0.8674139965, 0.8...</td>\n",
       "    </tr>\n",
       "    <tr>\n",
       "      <th>9</th>\n",
       "      <td>[intelligent systems, previous attempts, searc...</td>\n",
       "      <td>2000-2004</td>\n",
       "      <td>[0.7989019338, 0.5292607943, 0.6592930534, 0.8...</td>\n",
       "    </tr>\n",
       "    <tr>\n",
       "      <th>10</th>\n",
       "      <td>[noise robust, speech recognition, aurora, pre...</td>\n",
       "      <td>2000-2004</td>\n",
       "      <td>[0.6364751042, 0.9559212685, 0.8590855236, 0.7...</td>\n",
       "    </tr>\n",
       "  </tbody>\n",
       "</table>\n",
       "</div>"
      ],
      "text/plain": [
       "                                              Phrases       Year  \\\n",
       "1   [embedded systems, control flow, program trans...  2000-2004   \n",
       "2   [language modeling, word order, language model...  2000-2004   \n",
       "3   [mirror, perl, mirror, web cache, http, mirror...  2000-2004   \n",
       "4   [covariance, regression, reproducing kernel hi...  2000-2004   \n",
       "5   [modular exponentiation, cornerstone, rsa, mod...  2000-2004   \n",
       "6   [question answering, ir, semantic, semantic, n...  2000-2004   \n",
       "7   [todays web, web services, computers, markup, ...  2000-2004   \n",
       "8   [mediaeval, logic, aristotelian, negation, neg...  2000-2004   \n",
       "9   [intelligent systems, previous attempts, searc...  2000-2004   \n",
       "10  [noise robust, speech recognition, aurora, pre...  2000-2004   \n",
       "\n",
       "                                     Phrase Qualities  \n",
       "1   [0.751535651, 0.9272791598, 0.8154624019, 0.68...  \n",
       "2   [0.7877440842, 0.8562616285, 0.7877440842, 0.8...  \n",
       "3   [0.8339330792, 0.824974653, 0.8339330792, 0.72...  \n",
       "4   [0.8073973255, 0.8220048591, 0.9075834826, 0.6...  \n",
       "5   [0.8909553133, 0.8050896539, 0.807428333, 0.74...  \n",
       "6   [0.9793318108, 0.8065003229, 0.8092162159, 0.8...  \n",
       "7   [0.5229487085, 0.8034459036, 0.8001758076, 0.8...  \n",
       "8   [0.8598218899, 0.8114334306, 0.8674139965, 0.8...  \n",
       "9   [0.7989019338, 0.5292607943, 0.6592930534, 0.8...  \n",
       "10  [0.6364751042, 0.9559212685, 0.8590855236, 0.7...  "
      ]
     },
     "execution_count": 10,
     "metadata": {},
     "output_type": "execute_result"
    }
   ],
   "source": [
    "test"
   ]
  },
  {
   "cell_type": "code",
   "execution_count": 11,
   "id": "9c1b3e8f",
   "metadata": {},
   "outputs": [
    {
     "data": {
      "text/plain": [
       "['embedded systems',\n",
       " 'control flow',\n",
       " 'program transformations',\n",
       " 'embedded applications',\n",
       " 'library',\n",
       " 'code size']"
      ]
     },
     "execution_count": 11,
     "metadata": {},
     "output_type": "execute_result"
    }
   ],
   "source": [
    "test.loc[1]['Phrases']"
   ]
  },
  {
   "cell_type": "code",
   "execution_count": 12,
   "id": "c17206f9",
   "metadata": {},
   "outputs": [
    {
     "data": {
      "text/plain": [
       "[0.751535651,\n",
       " 0.9272791598,\n",
       " 0.8154624019,\n",
       " 0.6875766847,\n",
       " 0.8212738409,\n",
       " 0.7391568024]"
      ]
     },
     "execution_count": 12,
     "metadata": {},
     "output_type": "execute_result"
    }
   ],
   "source": [
    "test.loc[1]['Phrase Qualities']"
   ]
  },
  {
   "cell_type": "code",
   "execution_count": null,
   "id": "b6c321a9",
   "metadata": {},
   "outputs": [],
   "source": []
  },
  {
   "cell_type": "code",
   "execution_count": 13,
   "id": "c52187ea",
   "metadata": {},
   "outputs": [
    {
     "data": {
      "text/html": [
       "<div>\n",
       "<style scoped>\n",
       "    .dataframe tbody tr th:only-of-type {\n",
       "        vertical-align: middle;\n",
       "    }\n",
       "\n",
       "    .dataframe tbody tr th {\n",
       "        vertical-align: top;\n",
       "    }\n",
       "\n",
       "    .dataframe thead th {\n",
       "        text-align: right;\n",
       "    }\n",
       "</style>\n",
       "<table border=\"1\" class=\"dataframe\">\n",
       "  <thead>\n",
       "    <tr style=\"text-align: right;\">\n",
       "      <th></th>\n",
       "      <th>Phrases</th>\n",
       "      <th>Year</th>\n",
       "    </tr>\n",
       "  </thead>\n",
       "  <tbody>\n",
       "    <tr>\n",
       "      <th>0</th>\n",
       "      <td>hamiltonian,wave,periodic boundary conditions,...</td>\n",
       "      <td>2000-2004</td>\n",
       "    </tr>\n",
       "    <tr>\n",
       "      <th>1</th>\n",
       "      <td>[embedded systems, control flow, program trans...</td>\n",
       "      <td>2000-2004</td>\n",
       "    </tr>\n",
       "    <tr>\n",
       "      <th>2</th>\n",
       "      <td>[language modeling, word order, language model...</td>\n",
       "      <td>2000-2004</td>\n",
       "    </tr>\n",
       "    <tr>\n",
       "      <th>3</th>\n",
       "      <td>[mirror, perl, mirror, web cache, http, mirror...</td>\n",
       "      <td>2000-2004</td>\n",
       "    </tr>\n",
       "    <tr>\n",
       "      <th>4</th>\n",
       "      <td>[covariance, regression, reproducing kernel hi...</td>\n",
       "      <td>2000-2004</td>\n",
       "    </tr>\n",
       "    <tr>\n",
       "      <th>...</th>\n",
       "      <td>...</td>\n",
       "      <td>...</td>\n",
       "    </tr>\n",
       "    <tr>\n",
       "      <th>309699</th>\n",
       "      <td>prototype,walking robot,ship,legged robot,acti...</td>\n",
       "      <td>2000-2004</td>\n",
       "    </tr>\n",
       "    <tr>\n",
       "      <th>309700</th>\n",
       "      <td>paper,parallel program,in grid,order,user inte...</td>\n",
       "      <td>2000-2004</td>\n",
       "    </tr>\n",
       "    <tr>\n",
       "      <th>309701</th>\n",
       "      <td>search-based,cbr,ca,ca,search process,cbr,ca,g...</td>\n",
       "      <td>2000-2004</td>\n",
       "    </tr>\n",
       "    <tr>\n",
       "      <th>309702</th>\n",
       "      <td>dram,production,tests,single,single,memory,tes...</td>\n",
       "      <td>2000-2004</td>\n",
       "    </tr>\n",
       "    <tr>\n",
       "      <th>309703</th>\n",
       "      <td>dialog,empirical methods,conducting,wizard-of-...</td>\n",
       "      <td>2000-2004</td>\n",
       "    </tr>\n",
       "  </tbody>\n",
       "</table>\n",
       "<p>309663 rows × 2 columns</p>\n",
       "</div>"
      ],
      "text/plain": [
       "                                                  Phrases       Year\n",
       "0       hamiltonian,wave,periodic boundary conditions,...  2000-2004\n",
       "1       [embedded systems, control flow, program trans...  2000-2004\n",
       "2       [language modeling, word order, language model...  2000-2004\n",
       "3       [mirror, perl, mirror, web cache, http, mirror...  2000-2004\n",
       "4       [covariance, regression, reproducing kernel hi...  2000-2004\n",
       "...                                                   ...        ...\n",
       "309699  prototype,walking robot,ship,legged robot,acti...  2000-2004\n",
       "309700  paper,parallel program,in grid,order,user inte...  2000-2004\n",
       "309701  search-based,cbr,ca,ca,search process,cbr,ca,g...  2000-2004\n",
       "309702  dram,production,tests,single,single,memory,tes...  2000-2004\n",
       "309703  dialog,empirical methods,conducting,wizard-of-...  2000-2004\n",
       "\n",
       "[309663 rows x 2 columns]"
      ]
     },
     "execution_count": 13,
     "metadata": {},
     "output_type": "execute_result"
    }
   ],
   "source": [
    "seg"
   ]
  },
  {
   "cell_type": "code",
   "execution_count": null,
   "id": "a619b9b7",
   "metadata": {},
   "outputs": [],
   "source": []
  },
  {
   "cell_type": "code",
   "execution_count": 14,
   "id": "5161846b",
   "metadata": {},
   "outputs": [
    {
     "data": {
      "text/html": [
       "<div>\n",
       "<style scoped>\n",
       "    .dataframe tbody tr th:only-of-type {\n",
       "        vertical-align: middle;\n",
       "    }\n",
       "\n",
       "    .dataframe tbody tr th {\n",
       "        vertical-align: top;\n",
       "    }\n",
       "\n",
       "    .dataframe thead th {\n",
       "        text-align: right;\n",
       "    }\n",
       "</style>\n",
       "<table border=\"1\" class=\"dataframe\">\n",
       "  <thead>\n",
       "    <tr style=\"text-align: right;\">\n",
       "      <th></th>\n",
       "      <th>Phrase Quality</th>\n",
       "      <th>Phrase</th>\n",
       "      <th>Year</th>\n",
       "      <th>Num Words</th>\n",
       "    </tr>\n",
       "  </thead>\n",
       "  <tbody>\n",
       "    <tr>\n",
       "      <th>23440</th>\n",
       "      <td>0.557913</td>\n",
       "      <td>user controlled</td>\n",
       "      <td>1995-1999</td>\n",
       "      <td>2</td>\n",
       "    </tr>\n",
       "    <tr>\n",
       "      <th>45754</th>\n",
       "      <td>0.716653</td>\n",
       "      <td>user controlled</td>\n",
       "      <td>2000-2004</td>\n",
       "      <td>2</td>\n",
       "    </tr>\n",
       "    <tr>\n",
       "      <th>93921</th>\n",
       "      <td>0.792673</td>\n",
       "      <td>user controlled</td>\n",
       "      <td>2005-2009</td>\n",
       "      <td>2</td>\n",
       "    </tr>\n",
       "    <tr>\n",
       "      <th>195600</th>\n",
       "      <td>0.748656</td>\n",
       "      <td>user controlled</td>\n",
       "      <td>2010-2014</td>\n",
       "      <td>2</td>\n",
       "    </tr>\n",
       "    <tr>\n",
       "      <th>281156</th>\n",
       "      <td>0.715213</td>\n",
       "      <td>user controlled</td>\n",
       "      <td>2015-2017</td>\n",
       "      <td>2</td>\n",
       "    </tr>\n",
       "  </tbody>\n",
       "</table>\n",
       "</div>"
      ],
      "text/plain": [
       "        Phrase Quality           Phrase       Year  Num Words\n",
       "23440         0.557913  user controlled  1995-1999          2\n",
       "45754         0.716653  user controlled  2000-2004          2\n",
       "93921         0.792673  user controlled  2005-2009          2\n",
       "195600        0.748656  user controlled  2010-2014          2\n",
       "281156        0.715213  user controlled  2015-2017          2"
      ]
     },
     "execution_count": 14,
     "metadata": {},
     "output_type": "execute_result"
    }
   ],
   "source": [
    "phrases[phrases['Phrase'] == 'user controlled']"
   ]
  },
  {
   "cell_type": "code",
   "execution_count": 15,
   "id": "0c6bae8e",
   "metadata": {},
   "outputs": [
    {
     "data": {
      "text/plain": [
       "'user-controlled'"
      ]
     },
     "execution_count": 15,
     "metadata": {},
     "output_type": "execute_result"
    }
   ],
   "source": [
    "re.sub(r'[^A-Za-z0-9- ]+', '', 'user-controlled')"
   ]
  },
  {
   "cell_type": "code",
   "execution_count": 16,
   "id": "d7eedcd3",
   "metadata": {},
   "outputs": [
    {
     "data": {
      "text/plain": [
       "'user controlled'"
      ]
     },
     "execution_count": 16,
     "metadata": {},
     "output_type": "execute_result"
    }
   ],
   "source": [
    "re.sub(r'[-]+', ' ', 'user-controlled')"
   ]
  },
  {
   "cell_type": "code",
   "execution_count": null,
   "id": "bc062710",
   "metadata": {},
   "outputs": [],
   "source": []
  },
  {
   "cell_type": "code",
   "execution_count": null,
   "id": "7af95028",
   "metadata": {},
   "outputs": [],
   "source": []
  },
  {
   "cell_type": "code",
   "execution_count": null,
   "id": "95d66b4b",
   "metadata": {},
   "outputs": [],
   "source": []
  },
  {
   "cell_type": "code",
   "execution_count": null,
   "id": "6645d43c",
   "metadata": {},
   "outputs": [],
   "source": []
  },
  {
   "cell_type": "code",
   "execution_count": null,
   "id": "98b91c87",
   "metadata": {},
   "outputs": [],
   "source": []
  },
  {
   "cell_type": "markdown",
   "id": "c7f1b90c",
   "metadata": {},
   "source": [
    "# Analysis of AutoPhrase results"
   ]
  },
  {
   "cell_type": "code",
   "execution_count": 17,
   "id": "1b50e05f",
   "metadata": {},
   "outputs": [],
   "source": [
    "fp_uniquebyyear = '../results/dblp-v10-phrases-uniquebyyear.csv'\n",
    "fp_unique = '../results/dblp-v10-phrases-unique.csv'"
   ]
  },
  {
   "cell_type": "code",
   "execution_count": 18,
   "id": "b7533f8c",
   "metadata": {},
   "outputs": [],
   "source": [
    "# Start from year 1968 - years before had too little training data\n",
    "# We only kept multi-word phrases above 0.6 and single-word above 0.8"
   ]
  },
  {
   "cell_type": "code",
   "execution_count": 19,
   "id": "15e88f19",
   "metadata": {},
   "outputs": [
    {
     "ename": "FileNotFoundError",
     "evalue": "[Errno 2] No such file or directory: '../results/dblp-v10-phrases-unique.csv'",
     "output_type": "error",
     "traceback": [
      "\u001b[1;31m---------------------------------------------------------------------------\u001b[0m",
      "\u001b[1;31mFileNotFoundError\u001b[0m                         Traceback (most recent call last)",
      "\u001b[1;32m~\\AppData\\Local\\Temp/ipykernel_29200/1886889539.py\u001b[0m in \u001b[0;36m<module>\u001b[1;34m\u001b[0m\n\u001b[0;32m      1\u001b[0m \u001b[1;31m# Contains the phrases unique overall (no duplicates)\u001b[0m\u001b[1;33m\u001b[0m\u001b[1;33m\u001b[0m\u001b[0m\n\u001b[1;32m----> 2\u001b[1;33m \u001b[0mun_all\u001b[0m \u001b[1;33m=\u001b[0m \u001b[0mpd\u001b[0m\u001b[1;33m.\u001b[0m\u001b[0mread_csv\u001b[0m\u001b[1;33m(\u001b[0m\u001b[0mfp_unique\u001b[0m\u001b[1;33m,\u001b[0m \u001b[0mindex_col\u001b[0m\u001b[1;33m=\u001b[0m\u001b[1;36m0\u001b[0m\u001b[1;33m)\u001b[0m\u001b[1;33m\u001b[0m\u001b[1;33m\u001b[0m\u001b[0m\n\u001b[0m\u001b[0;32m      3\u001b[0m \u001b[0mun_all\u001b[0m \u001b[1;33m=\u001b[0m \u001b[0mun_all\u001b[0m\u001b[1;33m[\u001b[0m\u001b[0mun_all\u001b[0m\u001b[1;33m[\u001b[0m\u001b[1;34m'Year'\u001b[0m\u001b[1;33m]\u001b[0m \u001b[1;33m>=\u001b[0m \u001b[1;36m1968\u001b[0m\u001b[1;33m]\u001b[0m\u001b[1;33m\u001b[0m\u001b[1;33m\u001b[0m\u001b[0m\n\u001b[0;32m      4\u001b[0m \u001b[0mun_all\u001b[0m\u001b[1;33m\u001b[0m\u001b[1;33m\u001b[0m\u001b[0m\n",
      "\u001b[1;32m~\\AppData\\Local\\Programs\\Python\\Python39\\lib\\site-packages\\pandas\\util\\_decorators.py\u001b[0m in \u001b[0;36mwrapper\u001b[1;34m(*args, **kwargs)\u001b[0m\n\u001b[0;32m    309\u001b[0m                     \u001b[0mstacklevel\u001b[0m\u001b[1;33m=\u001b[0m\u001b[0mstacklevel\u001b[0m\u001b[1;33m,\u001b[0m\u001b[1;33m\u001b[0m\u001b[1;33m\u001b[0m\u001b[0m\n\u001b[0;32m    310\u001b[0m                 )\n\u001b[1;32m--> 311\u001b[1;33m             \u001b[1;32mreturn\u001b[0m \u001b[0mfunc\u001b[0m\u001b[1;33m(\u001b[0m\u001b[1;33m*\u001b[0m\u001b[0margs\u001b[0m\u001b[1;33m,\u001b[0m \u001b[1;33m**\u001b[0m\u001b[0mkwargs\u001b[0m\u001b[1;33m)\u001b[0m\u001b[1;33m\u001b[0m\u001b[1;33m\u001b[0m\u001b[0m\n\u001b[0m\u001b[0;32m    312\u001b[0m \u001b[1;33m\u001b[0m\u001b[0m\n\u001b[0;32m    313\u001b[0m         \u001b[1;32mreturn\u001b[0m \u001b[0mwrapper\u001b[0m\u001b[1;33m\u001b[0m\u001b[1;33m\u001b[0m\u001b[0m\n",
      "\u001b[1;32m~\\AppData\\Local\\Programs\\Python\\Python39\\lib\\site-packages\\pandas\\io\\parsers\\readers.py\u001b[0m in \u001b[0;36mread_csv\u001b[1;34m(filepath_or_buffer, sep, delimiter, header, names, index_col, usecols, squeeze, prefix, mangle_dupe_cols, dtype, engine, converters, true_values, false_values, skipinitialspace, skiprows, skipfooter, nrows, na_values, keep_default_na, na_filter, verbose, skip_blank_lines, parse_dates, infer_datetime_format, keep_date_col, date_parser, dayfirst, cache_dates, iterator, chunksize, compression, thousands, decimal, lineterminator, quotechar, quoting, doublequote, escapechar, comment, encoding, encoding_errors, dialect, error_bad_lines, warn_bad_lines, on_bad_lines, delim_whitespace, low_memory, memory_map, float_precision, storage_options)\u001b[0m\n\u001b[0;32m    584\u001b[0m     \u001b[0mkwds\u001b[0m\u001b[1;33m.\u001b[0m\u001b[0mupdate\u001b[0m\u001b[1;33m(\u001b[0m\u001b[0mkwds_defaults\u001b[0m\u001b[1;33m)\u001b[0m\u001b[1;33m\u001b[0m\u001b[1;33m\u001b[0m\u001b[0m\n\u001b[0;32m    585\u001b[0m \u001b[1;33m\u001b[0m\u001b[0m\n\u001b[1;32m--> 586\u001b[1;33m     \u001b[1;32mreturn\u001b[0m \u001b[0m_read\u001b[0m\u001b[1;33m(\u001b[0m\u001b[0mfilepath_or_buffer\u001b[0m\u001b[1;33m,\u001b[0m \u001b[0mkwds\u001b[0m\u001b[1;33m)\u001b[0m\u001b[1;33m\u001b[0m\u001b[1;33m\u001b[0m\u001b[0m\n\u001b[0m\u001b[0;32m    587\u001b[0m \u001b[1;33m\u001b[0m\u001b[0m\n\u001b[0;32m    588\u001b[0m \u001b[1;33m\u001b[0m\u001b[0m\n",
      "\u001b[1;32m~\\AppData\\Local\\Programs\\Python\\Python39\\lib\\site-packages\\pandas\\io\\parsers\\readers.py\u001b[0m in \u001b[0;36m_read\u001b[1;34m(filepath_or_buffer, kwds)\u001b[0m\n\u001b[0;32m    480\u001b[0m \u001b[1;33m\u001b[0m\u001b[0m\n\u001b[0;32m    481\u001b[0m     \u001b[1;31m# Create the parser.\u001b[0m\u001b[1;33m\u001b[0m\u001b[1;33m\u001b[0m\u001b[0m\n\u001b[1;32m--> 482\u001b[1;33m     \u001b[0mparser\u001b[0m \u001b[1;33m=\u001b[0m \u001b[0mTextFileReader\u001b[0m\u001b[1;33m(\u001b[0m\u001b[0mfilepath_or_buffer\u001b[0m\u001b[1;33m,\u001b[0m \u001b[1;33m**\u001b[0m\u001b[0mkwds\u001b[0m\u001b[1;33m)\u001b[0m\u001b[1;33m\u001b[0m\u001b[1;33m\u001b[0m\u001b[0m\n\u001b[0m\u001b[0;32m    483\u001b[0m \u001b[1;33m\u001b[0m\u001b[0m\n\u001b[0;32m    484\u001b[0m     \u001b[1;32mif\u001b[0m \u001b[0mchunksize\u001b[0m \u001b[1;32mor\u001b[0m \u001b[0miterator\u001b[0m\u001b[1;33m:\u001b[0m\u001b[1;33m\u001b[0m\u001b[1;33m\u001b[0m\u001b[0m\n",
      "\u001b[1;32m~\\AppData\\Local\\Programs\\Python\\Python39\\lib\\site-packages\\pandas\\io\\parsers\\readers.py\u001b[0m in \u001b[0;36m__init__\u001b[1;34m(self, f, engine, **kwds)\u001b[0m\n\u001b[0;32m    809\u001b[0m             \u001b[0mself\u001b[0m\u001b[1;33m.\u001b[0m\u001b[0moptions\u001b[0m\u001b[1;33m[\u001b[0m\u001b[1;34m\"has_index_names\"\u001b[0m\u001b[1;33m]\u001b[0m \u001b[1;33m=\u001b[0m \u001b[0mkwds\u001b[0m\u001b[1;33m[\u001b[0m\u001b[1;34m\"has_index_names\"\u001b[0m\u001b[1;33m]\u001b[0m\u001b[1;33m\u001b[0m\u001b[1;33m\u001b[0m\u001b[0m\n\u001b[0;32m    810\u001b[0m \u001b[1;33m\u001b[0m\u001b[0m\n\u001b[1;32m--> 811\u001b[1;33m         \u001b[0mself\u001b[0m\u001b[1;33m.\u001b[0m\u001b[0m_engine\u001b[0m \u001b[1;33m=\u001b[0m \u001b[0mself\u001b[0m\u001b[1;33m.\u001b[0m\u001b[0m_make_engine\u001b[0m\u001b[1;33m(\u001b[0m\u001b[0mself\u001b[0m\u001b[1;33m.\u001b[0m\u001b[0mengine\u001b[0m\u001b[1;33m)\u001b[0m\u001b[1;33m\u001b[0m\u001b[1;33m\u001b[0m\u001b[0m\n\u001b[0m\u001b[0;32m    812\u001b[0m \u001b[1;33m\u001b[0m\u001b[0m\n\u001b[0;32m    813\u001b[0m     \u001b[1;32mdef\u001b[0m \u001b[0mclose\u001b[0m\u001b[1;33m(\u001b[0m\u001b[0mself\u001b[0m\u001b[1;33m)\u001b[0m\u001b[1;33m:\u001b[0m\u001b[1;33m\u001b[0m\u001b[1;33m\u001b[0m\u001b[0m\n",
      "\u001b[1;32m~\\AppData\\Local\\Programs\\Python\\Python39\\lib\\site-packages\\pandas\\io\\parsers\\readers.py\u001b[0m in \u001b[0;36m_make_engine\u001b[1;34m(self, engine)\u001b[0m\n\u001b[0;32m   1038\u001b[0m             )\n\u001b[0;32m   1039\u001b[0m         \u001b[1;31m# error: Too many arguments for \"ParserBase\"\u001b[0m\u001b[1;33m\u001b[0m\u001b[1;33m\u001b[0m\u001b[0m\n\u001b[1;32m-> 1040\u001b[1;33m         \u001b[1;32mreturn\u001b[0m \u001b[0mmapping\u001b[0m\u001b[1;33m[\u001b[0m\u001b[0mengine\u001b[0m\u001b[1;33m]\u001b[0m\u001b[1;33m(\u001b[0m\u001b[0mself\u001b[0m\u001b[1;33m.\u001b[0m\u001b[0mf\u001b[0m\u001b[1;33m,\u001b[0m \u001b[1;33m**\u001b[0m\u001b[0mself\u001b[0m\u001b[1;33m.\u001b[0m\u001b[0moptions\u001b[0m\u001b[1;33m)\u001b[0m  \u001b[1;31m# type: ignore[call-arg]\u001b[0m\u001b[1;33m\u001b[0m\u001b[1;33m\u001b[0m\u001b[0m\n\u001b[0m\u001b[0;32m   1041\u001b[0m \u001b[1;33m\u001b[0m\u001b[0m\n\u001b[0;32m   1042\u001b[0m     \u001b[1;32mdef\u001b[0m \u001b[0m_failover_to_python\u001b[0m\u001b[1;33m(\u001b[0m\u001b[0mself\u001b[0m\u001b[1;33m)\u001b[0m\u001b[1;33m:\u001b[0m\u001b[1;33m\u001b[0m\u001b[1;33m\u001b[0m\u001b[0m\n",
      "\u001b[1;32m~\\AppData\\Local\\Programs\\Python\\Python39\\lib\\site-packages\\pandas\\io\\parsers\\c_parser_wrapper.py\u001b[0m in \u001b[0;36m__init__\u001b[1;34m(self, src, **kwds)\u001b[0m\n\u001b[0;32m     49\u001b[0m \u001b[1;33m\u001b[0m\u001b[0m\n\u001b[0;32m     50\u001b[0m         \u001b[1;31m# open handles\u001b[0m\u001b[1;33m\u001b[0m\u001b[1;33m\u001b[0m\u001b[0m\n\u001b[1;32m---> 51\u001b[1;33m         \u001b[0mself\u001b[0m\u001b[1;33m.\u001b[0m\u001b[0m_open_handles\u001b[0m\u001b[1;33m(\u001b[0m\u001b[0msrc\u001b[0m\u001b[1;33m,\u001b[0m \u001b[0mkwds\u001b[0m\u001b[1;33m)\u001b[0m\u001b[1;33m\u001b[0m\u001b[1;33m\u001b[0m\u001b[0m\n\u001b[0m\u001b[0;32m     52\u001b[0m         \u001b[1;32massert\u001b[0m \u001b[0mself\u001b[0m\u001b[1;33m.\u001b[0m\u001b[0mhandles\u001b[0m \u001b[1;32mis\u001b[0m \u001b[1;32mnot\u001b[0m \u001b[1;32mNone\u001b[0m\u001b[1;33m\u001b[0m\u001b[1;33m\u001b[0m\u001b[0m\n\u001b[0;32m     53\u001b[0m \u001b[1;33m\u001b[0m\u001b[0m\n",
      "\u001b[1;32m~\\AppData\\Local\\Programs\\Python\\Python39\\lib\\site-packages\\pandas\\io\\parsers\\base_parser.py\u001b[0m in \u001b[0;36m_open_handles\u001b[1;34m(self, src, kwds)\u001b[0m\n\u001b[0;32m    220\u001b[0m         \u001b[0mLet\u001b[0m \u001b[0mthe\u001b[0m \u001b[0mreaders\u001b[0m \u001b[0mopen\u001b[0m \u001b[0mIOHandles\u001b[0m \u001b[0mafter\u001b[0m \u001b[0mthey\u001b[0m \u001b[0mare\u001b[0m \u001b[0mdone\u001b[0m \u001b[1;32mwith\u001b[0m \u001b[0mtheir\u001b[0m \u001b[0mpotential\u001b[0m \u001b[0mraises\u001b[0m\u001b[1;33m.\u001b[0m\u001b[1;33m\u001b[0m\u001b[1;33m\u001b[0m\u001b[0m\n\u001b[0;32m    221\u001b[0m         \"\"\"\n\u001b[1;32m--> 222\u001b[1;33m         self.handles = get_handle(\n\u001b[0m\u001b[0;32m    223\u001b[0m             \u001b[0msrc\u001b[0m\u001b[1;33m,\u001b[0m\u001b[1;33m\u001b[0m\u001b[1;33m\u001b[0m\u001b[0m\n\u001b[0;32m    224\u001b[0m             \u001b[1;34m\"r\"\u001b[0m\u001b[1;33m,\u001b[0m\u001b[1;33m\u001b[0m\u001b[1;33m\u001b[0m\u001b[0m\n",
      "\u001b[1;32m~\\AppData\\Local\\Programs\\Python\\Python39\\lib\\site-packages\\pandas\\io\\common.py\u001b[0m in \u001b[0;36mget_handle\u001b[1;34m(path_or_buf, mode, encoding, compression, memory_map, is_text, errors, storage_options)\u001b[0m\n\u001b[0;32m    700\u001b[0m         \u001b[1;32mif\u001b[0m \u001b[0mioargs\u001b[0m\u001b[1;33m.\u001b[0m\u001b[0mencoding\u001b[0m \u001b[1;32mand\u001b[0m \u001b[1;34m\"b\"\u001b[0m \u001b[1;32mnot\u001b[0m \u001b[1;32min\u001b[0m \u001b[0mioargs\u001b[0m\u001b[1;33m.\u001b[0m\u001b[0mmode\u001b[0m\u001b[1;33m:\u001b[0m\u001b[1;33m\u001b[0m\u001b[1;33m\u001b[0m\u001b[0m\n\u001b[0;32m    701\u001b[0m             \u001b[1;31m# Encoding\u001b[0m\u001b[1;33m\u001b[0m\u001b[1;33m\u001b[0m\u001b[0m\n\u001b[1;32m--> 702\u001b[1;33m             handle = open(\n\u001b[0m\u001b[0;32m    703\u001b[0m                 \u001b[0mhandle\u001b[0m\u001b[1;33m,\u001b[0m\u001b[1;33m\u001b[0m\u001b[1;33m\u001b[0m\u001b[0m\n\u001b[0;32m    704\u001b[0m                 \u001b[0mioargs\u001b[0m\u001b[1;33m.\u001b[0m\u001b[0mmode\u001b[0m\u001b[1;33m,\u001b[0m\u001b[1;33m\u001b[0m\u001b[1;33m\u001b[0m\u001b[0m\n",
      "\u001b[1;31mFileNotFoundError\u001b[0m: [Errno 2] No such file or directory: '../results/dblp-v10-phrases-unique.csv'"
     ]
    }
   ],
   "source": [
    "# Contains the phrases unique overall (no duplicates)\n",
    "un_all = pd.read_csv(fp_unique, index_col=0)\n",
    "un_all = un_all[un_all['Year'] >= 1968]\n",
    "un_all"
   ]
  },
  {
   "cell_type": "code",
   "execution_count": null,
   "id": "b8e3f2ca",
   "metadata": {},
   "outputs": [],
   "source": [
    "# Contains the phrases unique by year (there can be duplicates across years)\n",
    "uby = pd.read_csv(fp_uniquebyyear, index_col=0)\n",
    "uby = uby[uby['Year'] >= 1968]\n",
    "uby = uby.dropna()\n",
    "uby"
   ]
  },
  {
   "cell_type": "code",
   "execution_count": null,
   "id": "8506ca3e",
   "metadata": {
    "scrolled": true
   },
   "outputs": [],
   "source": [
    "# Only keeps the phrases that show up multiple times across years (so we can look for trends)\n",
    "uby_dups = uby.copy()\n",
    "uby_dups = uby_dups[uby_dups['Phrase'].duplicated(keep=False)]\n",
    "uby_dups"
   ]
  },
  {
   "cell_type": "code",
   "execution_count": null,
   "id": "7f790ab1",
   "metadata": {},
   "outputs": [],
   "source": [
    "uby_dups['Phrase'].value_counts()[:10]"
   ]
  },
  {
   "cell_type": "code",
   "execution_count": null,
   "id": "c2507595",
   "metadata": {},
   "outputs": [],
   "source": [
    "uby_dups[uby_dups['Phrase'] == 'image processing']['Year'].values"
   ]
  },
  {
   "cell_type": "markdown",
   "id": "569dc04f",
   "metadata": {},
   "source": [
    "# Phrase matching/similarity for input papers (title + abstract)"
   ]
  },
  {
   "cell_type": "code",
   "execution_count": null,
   "id": "466ead01",
   "metadata": {},
   "outputs": [],
   "source": [
    "# Given an input paper (title + abstract), extract the phrases within it and return the\n",
    "# similar phrases found in the AutoPhrase results.\n",
    "# Can use Levenshtein distance to find similar strings, or just use direct phrase matching"
   ]
  },
  {
   "cell_type": "code",
   "execution_count": null,
   "id": "7eb64645",
   "metadata": {},
   "outputs": [],
   "source": [
    "test_fp = '../data/arxiv/csv/2016.csv'"
   ]
  },
  {
   "cell_type": "code",
   "execution_count": null,
   "id": "e407bc10",
   "metadata": {},
   "outputs": [],
   "source": [
    "test_data = pd.read_csv(test_fp)\n",
    "test_data.head()"
   ]
  },
  {
   "cell_type": "code",
   "execution_count": null,
   "id": "7399da88",
   "metadata": {},
   "outputs": [],
   "source": [
    "test_data['Title'][0] + ' ' + test_data['Abstract'][0]"
   ]
  },
  {
   "cell_type": "code",
   "execution_count": null,
   "id": "3240b32a",
   "metadata": {},
   "outputs": [],
   "source": [
    "uby"
   ]
  },
  {
   "cell_type": "code",
   "execution_count": null,
   "id": "c68c8c56",
   "metadata": {},
   "outputs": [],
   "source": [
    "input_phrase = 'convolutional neural networks'"
   ]
  },
  {
   "cell_type": "code",
   "execution_count": null,
   "id": "2850fb2c",
   "metadata": {},
   "outputs": [],
   "source": [
    "valid_ix = uby.apply(lambda x: x['Phrase'][0] == 'c' if isinstance(x['Phrase'], str) else False, axis=1)\n",
    "valid_ix"
   ]
  },
  {
   "cell_type": "code",
   "execution_count": null,
   "id": "2c92bab3",
   "metadata": {},
   "outputs": [],
   "source": [
    "unique_phrases = uby[valid_ix]['Phrase'].unique()\n",
    "unique_phrases"
   ]
  },
  {
   "cell_type": "code",
   "execution_count": null,
   "id": "e1e3a849",
   "metadata": {},
   "outputs": [],
   "source": [
    "candidate = ''\n",
    "dist = float('inf')\n",
    "for phrase in unique_phrases:\n",
    "    diff = Lv.distance(input_phrase, phrase)\n",
    "    if diff < dist:\n",
    "        candidate = phrase\n",
    "        dist = diff"
   ]
  },
  {
   "cell_type": "code",
   "execution_count": null,
   "id": "1806a7e3",
   "metadata": {},
   "outputs": [],
   "source": [
    "candidate"
   ]
  },
  {
   "cell_type": "code",
   "execution_count": null,
   "id": "747af00f",
   "metadata": {},
   "outputs": [],
   "source": [
    "dist"
   ]
  },
  {
   "cell_type": "code",
   "execution_count": null,
   "id": "628e5e63",
   "metadata": {},
   "outputs": [],
   "source": [
    "uby[uby['Phrase'] == 'convolutional neural networks']"
   ]
  },
  {
   "cell_type": "code",
   "execution_count": null,
   "id": "5a41c6ad",
   "metadata": {},
   "outputs": [],
   "source": [
    "# Same approach, but keeping track of all candidates this time"
   ]
  },
  {
   "cell_type": "code",
   "execution_count": null,
   "id": "5049a93e",
   "metadata": {},
   "outputs": [],
   "source": [
    "candidates = []\n",
    "for phrase in unique_phrases:\n",
    "    dist = Lv.distance(input_phrase, phrase)\n",
    "    candidates.append((dist, phrase))"
   ]
  },
  {
   "cell_type": "code",
   "execution_count": null,
   "id": "4b5cda7c",
   "metadata": {},
   "outputs": [],
   "source": [
    "candidates.sort()"
   ]
  },
  {
   "cell_type": "code",
   "execution_count": null,
   "id": "7587a8b5",
   "metadata": {},
   "outputs": [],
   "source": [
    "candidates[:10]"
   ]
  },
  {
   "cell_type": "code",
   "execution_count": null,
   "id": "faee5e5c",
   "metadata": {},
   "outputs": [],
   "source": [
    "# Using df.apply so we can look at all phrases, not just phrases that start with the same letter"
   ]
  },
  {
   "cell_type": "code",
   "execution_count": null,
   "id": "409b65d7",
   "metadata": {},
   "outputs": [],
   "source": [
    "uby_test = uby.copy()\n",
    "uby_test['Dist'] = uby_test.apply(lambda x: Lv.distance(input_phrase, x['Phrase']) if isinstance(x['Phrase'], str) else float('inf'), axis=1)\n",
    "uby_test"
   ]
  },
  {
   "cell_type": "code",
   "execution_count": null,
   "id": "3219a42d",
   "metadata": {},
   "outputs": [],
   "source": [
    "uby_test.sort_values('Dist')[:10]"
   ]
  },
  {
   "cell_type": "code",
   "execution_count": null,
   "id": "a83a81f3",
   "metadata": {},
   "outputs": [],
   "source": [
    "# Testing on the unique overall df"
   ]
  },
  {
   "cell_type": "code",
   "execution_count": null,
   "id": "91f00f89",
   "metadata": {},
   "outputs": [],
   "source": [
    "un_all_test = un_all.copy()\n",
    "un_all_test['Dist'] = un_all_test.apply(lambda x: Lv.distance(input_phrase, x['Phrase']) if isinstance(x['Phrase'], str) else float('inf'), axis=1)\n",
    "un_all_test.head()"
   ]
  },
  {
   "cell_type": "code",
   "execution_count": null,
   "id": "0e271bdd",
   "metadata": {},
   "outputs": [],
   "source": [
    "un_all_test.sort_values('Dist')[:20]"
   ]
  },
  {
   "cell_type": "code",
   "execution_count": null,
   "id": "f987790e",
   "metadata": {},
   "outputs": [],
   "source": [
    "# Consolidating results\n",
    "# Can start with the most common phrases and change phrases that are close enough (distance <= 5?)\n",
    "counts = uby.groupby('Phrase').size()"
   ]
  },
  {
   "cell_type": "code",
   "execution_count": null,
   "id": "3b01c105",
   "metadata": {},
   "outputs": [],
   "source": [
    "# num_years tells us how many years the phrase has shown up in\n",
    "uby['num_years'] = uby.apply(lambda x: counts[x['Phrase']], axis=1)"
   ]
  },
  {
   "cell_type": "code",
   "execution_count": null,
   "id": "3ab02301",
   "metadata": {},
   "outputs": [],
   "source": [
    "uby.head()"
   ]
  },
  {
   "cell_type": "markdown",
   "id": "044fc25b",
   "metadata": {},
   "source": [
    "# Model generation"
   ]
  },
  {
   "cell_type": "code",
   "execution_count": null,
   "id": "728ff2d3",
   "metadata": {},
   "outputs": [],
   "source": [
    "# x: Phrase, Phrase Quality, num_years\n",
    "# Phrase needs to be one hot encoded\n",
    "# y: Only the year (may need to use the unique overall dataframe?)\n",
    "\n",
    "# For phrase quality - standard scaler by year?\n",
    "# For num_years - normalize overall"
   ]
  },
  {
   "cell_type": "code",
   "execution_count": null,
   "id": "2e81f367",
   "metadata": {},
   "outputs": [],
   "source": [
    "from sklearn.preprocessing import StandardScaler\n",
    "std_pipe = Pipeline([('scale', StandardScaler())])\n",
    "ohe_pipe = Pipeline([('one-hot', OneHotEncoder(handle_unknown='ignore'))])\n",
    "ct = ColumnTransformer(transformers=[('ohe', ohe_pipe, ['Phrase']),\n",
    "                                     ('scale', std_pipe, ['num_years']),\n",
    "                                    ('keep', 'passthrough', ['Phrase Quality'])])\n",
    "pl = Pipeline([('transform', ct), ('classifier', DecisionTreeClassifier())])"
   ]
  },
  {
   "cell_type": "code",
   "execution_count": null,
   "id": "8981b674",
   "metadata": {},
   "outputs": [],
   "source": [
    "# Set random seed\n",
    "X_train, X_test, y_train, y_test = train_test_split(uby[['Phrase', 'num_years', 'Phrase Quality']],\n",
    "                                                    uby['Year'],\n",
    "                                                    random_state=1)"
   ]
  },
  {
   "cell_type": "code",
   "execution_count": null,
   "id": "c6464599",
   "metadata": {},
   "outputs": [],
   "source": [
    "_ = pl.fit(X_train, y_train)"
   ]
  },
  {
   "cell_type": "code",
   "execution_count": null,
   "id": "c570563e",
   "metadata": {},
   "outputs": [],
   "source": [
    "# Mean accuracy - 8% accurate\n",
    "pl.score(X_test, y_test)"
   ]
  },
  {
   "cell_type": "code",
   "execution_count": null,
   "id": "3cdc2aac",
   "metadata": {},
   "outputs": [],
   "source": [
    "X_test['Predicted Year'] = pl.predict(X_test)\n",
    "X_test['Year'] = y_test\n",
    "X_test['Abs Year Diff'] = abs(X_test['Year'] - X_test['Predicted Year'])"
   ]
  },
  {
   "cell_type": "code",
   "execution_count": null,
   "id": "8fbd4d4a",
   "metadata": {},
   "outputs": [],
   "source": [
    "X_test"
   ]
  },
  {
   "cell_type": "code",
   "execution_count": null,
   "id": "9d61ffa3",
   "metadata": {},
   "outputs": [],
   "source": [
    "X_test['Abs Year Diff'].mean()"
   ]
  },
  {
   "cell_type": "code",
   "execution_count": null,
   "id": "39655f90",
   "metadata": {},
   "outputs": [],
   "source": [
    "# THINGS TO TEST:\n",
    "# Using the unique by year dataframe, then only keeping one instance of duplicate phrases\n",
    "# but replace the year with the average (or median) of the years\n",
    "# Normalizing the numeric features\n",
    "\n",
    "# Try using phrasal segmentation model to run on a single paper title + abstract\n",
    "# Or a single paper full paper text\n",
    "\n",
    "# Try grouping by papers by a range of years (maybe 5)"
   ]
  },
  {
   "cell_type": "code",
   "execution_count": null,
   "id": "172552bc",
   "metadata": {},
   "outputs": [],
   "source": [
    "X_train[X_train['Phrase']=='convolutional neural networks']"
   ]
  },
  {
   "cell_type": "code",
   "execution_count": null,
   "id": "ddf10e1c",
   "metadata": {},
   "outputs": [],
   "source": [
    "test = pd.DataFrame([[1.0, 'convolutional neural networks', 2005, 6]], columns=['Phrase Quality', 'Phrase', 'Year', 'num_years'])\n",
    "test"
   ]
  },
  {
   "cell_type": "code",
   "execution_count": null,
   "id": "44d83a6e",
   "metadata": {},
   "outputs": [],
   "source": [
    "pl.predict(test[['Phrase', 'num_years', 'Phrase Quality']])"
   ]
  },
  {
   "cell_type": "code",
   "execution_count": null,
   "id": "b451fc50",
   "metadata": {},
   "outputs": [],
   "source": [
    "uby[uby['Phrase'] == 'convolutional neural networks']"
   ]
  },
  {
   "cell_type": "code",
   "execution_count": null,
   "id": "8b5e4be0",
   "metadata": {},
   "outputs": [],
   "source": [
    "test = pd.DataFrame([[1.0, 'artificial intelligence', 2005, 6]], columns=['Phrase Quality', 'Phrase', 'Year', 'num_years'])\n",
    "test"
   ]
  },
  {
   "cell_type": "code",
   "execution_count": null,
   "id": "f7a22f88",
   "metadata": {},
   "outputs": [],
   "source": [
    "pl.predict(test[['Phrase', 'num_years', 'Phrase Quality']])"
   ]
  },
  {
   "cell_type": "code",
   "execution_count": null,
   "id": "234f882a",
   "metadata": {},
   "outputs": [],
   "source": []
  },
  {
   "cell_type": "markdown",
   "id": "d6d947ff",
   "metadata": {},
   "source": [
    "# Baseline model testing with grouped phrases"
   ]
  },
  {
   "cell_type": "code",
   "execution_count": null,
   "id": "7fae5ab0",
   "metadata": {},
   "outputs": [],
   "source": [
    "df = pd.read_csv('../results/dblp-v10-grouped/dblp-v10-grouped-phrases.csv', index_col=0)\n",
    "df = df[4:]\n",
    "df = df.dropna()"
   ]
  },
  {
   "cell_type": "code",
   "execution_count": null,
   "id": "6a57893a",
   "metadata": {},
   "outputs": [],
   "source": [
    "# num_years is slightly different since we grouped years now\n",
    "counts = df.groupby('Phrase').size()\n",
    "df['num_years'] = df.apply(lambda x: counts[x['Phrase']], axis=1)"
   ]
  },
  {
   "cell_type": "code",
   "execution_count": null,
   "id": "19b3250c",
   "metadata": {},
   "outputs": [],
   "source": [
    "df.head()"
   ]
  },
  {
   "cell_type": "code",
   "execution_count": null,
   "id": "63d60a44",
   "metadata": {},
   "outputs": [],
   "source": [
    "std_pipe = Pipeline([('scale', StandardScaler())])\n",
    "ohe_pipe = Pipeline([('one-hot', OneHotEncoder(handle_unknown='ignore'))])\n",
    "ct = ColumnTransformer(transformers=[('ohe', ohe_pipe, ['Phrase']),\n",
    "                                     ('scale', std_pipe, ['num_years']),\n",
    "                                    ('keep', 'passthrough', ['Phrase Quality'])])\n",
    "pl = Pipeline([('transform', ct), ('classifier', DecisionTreeClassifier())])"
   ]
  },
  {
   "cell_type": "code",
   "execution_count": null,
   "id": "e3e655e9",
   "metadata": {},
   "outputs": [],
   "source": [
    "X_train, X_test, y_train, y_test = train_test_split(df[['Phrase', 'num_years', 'Phrase Quality']],\n",
    "                                                    df['Year'],\n",
    "                                                    random_state=1)"
   ]
  },
  {
   "cell_type": "code",
   "execution_count": null,
   "id": "adf64b5a",
   "metadata": {},
   "outputs": [],
   "source": [
    "_ = pl.fit(X_train, y_train)"
   ]
  },
  {
   "cell_type": "code",
   "execution_count": null,
   "id": "6231af16",
   "metadata": {},
   "outputs": [],
   "source": [
    "# 42.5% accuracy\n",
    "pl.score(X_test, y_test)"
   ]
  },
  {
   "cell_type": "code",
   "execution_count": null,
   "id": "6869eed6",
   "metadata": {},
   "outputs": [],
   "source": [
    "X_test['Predicted Year'] = pl.predict(X_test)\n",
    "X_test['Year'] = y_test"
   ]
  },
  {
   "cell_type": "code",
   "execution_count": null,
   "id": "dd6d1f10",
   "metadata": {},
   "outputs": [],
   "source": [
    "X_test"
   ]
  },
  {
   "cell_type": "code",
   "execution_count": null,
   "id": "9571340f",
   "metadata": {},
   "outputs": [],
   "source": [
    "# How does the accuracy compare to just guessing the most common?\n",
    "X_test['Year'].value_counts()"
   ]
  },
  {
   "cell_type": "code",
   "execution_count": null,
   "id": "ccb05f09",
   "metadata": {},
   "outputs": [],
   "source": [
    "(y_test == '2010-2014').mean()"
   ]
  },
  {
   "cell_type": "markdown",
   "id": "576ae257",
   "metadata": {},
   "source": [
    "# Refined model"
   ]
  },
  {
   "cell_type": "code",
   "execution_count": null,
   "id": "3b44b822",
   "metadata": {},
   "outputs": [],
   "source": [
    "# Potential other classifiers to use\n",
    "# K nearest neighbor\n",
    "# Naive Bayes\n",
    "# Linear Discriminant\n",
    "# Support Vector Machines"
   ]
  },
  {
   "cell_type": "code",
   "execution_count": null,
   "id": "4975aa21",
   "metadata": {},
   "outputs": [],
   "source": []
  },
  {
   "cell_type": "code",
   "execution_count": null,
   "id": "75f5d93f",
   "metadata": {},
   "outputs": [],
   "source": []
  },
  {
   "cell_type": "code",
   "execution_count": null,
   "id": "e7d5871e",
   "metadata": {},
   "outputs": [],
   "source": []
  }
 ],
 "metadata": {
  "kernelspec": {
   "display_name": "Python 3 (ipykernel)",
   "language": "python",
   "name": "python3"
  },
  "language_info": {
   "codemirror_mode": {
    "name": "ipython",
    "version": 3
   },
   "file_extension": ".py",
   "mimetype": "text/x-python",
   "name": "python",
   "nbconvert_exporter": "python",
   "pygments_lexer": "ipython3",
   "version": "3.9.7"
  }
 },
 "nbformat": 4,
 "nbformat_minor": 5
}
